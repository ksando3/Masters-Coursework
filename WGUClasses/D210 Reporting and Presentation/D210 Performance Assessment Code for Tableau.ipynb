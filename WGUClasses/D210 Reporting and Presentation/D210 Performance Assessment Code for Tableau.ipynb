{
 "cells": [
  {
   "cell_type": "code",
   "execution_count": 1,
   "id": "10c519de",
   "metadata": {},
   "outputs": [],
   "source": [
    "# import all necessary packages\n",
    "import numpy as np\n",
    "import pandas as pd\n",
    "import matplotlib.pyplot as plt\n",
    "import missingno as msno\n",
    "import seaborn\n",
    "import warnings\n",
    "warnings.filterwarnings('ignore')"
   ]
  },
  {
   "cell_type": "code",
   "execution_count": 2,
   "id": "7d25dcf1",
   "metadata": {},
   "outputs": [],
   "source": [
    "# Pulling in the data [In text citation: Bowne-Anderson, H. (n.d)]\n",
    "churned_data_WGU = pd.read_csv(\"C:/Users/cfman/OneDrive/Desktop/WGUClasses/D210 Reporting and Presentation/churn_clean.csv\")\n",
    "churned_data_Cali = pd.read_csv(\"C:/Users/cfman/OneDrive/Desktop/WGUClasses/D210 Reporting and Presentation/telecom_customer_churn.csv\")"
   ]
  },
  {
   "cell_type": "code",
   "execution_count": 3,
   "id": "46b7d8a8",
   "metadata": {},
   "outputs": [],
   "source": [
    "## I'm going to create a new dataframe that has just the information and columns that i will use for my analysis.\n",
    "## I want to use the same variables I used in D208\n",
    "\n",
    "churned_data_WGU = churned_data_WGU[['Age', 'Gender', 'Churn', 'Contract', 'PaperlessBilling','Tenure', \n",
    "                                     'MonthlyCharge', 'Bandwidth_GB_Year']]\n",
    "churned_data_Cali = churned_data_Cali[['Zip Code', 'Age', 'Gender', 'Customer Status', 'Contract', 'Paperless Billing', \n",
    "                                       'Tenure in Months', 'Monthly Charge', 'Avg Monthly GB Download']]\n"
   ]
  },
  {
   "cell_type": "code",
   "execution_count": 4,
   "id": "0b174aa6",
   "metadata": {},
   "outputs": [
    {
     "name": "stdout",
     "output_type": "stream",
     "text": [
      "(10000, 8)\n",
      "(7043, 9)\n"
     ]
    },
    {
     "data": {
      "text/plain": [
       "False    7043\n",
       "dtype: int64"
      ]
     },
     "execution_count": 4,
     "metadata": {},
     "output_type": "execute_result"
    }
   ],
   "source": [
    "# Before we get started into the actual cleaning, I want to check for duplicate values in case we need to edit those first\n",
    "# I am also going to check the shape of the dataframe to verify the rows and columns\n",
    "# [In text citation: Bowne-Anderson, H. (n.d)]\n",
    "print(churned_data_WGU.shape)\n",
    "print(churned_data_Cali.shape)\n",
    "\n",
    "duplicates_WGU = churned_data_WGU.duplicated(keep = False)\n",
    "duplicates_WGU.value_counts()\n",
    "\n",
    "duplicates = churned_data_Cali.duplicated(keep = False)\n",
    "duplicates.value_counts()"
   ]
  },
  {
   "cell_type": "code",
   "execution_count": 5,
   "id": "55853843",
   "metadata": {},
   "outputs": [
    {
     "data": {
      "text/html": [
       "<div>\n",
       "<style scoped>\n",
       "    .dataframe tbody tr th:only-of-type {\n",
       "        vertical-align: middle;\n",
       "    }\n",
       "\n",
       "    .dataframe tbody tr th {\n",
       "        vertical-align: top;\n",
       "    }\n",
       "\n",
       "    .dataframe thead th {\n",
       "        text-align: right;\n",
       "    }\n",
       "</style>\n",
       "<table border=\"1\" class=\"dataframe\">\n",
       "  <thead>\n",
       "    <tr style=\"text-align: right;\">\n",
       "      <th></th>\n",
       "      <th>Zip Code</th>\n",
       "      <th>Age</th>\n",
       "      <th>Gender</th>\n",
       "      <th>Customer Status</th>\n",
       "      <th>Contract</th>\n",
       "      <th>Paperless Billing</th>\n",
       "      <th>Tenure in Months</th>\n",
       "      <th>Monthly Charge</th>\n",
       "      <th>Avg Monthly GB Download</th>\n",
       "    </tr>\n",
       "  </thead>\n",
       "  <tbody>\n",
       "    <tr>\n",
       "      <th>0</th>\n",
       "      <td>93225</td>\n",
       "      <td>37</td>\n",
       "      <td>Female</td>\n",
       "      <td>Stayed</td>\n",
       "      <td>One Year</td>\n",
       "      <td>Yes</td>\n",
       "      <td>9</td>\n",
       "      <td>65.6</td>\n",
       "      <td>16.0</td>\n",
       "    </tr>\n",
       "    <tr>\n",
       "      <th>1</th>\n",
       "      <td>91206</td>\n",
       "      <td>46</td>\n",
       "      <td>Male</td>\n",
       "      <td>Stayed</td>\n",
       "      <td>Month-to-Month</td>\n",
       "      <td>No</td>\n",
       "      <td>9</td>\n",
       "      <td>-4.0</td>\n",
       "      <td>10.0</td>\n",
       "    </tr>\n",
       "    <tr>\n",
       "      <th>2</th>\n",
       "      <td>92627</td>\n",
       "      <td>50</td>\n",
       "      <td>Male</td>\n",
       "      <td>Churned</td>\n",
       "      <td>Month-to-Month</td>\n",
       "      <td>Yes</td>\n",
       "      <td>4</td>\n",
       "      <td>73.9</td>\n",
       "      <td>30.0</td>\n",
       "    </tr>\n",
       "    <tr>\n",
       "      <th>3</th>\n",
       "      <td>94553</td>\n",
       "      <td>78</td>\n",
       "      <td>Male</td>\n",
       "      <td>Churned</td>\n",
       "      <td>Month-to-Month</td>\n",
       "      <td>Yes</td>\n",
       "      <td>13</td>\n",
       "      <td>98.0</td>\n",
       "      <td>4.0</td>\n",
       "    </tr>\n",
       "    <tr>\n",
       "      <th>4</th>\n",
       "      <td>93010</td>\n",
       "      <td>75</td>\n",
       "      <td>Female</td>\n",
       "      <td>Churned</td>\n",
       "      <td>Month-to-Month</td>\n",
       "      <td>Yes</td>\n",
       "      <td>3</td>\n",
       "      <td>83.9</td>\n",
       "      <td>11.0</td>\n",
       "    </tr>\n",
       "  </tbody>\n",
       "</table>\n",
       "</div>"
      ],
      "text/plain": [
       "   Zip Code  Age  Gender Customer Status        Contract Paperless Billing  \\\n",
       "0     93225   37  Female          Stayed        One Year               Yes   \n",
       "1     91206   46    Male          Stayed  Month-to-Month                No   \n",
       "2     92627   50    Male         Churned  Month-to-Month               Yes   \n",
       "3     94553   78    Male         Churned  Month-to-Month               Yes   \n",
       "4     93010   75  Female         Churned  Month-to-Month               Yes   \n",
       "\n",
       "   Tenure in Months  Monthly Charge  Avg Monthly GB Download  \n",
       "0                 9            65.6                     16.0  \n",
       "1                 9            -4.0                     10.0  \n",
       "2                 4            73.9                     30.0  \n",
       "3                13            98.0                      4.0  \n",
       "4                 3            83.9                     11.0  "
      ]
     },
     "execution_count": 5,
     "metadata": {},
     "output_type": "execute_result"
    }
   ],
   "source": [
    "churned_data_Cali.head()"
   ]
  },
  {
   "cell_type": "code",
   "execution_count": 6,
   "id": "a90fa682",
   "metadata": {},
   "outputs": [
    {
     "data": {
      "text/html": [
       "<div>\n",
       "<style scoped>\n",
       "    .dataframe tbody tr th:only-of-type {\n",
       "        vertical-align: middle;\n",
       "    }\n",
       "\n",
       "    .dataframe tbody tr th {\n",
       "        vertical-align: top;\n",
       "    }\n",
       "\n",
       "    .dataframe thead th {\n",
       "        text-align: right;\n",
       "    }\n",
       "</style>\n",
       "<table border=\"1\" class=\"dataframe\">\n",
       "  <thead>\n",
       "    <tr style=\"text-align: right;\">\n",
       "      <th></th>\n",
       "      <th>Age</th>\n",
       "      <th>Gender</th>\n",
       "      <th>Churn</th>\n",
       "      <th>Contract</th>\n",
       "      <th>PaperlessBilling</th>\n",
       "      <th>Tenure</th>\n",
       "      <th>MonthlyCharge</th>\n",
       "      <th>Bandwidth_GB_Year</th>\n",
       "    </tr>\n",
       "  </thead>\n",
       "  <tbody>\n",
       "    <tr>\n",
       "      <th>0</th>\n",
       "      <td>68</td>\n",
       "      <td>Male</td>\n",
       "      <td>No</td>\n",
       "      <td>One year</td>\n",
       "      <td>Yes</td>\n",
       "      <td>6.795513</td>\n",
       "      <td>172.455519</td>\n",
       "      <td>904.536110</td>\n",
       "    </tr>\n",
       "    <tr>\n",
       "      <th>1</th>\n",
       "      <td>27</td>\n",
       "      <td>Female</td>\n",
       "      <td>Yes</td>\n",
       "      <td>Month-to-month</td>\n",
       "      <td>Yes</td>\n",
       "      <td>1.156681</td>\n",
       "      <td>242.632554</td>\n",
       "      <td>800.982766</td>\n",
       "    </tr>\n",
       "    <tr>\n",
       "      <th>2</th>\n",
       "      <td>50</td>\n",
       "      <td>Female</td>\n",
       "      <td>No</td>\n",
       "      <td>Two Year</td>\n",
       "      <td>Yes</td>\n",
       "      <td>15.754144</td>\n",
       "      <td>159.947583</td>\n",
       "      <td>2054.706961</td>\n",
       "    </tr>\n",
       "    <tr>\n",
       "      <th>3</th>\n",
       "      <td>48</td>\n",
       "      <td>Male</td>\n",
       "      <td>No</td>\n",
       "      <td>Two Year</td>\n",
       "      <td>Yes</td>\n",
       "      <td>17.087227</td>\n",
       "      <td>119.956840</td>\n",
       "      <td>2164.579412</td>\n",
       "    </tr>\n",
       "    <tr>\n",
       "      <th>4</th>\n",
       "      <td>83</td>\n",
       "      <td>Male</td>\n",
       "      <td>Yes</td>\n",
       "      <td>Month-to-month</td>\n",
       "      <td>No</td>\n",
       "      <td>1.670972</td>\n",
       "      <td>149.948316</td>\n",
       "      <td>271.493436</td>\n",
       "    </tr>\n",
       "  </tbody>\n",
       "</table>\n",
       "</div>"
      ],
      "text/plain": [
       "   Age  Gender Churn        Contract PaperlessBilling     Tenure  \\\n",
       "0   68    Male    No        One year              Yes   6.795513   \n",
       "1   27  Female   Yes  Month-to-month              Yes   1.156681   \n",
       "2   50  Female    No        Two Year              Yes  15.754144   \n",
       "3   48    Male    No        Two Year              Yes  17.087227   \n",
       "4   83    Male   Yes  Month-to-month               No   1.670972   \n",
       "\n",
       "   MonthlyCharge  Bandwidth_GB_Year  \n",
       "0     172.455519         904.536110  \n",
       "1     242.632554         800.982766  \n",
       "2     159.947583        2054.706961  \n",
       "3     119.956840        2164.579412  \n",
       "4     149.948316         271.493436  "
      ]
     },
     "execution_count": 6,
     "metadata": {},
     "output_type": "execute_result"
    }
   ],
   "source": [
    "churned_data_WGU.head()"
   ]
  },
  {
   "cell_type": "code",
   "execution_count": 7,
   "id": "2ef2fbaa",
   "metadata": {},
   "outputs": [
    {
     "data": {
      "text/html": [
       "<div>\n",
       "<style scoped>\n",
       "    .dataframe tbody tr th:only-of-type {\n",
       "        vertical-align: middle;\n",
       "    }\n",
       "\n",
       "    .dataframe tbody tr th {\n",
       "        vertical-align: top;\n",
       "    }\n",
       "\n",
       "    .dataframe thead th {\n",
       "        text-align: right;\n",
       "    }\n",
       "</style>\n",
       "<table border=\"1\" class=\"dataframe\">\n",
       "  <thead>\n",
       "    <tr style=\"text-align: right;\">\n",
       "      <th></th>\n",
       "      <th>Zip Code</th>\n",
       "      <th>Age</th>\n",
       "      <th>Gender</th>\n",
       "      <th>Churn</th>\n",
       "      <th>Contract</th>\n",
       "      <th>PaperlessBilling</th>\n",
       "      <th>Tenure</th>\n",
       "      <th>MonthlyCharge</th>\n",
       "      <th>Bandwidth_GB_Month</th>\n",
       "    </tr>\n",
       "  </thead>\n",
       "  <tbody>\n",
       "    <tr>\n",
       "      <th>0</th>\n",
       "      <td>93225</td>\n",
       "      <td>37</td>\n",
       "      <td>Female</td>\n",
       "      <td>Stayed</td>\n",
       "      <td>One Year</td>\n",
       "      <td>Yes</td>\n",
       "      <td>9</td>\n",
       "      <td>65.6</td>\n",
       "      <td>16.0</td>\n",
       "    </tr>\n",
       "    <tr>\n",
       "      <th>1</th>\n",
       "      <td>91206</td>\n",
       "      <td>46</td>\n",
       "      <td>Male</td>\n",
       "      <td>Stayed</td>\n",
       "      <td>Month-to-Month</td>\n",
       "      <td>No</td>\n",
       "      <td>9</td>\n",
       "      <td>-4.0</td>\n",
       "      <td>10.0</td>\n",
       "    </tr>\n",
       "    <tr>\n",
       "      <th>2</th>\n",
       "      <td>92627</td>\n",
       "      <td>50</td>\n",
       "      <td>Male</td>\n",
       "      <td>Churned</td>\n",
       "      <td>Month-to-Month</td>\n",
       "      <td>Yes</td>\n",
       "      <td>4</td>\n",
       "      <td>73.9</td>\n",
       "      <td>30.0</td>\n",
       "    </tr>\n",
       "    <tr>\n",
       "      <th>3</th>\n",
       "      <td>94553</td>\n",
       "      <td>78</td>\n",
       "      <td>Male</td>\n",
       "      <td>Churned</td>\n",
       "      <td>Month-to-Month</td>\n",
       "      <td>Yes</td>\n",
       "      <td>13</td>\n",
       "      <td>98.0</td>\n",
       "      <td>4.0</td>\n",
       "    </tr>\n",
       "    <tr>\n",
       "      <th>4</th>\n",
       "      <td>93010</td>\n",
       "      <td>75</td>\n",
       "      <td>Female</td>\n",
       "      <td>Churned</td>\n",
       "      <td>Month-to-Month</td>\n",
       "      <td>Yes</td>\n",
       "      <td>3</td>\n",
       "      <td>83.9</td>\n",
       "      <td>11.0</td>\n",
       "    </tr>\n",
       "  </tbody>\n",
       "</table>\n",
       "</div>"
      ],
      "text/plain": [
       "   Zip Code  Age  Gender    Churn        Contract PaperlessBilling  Tenure  \\\n",
       "0     93225   37  Female   Stayed        One Year              Yes       9   \n",
       "1     91206   46    Male   Stayed  Month-to-Month               No       9   \n",
       "2     92627   50    Male  Churned  Month-to-Month              Yes       4   \n",
       "3     94553   78    Male  Churned  Month-to-Month              Yes      13   \n",
       "4     93010   75  Female  Churned  Month-to-Month              Yes       3   \n",
       "\n",
       "   MonthlyCharge  Bandwidth_GB_Month  \n",
       "0           65.6                16.0  \n",
       "1           -4.0                10.0  \n",
       "2           73.9                30.0  \n",
       "3           98.0                 4.0  \n",
       "4           83.9                11.0  "
      ]
     },
     "execution_count": 7,
     "metadata": {},
     "output_type": "execute_result"
    }
   ],
   "source": [
    "## Setting all column names to the same thing for ease of access later\n",
    "churned_data_Cali.rename(columns = {'Customer Status' : 'Churn', 'Paperless Billing' : 'PaperlessBilling', \n",
    "                                   'Tenure in Months' : 'Tenure', 'Monthly Charge': 'MonthlyCharge', \n",
    "                                    'Avg Monthly GB Download' : 'Bandwidth_GB_Month'}, inplace = True)\n",
    "churned_data_Cali.head()"
   ]
  },
  {
   "cell_type": "code",
   "execution_count": 8,
   "id": "bb044b99",
   "metadata": {},
   "outputs": [
    {
     "data": {
      "text/plain": [
       "array(['Stayed', 'Churned', 'Joined'], dtype=object)"
      ]
     },
     "execution_count": 8,
     "metadata": {},
     "output_type": "execute_result"
    }
   ],
   "source": [
    "churned_data_Cali['Churn'].unique()"
   ]
  },
  {
   "cell_type": "code",
   "execution_count": 9,
   "id": "10ad54e8",
   "metadata": {},
   "outputs": [
    {
     "data": {
      "text/html": [
       "<div>\n",
       "<style scoped>\n",
       "    .dataframe tbody tr th:only-of-type {\n",
       "        vertical-align: middle;\n",
       "    }\n",
       "\n",
       "    .dataframe tbody tr th {\n",
       "        vertical-align: top;\n",
       "    }\n",
       "\n",
       "    .dataframe thead th {\n",
       "        text-align: right;\n",
       "    }\n",
       "</style>\n",
       "<table border=\"1\" class=\"dataframe\">\n",
       "  <thead>\n",
       "    <tr style=\"text-align: right;\">\n",
       "      <th></th>\n",
       "      <th>Zip Code</th>\n",
       "      <th>Age</th>\n",
       "      <th>Gender</th>\n",
       "      <th>Churn</th>\n",
       "      <th>Contract</th>\n",
       "      <th>PaperlessBilling</th>\n",
       "      <th>Tenure</th>\n",
       "      <th>MonthlyCharge</th>\n",
       "      <th>Bandwidth_GB_Month</th>\n",
       "    </tr>\n",
       "  </thead>\n",
       "  <tbody>\n",
       "    <tr>\n",
       "      <th>0</th>\n",
       "      <td>93225</td>\n",
       "      <td>37</td>\n",
       "      <td>Female</td>\n",
       "      <td>No</td>\n",
       "      <td>One Year</td>\n",
       "      <td>Yes</td>\n",
       "      <td>9</td>\n",
       "      <td>65.6</td>\n",
       "      <td>16.0</td>\n",
       "    </tr>\n",
       "    <tr>\n",
       "      <th>1</th>\n",
       "      <td>91206</td>\n",
       "      <td>46</td>\n",
       "      <td>Male</td>\n",
       "      <td>No</td>\n",
       "      <td>Month-to-Month</td>\n",
       "      <td>No</td>\n",
       "      <td>9</td>\n",
       "      <td>-4.0</td>\n",
       "      <td>10.0</td>\n",
       "    </tr>\n",
       "    <tr>\n",
       "      <th>2</th>\n",
       "      <td>92627</td>\n",
       "      <td>50</td>\n",
       "      <td>Male</td>\n",
       "      <td>Yes</td>\n",
       "      <td>Month-to-Month</td>\n",
       "      <td>Yes</td>\n",
       "      <td>4</td>\n",
       "      <td>73.9</td>\n",
       "      <td>30.0</td>\n",
       "    </tr>\n",
       "    <tr>\n",
       "      <th>3</th>\n",
       "      <td>94553</td>\n",
       "      <td>78</td>\n",
       "      <td>Male</td>\n",
       "      <td>Yes</td>\n",
       "      <td>Month-to-Month</td>\n",
       "      <td>Yes</td>\n",
       "      <td>13</td>\n",
       "      <td>98.0</td>\n",
       "      <td>4.0</td>\n",
       "    </tr>\n",
       "    <tr>\n",
       "      <th>4</th>\n",
       "      <td>93010</td>\n",
       "      <td>75</td>\n",
       "      <td>Female</td>\n",
       "      <td>Yes</td>\n",
       "      <td>Month-to-Month</td>\n",
       "      <td>Yes</td>\n",
       "      <td>3</td>\n",
       "      <td>83.9</td>\n",
       "      <td>11.0</td>\n",
       "    </tr>\n",
       "  </tbody>\n",
       "</table>\n",
       "</div>"
      ],
      "text/plain": [
       "   Zip Code  Age  Gender Churn        Contract PaperlessBilling  Tenure  \\\n",
       "0     93225   37  Female    No        One Year              Yes       9   \n",
       "1     91206   46    Male    No  Month-to-Month               No       9   \n",
       "2     92627   50    Male   Yes  Month-to-Month              Yes       4   \n",
       "3     94553   78    Male   Yes  Month-to-Month              Yes      13   \n",
       "4     93010   75  Female   Yes  Month-to-Month              Yes       3   \n",
       "\n",
       "   MonthlyCharge  Bandwidth_GB_Month  \n",
       "0           65.6                16.0  \n",
       "1           -4.0                10.0  \n",
       "2           73.9                30.0  \n",
       "3           98.0                 4.0  \n",
       "4           83.9                11.0  "
      ]
     },
     "execution_count": 9,
     "metadata": {},
     "output_type": "execute_result"
    }
   ],
   "source": [
    "churned_data_Cali['Churn'] = churned_data_Cali['Churn'].replace({'Stayed': 'No', 'Churned': 'Yes', 'Joined' : 'No'})\n",
    "churned_data_Cali.head()"
   ]
  },
  {
   "cell_type": "code",
   "execution_count": 10,
   "id": "e58190d1",
   "metadata": {},
   "outputs": [
    {
     "data": {
      "text/plain": [
       "array(['One Year', 'Month-to-Month', 'Two Year'], dtype=object)"
      ]
     },
     "execution_count": 10,
     "metadata": {},
     "output_type": "execute_result"
    }
   ],
   "source": [
    "churned_data_Cali['Contract'].unique()"
   ]
  },
  {
   "cell_type": "code",
   "execution_count": 11,
   "id": "12484b55",
   "metadata": {},
   "outputs": [
    {
     "data": {
      "text/plain": [
       "array(['One year', 'Month-to-month', 'Two Year'], dtype=object)"
      ]
     },
     "execution_count": 11,
     "metadata": {},
     "output_type": "execute_result"
    }
   ],
   "source": [
    "churned_data_WGU['Contract'].unique()"
   ]
  },
  {
   "cell_type": "code",
   "execution_count": 12,
   "id": "00388d8a",
   "metadata": {},
   "outputs": [
    {
     "data": {
      "text/plain": [
       "array(['One year', 'Month-to-Month', 'Two Year'], dtype=object)"
      ]
     },
     "execution_count": 12,
     "metadata": {},
     "output_type": "execute_result"
    }
   ],
   "source": [
    "churned_data_WGU['Contract'] = churned_data_WGU['Contract'].replace({'Month-to-month' : 'Month-to-Month'})\n",
    "churned_data_WGU['Contract'].unique()"
   ]
  },
  {
   "cell_type": "code",
   "execution_count": 13,
   "id": "9d24f233",
   "metadata": {},
   "outputs": [
    {
     "data": {
      "text/html": [
       "<div>\n",
       "<style scoped>\n",
       "    .dataframe tbody tr th:only-of-type {\n",
       "        vertical-align: middle;\n",
       "    }\n",
       "\n",
       "    .dataframe tbody tr th {\n",
       "        vertical-align: top;\n",
       "    }\n",
       "\n",
       "    .dataframe thead th {\n",
       "        text-align: right;\n",
       "    }\n",
       "</style>\n",
       "<table border=\"1\" class=\"dataframe\">\n",
       "  <thead>\n",
       "    <tr style=\"text-align: right;\">\n",
       "      <th></th>\n",
       "      <th>Age</th>\n",
       "      <th>Gender</th>\n",
       "      <th>Churn</th>\n",
       "      <th>Contract</th>\n",
       "      <th>PaperlessBilling</th>\n",
       "      <th>Tenure</th>\n",
       "      <th>MonthlyCharge</th>\n",
       "      <th>Bandwidth_GB_Month</th>\n",
       "    </tr>\n",
       "  </thead>\n",
       "  <tbody>\n",
       "    <tr>\n",
       "      <th>0</th>\n",
       "      <td>68</td>\n",
       "      <td>Male</td>\n",
       "      <td>No</td>\n",
       "      <td>One year</td>\n",
       "      <td>Yes</td>\n",
       "      <td>7</td>\n",
       "      <td>172.5</td>\n",
       "      <td>75.0</td>\n",
       "    </tr>\n",
       "    <tr>\n",
       "      <th>1</th>\n",
       "      <td>27</td>\n",
       "      <td>Female</td>\n",
       "      <td>Yes</td>\n",
       "      <td>Month-to-Month</td>\n",
       "      <td>Yes</td>\n",
       "      <td>1</td>\n",
       "      <td>242.6</td>\n",
       "      <td>67.0</td>\n",
       "    </tr>\n",
       "    <tr>\n",
       "      <th>2</th>\n",
       "      <td>50</td>\n",
       "      <td>Female</td>\n",
       "      <td>No</td>\n",
       "      <td>Two Year</td>\n",
       "      <td>Yes</td>\n",
       "      <td>16</td>\n",
       "      <td>159.9</td>\n",
       "      <td>171.0</td>\n",
       "    </tr>\n",
       "    <tr>\n",
       "      <th>3</th>\n",
       "      <td>48</td>\n",
       "      <td>Male</td>\n",
       "      <td>No</td>\n",
       "      <td>Two Year</td>\n",
       "      <td>Yes</td>\n",
       "      <td>17</td>\n",
       "      <td>120.0</td>\n",
       "      <td>180.0</td>\n",
       "    </tr>\n",
       "    <tr>\n",
       "      <th>4</th>\n",
       "      <td>83</td>\n",
       "      <td>Male</td>\n",
       "      <td>Yes</td>\n",
       "      <td>Month-to-Month</td>\n",
       "      <td>No</td>\n",
       "      <td>2</td>\n",
       "      <td>149.9</td>\n",
       "      <td>23.0</td>\n",
       "    </tr>\n",
       "  </tbody>\n",
       "</table>\n",
       "</div>"
      ],
      "text/plain": [
       "   Age  Gender Churn        Contract PaperlessBilling  Tenure  MonthlyCharge  \\\n",
       "0   68    Male    No        One year              Yes       7          172.5   \n",
       "1   27  Female   Yes  Month-to-Month              Yes       1          242.6   \n",
       "2   50  Female    No        Two Year              Yes      16          159.9   \n",
       "3   48    Male    No        Two Year              Yes      17          120.0   \n",
       "4   83    Male   Yes  Month-to-Month               No       2          149.9   \n",
       "\n",
       "   Bandwidth_GB_Month  \n",
       "0                75.0  \n",
       "1                67.0  \n",
       "2               171.0  \n",
       "3               180.0  \n",
       "4                23.0  "
      ]
     },
     "execution_count": 13,
     "metadata": {},
     "output_type": "execute_result"
    }
   ],
   "source": [
    "churned_data_WGU['Tenure'] = round(churned_data_WGU['Tenure'], 0)\n",
    "churned_data_WGU['Tenure'] = churned_data_WGU['Tenure'].astype(int)\n",
    "\n",
    "churned_data_WGU['MonthlyCharge'] = round(churned_data_WGU['MonthlyCharge'], 1)\n",
    "\n",
    "churned_data_WGU['Bandwidth_GB_Year'] = round((churned_data_WGU['Bandwidth_GB_Year'] / 12))\n",
    "churned_data_WGU.rename(columns = {'Bandwidth_GB_Year' : 'Bandwidth_GB_Month'}, inplace = True)\n",
    "\n",
    "churned_data_WGU.head()"
   ]
  },
  {
   "cell_type": "code",
   "execution_count": 14,
   "id": "c17930d1",
   "metadata": {},
   "outputs": [
    {
     "data": {
      "text/html": [
       "<div>\n",
       "<style scoped>\n",
       "    .dataframe tbody tr th:only-of-type {\n",
       "        vertical-align: middle;\n",
       "    }\n",
       "\n",
       "    .dataframe tbody tr th {\n",
       "        vertical-align: top;\n",
       "    }\n",
       "\n",
       "    .dataframe thead th {\n",
       "        text-align: right;\n",
       "    }\n",
       "</style>\n",
       "<table border=\"1\" class=\"dataframe\">\n",
       "  <thead>\n",
       "    <tr style=\"text-align: right;\">\n",
       "      <th></th>\n",
       "      <th>Age</th>\n",
       "      <th>Gender</th>\n",
       "      <th>Churn</th>\n",
       "      <th>Contract</th>\n",
       "      <th>PaperlessBilling</th>\n",
       "      <th>Tenure</th>\n",
       "      <th>MonthlyCharge</th>\n",
       "      <th>Bandwidth_GB_Month</th>\n",
       "    </tr>\n",
       "  </thead>\n",
       "  <tbody>\n",
       "    <tr>\n",
       "      <th>0</th>\n",
       "      <td>68</td>\n",
       "      <td>Male</td>\n",
       "      <td>No</td>\n",
       "      <td>One year</td>\n",
       "      <td>Yes</td>\n",
       "      <td>7</td>\n",
       "      <td>172.5</td>\n",
       "      <td>75.0</td>\n",
       "    </tr>\n",
       "    <tr>\n",
       "      <th>1</th>\n",
       "      <td>27</td>\n",
       "      <td>Female</td>\n",
       "      <td>Yes</td>\n",
       "      <td>Month-to-Month</td>\n",
       "      <td>Yes</td>\n",
       "      <td>1</td>\n",
       "      <td>242.6</td>\n",
       "      <td>67.0</td>\n",
       "    </tr>\n",
       "    <tr>\n",
       "      <th>2</th>\n",
       "      <td>50</td>\n",
       "      <td>Female</td>\n",
       "      <td>No</td>\n",
       "      <td>Two Year</td>\n",
       "      <td>Yes</td>\n",
       "      <td>16</td>\n",
       "      <td>159.9</td>\n",
       "      <td>171.0</td>\n",
       "    </tr>\n",
       "    <tr>\n",
       "      <th>3</th>\n",
       "      <td>48</td>\n",
       "      <td>Male</td>\n",
       "      <td>No</td>\n",
       "      <td>Two Year</td>\n",
       "      <td>Yes</td>\n",
       "      <td>17</td>\n",
       "      <td>120.0</td>\n",
       "      <td>180.0</td>\n",
       "    </tr>\n",
       "    <tr>\n",
       "      <th>4</th>\n",
       "      <td>83</td>\n",
       "      <td>Male</td>\n",
       "      <td>Yes</td>\n",
       "      <td>Month-to-Month</td>\n",
       "      <td>No</td>\n",
       "      <td>2</td>\n",
       "      <td>149.9</td>\n",
       "      <td>23.0</td>\n",
       "    </tr>\n",
       "  </tbody>\n",
       "</table>\n",
       "</div>"
      ],
      "text/plain": [
       "   Age  Gender Churn        Contract PaperlessBilling  Tenure  MonthlyCharge  \\\n",
       "0   68    Male    No        One year              Yes       7          172.5   \n",
       "1   27  Female   Yes  Month-to-Month              Yes       1          242.6   \n",
       "2   50  Female    No        Two Year              Yes      16          159.9   \n",
       "3   48    Male    No        Two Year              Yes      17          120.0   \n",
       "4   83    Male   Yes  Month-to-Month               No       2          149.9   \n",
       "\n",
       "   Bandwidth_GB_Month  \n",
       "0                75.0  \n",
       "1                67.0  \n",
       "2               171.0  \n",
       "3               180.0  \n",
       "4                23.0  "
      ]
     },
     "execution_count": 14,
     "metadata": {},
     "output_type": "execute_result"
    }
   ],
   "source": [
    "churned_data_WGU.head()"
   ]
  },
  {
   "cell_type": "code",
   "execution_count": 15,
   "id": "7c69314d",
   "metadata": {},
   "outputs": [
    {
     "data": {
      "text/html": [
       "<div>\n",
       "<style scoped>\n",
       "    .dataframe tbody tr th:only-of-type {\n",
       "        vertical-align: middle;\n",
       "    }\n",
       "\n",
       "    .dataframe tbody tr th {\n",
       "        vertical-align: top;\n",
       "    }\n",
       "\n",
       "    .dataframe thead th {\n",
       "        text-align: right;\n",
       "    }\n",
       "</style>\n",
       "<table border=\"1\" class=\"dataframe\">\n",
       "  <thead>\n",
       "    <tr style=\"text-align: right;\">\n",
       "      <th></th>\n",
       "      <th>Zip Code</th>\n",
       "      <th>Age</th>\n",
       "      <th>Gender</th>\n",
       "      <th>Churn</th>\n",
       "      <th>Contract</th>\n",
       "      <th>PaperlessBilling</th>\n",
       "      <th>Tenure</th>\n",
       "      <th>MonthlyCharge</th>\n",
       "      <th>Bandwidth_GB_Month</th>\n",
       "    </tr>\n",
       "  </thead>\n",
       "  <tbody>\n",
       "    <tr>\n",
       "      <th>0</th>\n",
       "      <td>93225</td>\n",
       "      <td>37</td>\n",
       "      <td>Female</td>\n",
       "      <td>No</td>\n",
       "      <td>One Year</td>\n",
       "      <td>Yes</td>\n",
       "      <td>9</td>\n",
       "      <td>65.6</td>\n",
       "      <td>16.0</td>\n",
       "    </tr>\n",
       "    <tr>\n",
       "      <th>1</th>\n",
       "      <td>91206</td>\n",
       "      <td>46</td>\n",
       "      <td>Male</td>\n",
       "      <td>No</td>\n",
       "      <td>Month-to-Month</td>\n",
       "      <td>No</td>\n",
       "      <td>9</td>\n",
       "      <td>-4.0</td>\n",
       "      <td>10.0</td>\n",
       "    </tr>\n",
       "    <tr>\n",
       "      <th>2</th>\n",
       "      <td>92627</td>\n",
       "      <td>50</td>\n",
       "      <td>Male</td>\n",
       "      <td>Yes</td>\n",
       "      <td>Month-to-Month</td>\n",
       "      <td>Yes</td>\n",
       "      <td>4</td>\n",
       "      <td>73.9</td>\n",
       "      <td>30.0</td>\n",
       "    </tr>\n",
       "    <tr>\n",
       "      <th>3</th>\n",
       "      <td>94553</td>\n",
       "      <td>78</td>\n",
       "      <td>Male</td>\n",
       "      <td>Yes</td>\n",
       "      <td>Month-to-Month</td>\n",
       "      <td>Yes</td>\n",
       "      <td>13</td>\n",
       "      <td>98.0</td>\n",
       "      <td>4.0</td>\n",
       "    </tr>\n",
       "    <tr>\n",
       "      <th>4</th>\n",
       "      <td>93010</td>\n",
       "      <td>75</td>\n",
       "      <td>Female</td>\n",
       "      <td>Yes</td>\n",
       "      <td>Month-to-Month</td>\n",
       "      <td>Yes</td>\n",
       "      <td>3</td>\n",
       "      <td>83.9</td>\n",
       "      <td>11.0</td>\n",
       "    </tr>\n",
       "  </tbody>\n",
       "</table>\n",
       "</div>"
      ],
      "text/plain": [
       "   Zip Code  Age  Gender Churn        Contract PaperlessBilling  Tenure  \\\n",
       "0     93225   37  Female    No        One Year              Yes       9   \n",
       "1     91206   46    Male    No  Month-to-Month               No       9   \n",
       "2     92627   50    Male   Yes  Month-to-Month              Yes       4   \n",
       "3     94553   78    Male   Yes  Month-to-Month              Yes      13   \n",
       "4     93010   75  Female   Yes  Month-to-Month              Yes       3   \n",
       "\n",
       "   MonthlyCharge  Bandwidth_GB_Month  \n",
       "0           65.6                16.0  \n",
       "1           -4.0                10.0  \n",
       "2           73.9                30.0  \n",
       "3           98.0                 4.0  \n",
       "4           83.9                11.0  "
      ]
     },
     "execution_count": 15,
     "metadata": {},
     "output_type": "execute_result"
    }
   ],
   "source": [
    "churned_data_Cali.head()"
   ]
  },
  {
   "cell_type": "code",
   "execution_count": 16,
   "id": "97567c33",
   "metadata": {
    "scrolled": true
   },
   "outputs": [
    {
     "data": {
      "text/plain": [
       "Zip Code                 0\n",
       "Age                      0\n",
       "Gender                   0\n",
       "Churn                    0\n",
       "Contract                 0\n",
       "PaperlessBilling         0\n",
       "Tenure                   0\n",
       "MonthlyCharge            0\n",
       "Bandwidth_GB_Month    1526\n",
       "dtype: int64"
      ]
     },
     "execution_count": 16,
     "metadata": {},
     "output_type": "execute_result"
    }
   ],
   "source": [
    "# I want to check which have missing values here\n",
    "# [In text citation: Bowne-Anderson, H. (n.d)]\n",
    "#churned_data_WGU.isna().sum()\n",
    "churned_data_Cali.isna().sum()\n",
    "#churned_data_WGU.isnull().sum()"
   ]
  },
  {
   "cell_type": "code",
   "execution_count": 17,
   "id": "0078004c",
   "metadata": {
    "scrolled": true
   },
   "outputs": [
    {
     "data": {
      "image/png": "[encoded data removed]",
      "text/plain": [
       "<Figure size 2500x1000 with 2 Axes>"
      ]
     },
     "metadata": {},
     "output_type": "display_data"
    }
   ],
   "source": [
    "# Visualizing the missing data \n",
    "# [In text citation: Dr. Middleton, K (n.d) Getting Started with D206 Data Cleaning Essentials]\n",
    "msno.matrix(churned_data_WGU, fontsize = 12, labels = True)\n",
    "plt.title(\"Missing Data Matrix\")\n",
    "#plt.xlabel(col_names)\n",
    "plt.show()"
   ]
  },
  {
   "cell_type": "code",
   "execution_count": 18,
   "id": "bf6e744f",
   "metadata": {},
   "outputs": [],
   "source": [
    "## Checking all the quantitative variables for outliers to decide if I need to edit them."
   ]
  },
  {
   "cell_type": "code",
   "execution_count": 19,
   "id": "f044f917",
   "metadata": {},
   "outputs": [
    {
     "data": {
      "image/png": "[encoded data removed]",
      "text/plain": [
       "<Figure size 640x480 with 1 Axes>"
      ]
     },
     "metadata": {},
     "output_type": "display_data"
    }
   ],
   "source": [
    "boxplot_Age = seaborn.boxplot(x = \"Age\", data = churned_data_WGU)"
   ]
  },
  {
   "cell_type": "code",
   "execution_count": 20,
   "id": "65adc177",
   "metadata": {},
   "outputs": [
    {
     "data": {
      "image/png": "[encoded data removed]",
      "text/plain": [
       "<Figure size 640x480 with 1 Axes>"
      ]
     },
     "metadata": {},
     "output_type": "display_data"
    }
   ],
   "source": [
    "boxplot_Age = seaborn.boxplot(x = \"Age\", data = churned_data_Cali)"
   ]
  },
  {
   "cell_type": "code",
   "execution_count": 21,
   "id": "36cf7f1b",
   "metadata": {},
   "outputs": [],
   "source": [
    "## No outliers detected for Age"
   ]
  },
  {
   "cell_type": "code",
   "execution_count": 22,
   "id": "b75281bc",
   "metadata": {},
   "outputs": [],
   "source": [
    "## No more outliers detected for Yearly_equip_failure"
   ]
  },
  {
   "cell_type": "code",
   "execution_count": 23,
   "id": "90b73594",
   "metadata": {},
   "outputs": [
    {
     "data": {
      "image/png": "[encoded data removed]",
      "text/plain": [
       "<Figure size 640x480 with 1 Axes>"
      ]
     },
     "metadata": {},
     "output_type": "display_data"
    }
   ],
   "source": [
    "boxplot_MonthlyCharge = seaborn.boxplot(x = \"MonthlyCharge\", data = churned_data_WGU)"
   ]
  },
  {
   "cell_type": "code",
   "execution_count": 24,
   "id": "37ff4125",
   "metadata": {},
   "outputs": [
    {
     "data": {
      "image/png": "[encoded data removed]",
      "text/plain": [
       "<Figure size 640x480 with 1 Axes>"
      ]
     },
     "metadata": {},
     "output_type": "display_data"
    }
   ],
   "source": [
    "boxplot_MonthlyCharge = seaborn.boxplot(x = \"MonthlyCharge\", data = churned_data_Cali)"
   ]
  },
  {
   "cell_type": "code",
   "execution_count": 25,
   "id": "322d08a7",
   "metadata": {},
   "outputs": [],
   "source": [
    "## No outliers detected for MonthlyCharge"
   ]
  },
  {
   "cell_type": "code",
   "execution_count": 26,
   "id": "fd2a7afd",
   "metadata": {
    "scrolled": false
   },
   "outputs": [
    {
     "data": {
      "image/png": "[encoded data removed]",
      "text/plain": [
       "<Figure size 640x480 with 1 Axes>"
      ]
     },
     "metadata": {},
     "output_type": "display_data"
    }
   ],
   "source": [
    "boxplot_Bandwidth_GB_Month = seaborn.boxplot(x = \"Bandwidth_GB_Month\", data = churned_data_WGU)"
   ]
  },
  {
   "cell_type": "code",
   "execution_count": 27,
   "id": "e4f546df",
   "metadata": {},
   "outputs": [
    {
     "data": {
      "image/png": "[encoded data removed]",
      "text/plain": [
       "<Figure size 640x480 with 1 Axes>"
      ]
     },
     "metadata": {},
     "output_type": "display_data"
    }
   ],
   "source": [
    "plt.hist(churned_data_Cali['Bandwidth_GB_Month'])\n",
    "plt.show()"
   ]
  },
  {
   "cell_type": "code",
   "execution_count": 28,
   "id": "e3618ba3",
   "metadata": {},
   "outputs": [],
   "source": [
    "churned_data_Cali[\"Bandwidth_GB_Month\"].fillna(churned_data_Cali[\"Bandwidth_GB_Month\"].median(), inplace = True)"
   ]
  },
  {
   "cell_type": "code",
   "execution_count": 29,
   "id": "49d52138",
   "metadata": {},
   "outputs": [
    {
     "data": {
      "image/png": "[encoded data removed]",
      "text/plain": [
       "<Figure size 640x480 with 1 Axes>"
      ]
     },
     "metadata": {},
     "output_type": "display_data"
    }
   ],
   "source": [
    "plt.hist(churned_data_Cali['Bandwidth_GB_Month'])\n",
    "plt.show()"
   ]
  },
  {
   "cell_type": "code",
   "execution_count": 30,
   "id": "6ab0363a",
   "metadata": {},
   "outputs": [
    {
     "data": {
      "image/png": "[encoded data removed]",
      "text/plain": [
       "<Figure size 640x480 with 1 Axes>"
      ]
     },
     "metadata": {},
     "output_type": "display_data"
    }
   ],
   "source": [
    "boxplot_Bandwidth_GB_Month = seaborn.boxplot(x = \"Bandwidth_GB_Month\", data = churned_data_Cali)"
   ]
  },
  {
   "cell_type": "code",
   "execution_count": 31,
   "id": "ce4ed6ff",
   "metadata": {},
   "outputs": [
    {
     "data": {
      "text/plain": [
       "count    7043.000000\n",
       "mean       25.065455\n",
       "std        17.466342\n",
       "min         2.000000\n",
       "25%        15.000000\n",
       "50%        21.000000\n",
       "75%        27.000000\n",
       "max        85.000000\n",
       "Name: Bandwidth_GB_Month, dtype: float64"
      ]
     },
     "execution_count": 31,
     "metadata": {},
     "output_type": "execute_result"
    }
   ],
   "source": [
    "churned_data_Cali['Bandwidth_GB_Month'].describe()"
   ]
  },
  {
   "cell_type": "code",
   "execution_count": 32,
   "id": "a8c710ba",
   "metadata": {},
   "outputs": [],
   "source": [
    "churned_data_Cali.drop(churned_data_Cali[ (churned_data_Cali['Bandwidth_GB_Month'] > 27)].index, inplace = True )"
   ]
  },
  {
   "cell_type": "code",
   "execution_count": 33,
   "id": "b5b8611c",
   "metadata": {},
   "outputs": [
    {
     "data": {
      "image/png": "[encoded data removed]",
      "text/plain": [
       "<Figure size 640x480 with 1 Axes>"
      ]
     },
     "metadata": {},
     "output_type": "display_data"
    }
   ],
   "source": [
    "boxplot_Bandwidth_GB_Month = seaborn.boxplot(x = \"Bandwidth_GB_Month\", data = churned_data_Cali)"
   ]
  },
  {
   "cell_type": "code",
   "execution_count": 34,
   "id": "9f363509",
   "metadata": {},
   "outputs": [
    {
     "data": {
      "text/plain": [
       "count    5363.000000\n",
       "mean       17.104419\n",
       "std         6.735637\n",
       "min         2.000000\n",
       "25%        12.000000\n",
       "50%        21.000000\n",
       "75%        21.000000\n",
       "max        27.000000\n",
       "Name: Bandwidth_GB_Month, dtype: float64"
      ]
     },
     "execution_count": 34,
     "metadata": {},
     "output_type": "execute_result"
    }
   ],
   "source": [
    "churned_data_Cali['Bandwidth_GB_Month'].describe()"
   ]
  },
  {
   "cell_type": "code",
   "execution_count": 35,
   "id": "2f7f41d3",
   "metadata": {},
   "outputs": [],
   "source": [
    "churned_data_Cali.drop(churned_data_Cali[ (churned_data_Cali['MonthlyCharge'] < 0)].index, inplace = True )\n",
    "churned_data_WGU.drop(churned_data_WGU[ (churned_data_WGU['Gender'] == 'Nonbinary')].index, inplace = True )"
   ]
  },
  {
   "cell_type": "code",
   "execution_count": 36,
   "id": "93a824fc",
   "metadata": {},
   "outputs": [],
   "source": [
    "churned_data_WGU.to_csv('C:/Users/cfman/OneDrive/Desktop/WGUClasses/D210 Reporting and Presentation/churn_data_WGU.csv')\n",
    "churned_data_Cali.to_csv('C:/Users/cfman/OneDrive/Desktop/WGUClasses/D210 Reporting and Presentation/churn_data_Cali.csv')"
   ]
  },
  {
   "cell_type": "code",
   "execution_count": 37,
   "id": "f603dc88",
   "metadata": {},
   "outputs": [
    {
     "data": {
      "text/plain": [
       "(9769, 8)"
      ]
     },
     "execution_count": 37,
     "metadata": {},
     "output_type": "execute_result"
    }
   ],
   "source": [
    "churned_data_WGU.shape"
   ]
  },
  {
   "cell_type": "code",
   "execution_count": 38,
   "id": "f60f7842",
   "metadata": {},
   "outputs": [
    {
     "name": "stdout",
     "output_type": "stream",
     "text": [
      "<class 'numpy.int64'>\n"
     ]
    }
   ],
   "source": [
    "print(type(churned_data_Cali[\"Zip Code\"][3]))"
   ]
  },
  {
   "cell_type": "code",
   "execution_count": 39,
   "id": "89eea97e",
   "metadata": {},
   "outputs": [
    {
     "name": "stdout",
     "output_type": "stream",
     "text": [
      "<class 'int'>\n"
     ]
    }
   ],
   "source": [
    "print(type(3))"
   ]
  }
 ],
 "metadata": {
  "kernelspec": {
   "display_name": "Python 3 (ipykernel)",
   "language": "python",
   "name": "python3"
  },
  "language_info": {
   "codemirror_mode": {
    "name": "ipython",
    "version": 3
   },
   "file_extension": ".py",
   "mimetype": "text/x-python",
   "name": "python",
   "nbconvert_exporter": "python",
   "pygments_lexer": "ipython3",
   "version": "3.11.4"
  }
 },
 "nbformat": 4,
 "nbformat_minor": 5
}
