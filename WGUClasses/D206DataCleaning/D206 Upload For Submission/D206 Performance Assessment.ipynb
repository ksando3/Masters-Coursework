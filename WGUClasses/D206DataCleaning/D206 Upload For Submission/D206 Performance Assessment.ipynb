{
 "cells": [
  {
   "cell_type": "code",
   "execution_count": 1,
   "id": "826bf7c1",
   "metadata": {},
   "outputs": [],
   "source": [
    "# import all necessary packages\n",
    "import numpy as np\n",
    "import pandas as pd\n",
    "import scipy.stats as stats\n",
    "import matplotlib.pyplot as plt\n",
    "import math\n",
    "import missingno as msno\n",
    "import statistics\n",
    "import seaborn"
   ]
  },
  {
   "cell_type": "code",
   "execution_count": 2,
   "id": "236613f2",
   "metadata": {},
   "outputs": [],
   "source": [
    "# Pulling in the data [In text citation: Bowne-Anderson, H. (n.d)]\n",
    "churned_data = pd.read_csv(\"C:/Users/cfman/OneDrive/Desktop/WGUClasses/D206DataCleaning/churn_raw_data.csv\")"
   ]
  },
  {
   "cell_type": "code",
   "execution_count": 3,
   "id": "124f18b2",
   "metadata": {},
   "outputs": [
    {
     "data": {
      "text/html": [
       "<div>\n",
       "<style scoped>\n",
       "    .dataframe tbody tr th:only-of-type {\n",
       "        vertical-align: middle;\n",
       "    }\n",
       "\n",
       "    .dataframe tbody tr th {\n",
       "        vertical-align: top;\n",
       "    }\n",
       "\n",
       "    .dataframe thead th {\n",
       "        text-align: right;\n",
       "    }\n",
       "</style>\n",
       "<table border=\"1\" class=\"dataframe\">\n",
       "  <thead>\n",
       "    <tr style=\"text-align: right;\">\n",
       "      <th></th>\n",
       "      <th>Unnamed: 0</th>\n",
       "      <th>CaseOrder</th>\n",
       "      <th>Customer_id</th>\n",
       "      <th>Interaction</th>\n",
       "      <th>City</th>\n",
       "      <th>State</th>\n",
       "      <th>County</th>\n",
       "      <th>Zip</th>\n",
       "      <th>Lat</th>\n",
       "      <th>Lng</th>\n",
       "      <th>...</th>\n",
       "      <th>MonthlyCharge</th>\n",
       "      <th>Bandwidth_GB_Year</th>\n",
       "      <th>item1</th>\n",
       "      <th>item2</th>\n",
       "      <th>item3</th>\n",
       "      <th>item4</th>\n",
       "      <th>item5</th>\n",
       "      <th>item6</th>\n",
       "      <th>item7</th>\n",
       "      <th>item8</th>\n",
       "    </tr>\n",
       "  </thead>\n",
       "  <tbody>\n",
       "    <tr>\n",
       "      <th>0</th>\n",
       "      <td>1</td>\n",
       "      <td>1</td>\n",
       "      <td>K409198</td>\n",
       "      <td>aa90260b-4141-4a24-8e36-b04ce1f4f77b</td>\n",
       "      <td>Point Baker</td>\n",
       "      <td>AK</td>\n",
       "      <td>Prince of Wales-Hyder</td>\n",
       "      <td>99927</td>\n",
       "      <td>56.25100</td>\n",
       "      <td>-133.37571</td>\n",
       "      <td>...</td>\n",
       "      <td>171.449762</td>\n",
       "      <td>904.536110</td>\n",
       "      <td>5</td>\n",
       "      <td>5</td>\n",
       "      <td>5</td>\n",
       "      <td>3</td>\n",
       "      <td>4</td>\n",
       "      <td>4</td>\n",
       "      <td>3</td>\n",
       "      <td>4</td>\n",
       "    </tr>\n",
       "    <tr>\n",
       "      <th>1</th>\n",
       "      <td>2</td>\n",
       "      <td>2</td>\n",
       "      <td>S120509</td>\n",
       "      <td>fb76459f-c047-4a9d-8af9-e0f7d4ac2524</td>\n",
       "      <td>West Branch</td>\n",
       "      <td>MI</td>\n",
       "      <td>Ogemaw</td>\n",
       "      <td>48661</td>\n",
       "      <td>44.32893</td>\n",
       "      <td>-84.24080</td>\n",
       "      <td>...</td>\n",
       "      <td>242.948015</td>\n",
       "      <td>800.982766</td>\n",
       "      <td>3</td>\n",
       "      <td>4</td>\n",
       "      <td>3</td>\n",
       "      <td>3</td>\n",
       "      <td>4</td>\n",
       "      <td>3</td>\n",
       "      <td>4</td>\n",
       "      <td>4</td>\n",
       "    </tr>\n",
       "    <tr>\n",
       "      <th>2</th>\n",
       "      <td>3</td>\n",
       "      <td>3</td>\n",
       "      <td>K191035</td>\n",
       "      <td>344d114c-3736-4be5-98f7-c72c281e2d35</td>\n",
       "      <td>Yamhill</td>\n",
       "      <td>OR</td>\n",
       "      <td>Yamhill</td>\n",
       "      <td>97148</td>\n",
       "      <td>45.35589</td>\n",
       "      <td>-123.24657</td>\n",
       "      <td>...</td>\n",
       "      <td>159.440398</td>\n",
       "      <td>2054.706961</td>\n",
       "      <td>4</td>\n",
       "      <td>4</td>\n",
       "      <td>2</td>\n",
       "      <td>4</td>\n",
       "      <td>4</td>\n",
       "      <td>3</td>\n",
       "      <td>3</td>\n",
       "      <td>3</td>\n",
       "    </tr>\n",
       "    <tr>\n",
       "      <th>3</th>\n",
       "      <td>4</td>\n",
       "      <td>4</td>\n",
       "      <td>D90850</td>\n",
       "      <td>abfa2b40-2d43-4994-b15a-989b8c79e311</td>\n",
       "      <td>Del Mar</td>\n",
       "      <td>CA</td>\n",
       "      <td>San Diego</td>\n",
       "      <td>92014</td>\n",
       "      <td>32.96687</td>\n",
       "      <td>-117.24798</td>\n",
       "      <td>...</td>\n",
       "      <td>120.249493</td>\n",
       "      <td>2164.579412</td>\n",
       "      <td>4</td>\n",
       "      <td>4</td>\n",
       "      <td>4</td>\n",
       "      <td>2</td>\n",
       "      <td>5</td>\n",
       "      <td>4</td>\n",
       "      <td>3</td>\n",
       "      <td>3</td>\n",
       "    </tr>\n",
       "    <tr>\n",
       "      <th>4</th>\n",
       "      <td>5</td>\n",
       "      <td>5</td>\n",
       "      <td>K662701</td>\n",
       "      <td>68a861fd-0d20-4e51-a587-8a90407ee574</td>\n",
       "      <td>Needville</td>\n",
       "      <td>TX</td>\n",
       "      <td>Fort Bend</td>\n",
       "      <td>77461</td>\n",
       "      <td>29.38012</td>\n",
       "      <td>-95.80673</td>\n",
       "      <td>...</td>\n",
       "      <td>150.761216</td>\n",
       "      <td>271.493436</td>\n",
       "      <td>4</td>\n",
       "      <td>4</td>\n",
       "      <td>4</td>\n",
       "      <td>3</td>\n",
       "      <td>4</td>\n",
       "      <td>4</td>\n",
       "      <td>4</td>\n",
       "      <td>5</td>\n",
       "    </tr>\n",
       "  </tbody>\n",
       "</table>\n",
       "<p>5 rows × 52 columns</p>\n",
       "</div>"
      ],
      "text/plain": [
       "   Unnamed: 0  CaseOrder Customer_id                           Interaction  \\\n",
       "0           1          1     K409198  aa90260b-4141-4a24-8e36-b04ce1f4f77b   \n",
       "1           2          2     S120509  fb76459f-c047-4a9d-8af9-e0f7d4ac2524   \n",
       "2           3          3     K191035  344d114c-3736-4be5-98f7-c72c281e2d35   \n",
       "3           4          4      D90850  abfa2b40-2d43-4994-b15a-989b8c79e311   \n",
       "4           5          5     K662701  68a861fd-0d20-4e51-a587-8a90407ee574   \n",
       "\n",
       "          City State                 County    Zip       Lat        Lng  ...  \\\n",
       "0  Point Baker    AK  Prince of Wales-Hyder  99927  56.25100 -133.37571  ...   \n",
       "1  West Branch    MI                 Ogemaw  48661  44.32893  -84.24080  ...   \n",
       "2      Yamhill    OR                Yamhill  97148  45.35589 -123.24657  ...   \n",
       "3      Del Mar    CA              San Diego  92014  32.96687 -117.24798  ...   \n",
       "4    Needville    TX              Fort Bend  77461  29.38012  -95.80673  ...   \n",
       "\n",
       "   MonthlyCharge Bandwidth_GB_Year item1 item2  item3  item4 item5 item6  \\\n",
       "0     171.449762        904.536110     5     5      5      3     4     4   \n",
       "1     242.948015        800.982766     3     4      3      3     4     3   \n",
       "2     159.440398       2054.706961     4     4      2      4     4     3   \n",
       "3     120.249493       2164.579412     4     4      4      2     5     4   \n",
       "4     150.761216        271.493436     4     4      4      3     4     4   \n",
       "\n",
       "   item7 item8  \n",
       "0      3     4  \n",
       "1      4     4  \n",
       "2      3     3  \n",
       "3      3     3  \n",
       "4      4     5  \n",
       "\n",
       "[5 rows x 52 columns]"
      ]
     },
     "execution_count": 3,
     "metadata": {},
     "output_type": "execute_result"
    }
   ],
   "source": [
    "# Take a first glance into the characteristics of the dataset\n",
    "# churned_data.info()\n",
    "churned_data.head(5)"
   ]
  },
  {
   "cell_type": "code",
   "execution_count": 4,
   "id": "e1328aab",
   "metadata": {},
   "outputs": [
    {
     "name": "stdout",
     "output_type": "stream",
     "text": [
      "(10000, 52)\n"
     ]
    },
    {
     "data": {
      "text/plain": [
       "False    10000\n",
       "dtype: int64"
      ]
     },
     "execution_count": 4,
     "metadata": {},
     "output_type": "execute_result"
    }
   ],
   "source": [
    "# Before we get started into the actual cleaning, I want to check for duplicate values in case we need to edit those first\n",
    "# I am also going to check the shape of the dataframe to verify the rows and columns\n",
    "# [In text citation: Bowne-Anderson, H. (n.d)]\n",
    "print(churned_data.shape)\n",
    "\n",
    "\n",
    "duplicates = churned_data.duplicated(keep = False)\n",
    "duplicates.value_counts()"
   ]
  },
  {
   "cell_type": "code",
   "execution_count": 5,
   "id": "4b74b003",
   "metadata": {},
   "outputs": [],
   "source": [
    "## Thus we can see that there are no instances of \"True\" so we can conclude that every row is its own unique instance \n",
    "# and we do not need to edit any duplicate values"
   ]
  },
  {
   "cell_type": "code",
   "execution_count": 6,
   "id": "53a9d432",
   "metadata": {},
   "outputs": [
    {
     "data": {
      "text/plain": [
       "10000"
      ]
     },
     "execution_count": 6,
     "metadata": {},
     "output_type": "execute_result"
    }
   ],
   "source": [
    "# Just to double check that we don't have duplicates, I'm going to do a quick check on the Customer_id column. \n",
    "# Since we saw the shape of the dataframe is 10,000 rows and 52 columns, I should expect 10000 unique customer IDs \n",
    "# [In text citation: Bowne-Anderson, H. (n.d)]\n",
    "churned_data[\"Customer_id\"].nunique()"
   ]
  },
  {
   "cell_type": "code",
   "execution_count": 7,
   "id": "b2a762d7",
   "metadata": {},
   "outputs": [],
   "source": [
    "# Now that we see that we have 10,000 unique customer IDs, I can comfortably conclude that we have no duplicate values"
   ]
  },
  {
   "cell_type": "code",
   "execution_count": 8,
   "id": "1e5cab05",
   "metadata": {},
   "outputs": [
    {
     "data": {
      "text/plain": [
       "Unnamed: 0                 0\n",
       "CaseOrder                  0\n",
       "Customer_id                0\n",
       "Interaction                0\n",
       "City                       0\n",
       "State                      0\n",
       "County                     0\n",
       "Zip                        0\n",
       "Lat                        0\n",
       "Lng                        0\n",
       "Population                 0\n",
       "Area                       0\n",
       "Timezone                   0\n",
       "Job                        0\n",
       "Children                2495\n",
       "Age                     2475\n",
       "Education                  0\n",
       "Employment                 0\n",
       "Income                  2490\n",
       "Marital                    0\n",
       "Gender                     0\n",
       "Churn                      0\n",
       "Outage_sec_perweek         0\n",
       "Email                      0\n",
       "Contacts                   0\n",
       "Yearly_equip_failure       0\n",
       "Techie                  2477\n",
       "Contract                   0\n",
       "Port_modem                 0\n",
       "Tablet                     0\n",
       "InternetService            0\n",
       "Phone                   1026\n",
       "Multiple                   0\n",
       "OnlineSecurity             0\n",
       "OnlineBackup               0\n",
       "DeviceProtection           0\n",
       "TechSupport              991\n",
       "StreamingTV                0\n",
       "StreamingMovies            0\n",
       "PaperlessBilling           0\n",
       "PaymentMethod              0\n",
       "Tenure                   931\n",
       "MonthlyCharge              0\n",
       "Bandwidth_GB_Year       1021\n",
       "item1                      0\n",
       "item2                      0\n",
       "item3                      0\n",
       "item4                      0\n",
       "item5                      0\n",
       "item6                      0\n",
       "item7                      0\n",
       "item8                      0\n",
       "dtype: int64"
      ]
     },
     "execution_count": 8,
     "metadata": {},
     "output_type": "execute_result"
    }
   ],
   "source": [
    "# Based on the data, I found that there are 11 quantitative variables. I'm going to focus on the data cleaning for them first \n",
    "# and will attempt to make it easy to check them. They are as follows: \"Population\", \"Children\", \"Age\", \"Income\",\n",
    "# \"Outage_sec_perweek\", \"Email\", \"Contacts\", \"Yearly_equip_failure\", \"Tenure\", \"MonthlyCharge\", \"Bandwidth_GB_Year\"\n",
    "# I want to check which have missing values here\n",
    "# [In text citation: Bowne-Anderson, H. (n.d)]\n",
    "churned_data.isna().sum()\n",
    "#churned_data.isnull().sum()"
   ]
  },
  {
   "cell_type": "code",
   "execution_count": 9,
   "id": "2bef0ff8",
   "metadata": {},
   "outputs": [
    {
     "data": {
      "image/png": "[encoded data removed]",
      "text/plain": [
       "<Figure size 2500x1000 with 2 Axes>"
      ]
     },
     "metadata": {},
     "output_type": "display_data"
    }
   ],
   "source": [
    "# Visualizing the missing data \n",
    "# [In text citation: Dr. Middleton, K (n.d) Getting Started with D206 Data Cleaning Essentials]\n",
    "msno.matrix(churned_data, fontsize = 12, labels = True)\n",
    "plt.title(\"Missing Data Matrix\")\n",
    "#plt.xlabel(col_names)\n",
    "plt.show()"
   ]
  },
  {
   "cell_type": "code",
   "execution_count": 10,
   "id": "50aaae6f",
   "metadata": {},
   "outputs": [],
   "source": [
    "# Of the columns with missing values, the ones that are quantitative are: \"Children\", \"Age\", \"Income\", \"Tenure\", and \"Bandwidth\"\n",
    "# In order to figure out how to fix the missing values, I will look at a histogram of the data to try and find\n",
    "# any patterns in the data."
   ]
  },
  {
   "cell_type": "code",
   "execution_count": 11,
   "id": "58285aab",
   "metadata": {},
   "outputs": [
    {
     "data": {
      "image/png": "[encoded data removed]",
      "text/plain": [
       "<Figure size 640x480 with 1 Axes>"
      ]
     },
     "metadata": {},
     "output_type": "display_data"
    },
    {
     "name": "stdout",
     "output_type": "stream",
     "text": [
      "count    7505.000000\n",
      "mean        2.095936\n",
      "std         2.154758\n",
      "min         0.000000\n",
      "25%         0.000000\n",
      "50%         1.000000\n",
      "75%         3.000000\n",
      "max        10.000000\n",
      "Name: Children, dtype: float64\n",
      "Median:  1.0\n"
     ]
    }
   ],
   "source": [
    "# Checking histogram for Children\n",
    "# [In text citation: Dr. Middleton, K (n.d) Getting Started with D206 Data Types, Distributions, and Univariate Imputation]\n",
    "plt.hist(churned_data[\"Children\"])\n",
    "plt.show()\n",
    "\n",
    "# Check the statistics of the data before editing\n",
    "print(churned_data[\"Children\"].describe())\n",
    "print(\"Median: \", churned_data[\"Children\"].median())"
   ]
  },
  {
   "cell_type": "code",
   "execution_count": 12,
   "id": "87086231",
   "metadata": {},
   "outputs": [
    {
     "name": "stdout",
     "output_type": "stream",
     "text": [
      "count    10000.000000\n",
      "mean         1.822500\n",
      "std          1.925971\n",
      "min          0.000000\n",
      "25%          1.000000\n",
      "50%          1.000000\n",
      "75%          3.000000\n",
      "max         10.000000\n",
      "Name: Children, dtype: float64\n",
      "Median:  1.0\n",
      "Amount of missing values:  0\n"
     ]
    },
    {
     "data": {
      "image/png": "[encoded data removed]",
      "text/plain": [
       "<Figure size 640x480 with 1 Axes>"
      ]
     },
     "metadata": {},
     "output_type": "display_data"
    }
   ],
   "source": [
    "# We can see here that the distribution of number of children is skewed to the right, which makes intuitive sense as well.\n",
    "# I am going to then impute the NA values with the median per the code in the Section 3 Lesson 5 \"Missing Data\" page of the\n",
    "# course material. I will then check for any values of NA and reprint the Histogram to check for the same distribution. Also\n",
    "# will be looking at the statistics to verify they are the same before and after imputing\n",
    "# [In text citation: Dr. Middleton, K (n.d) Getting Started with D206 Data Types, Distributions, and Univariate Imputation]\n",
    "\n",
    "churned_data[\"Children\"].fillna(churned_data[\"Children\"].median(), inplace = True)\n",
    "\n",
    "print(churned_data[\"Children\"].describe())\n",
    "print(\"Median: \", churned_data[\"Children\"].median())\n",
    "\n",
    "print(\"Amount of missing values: \", churned_data[\"Children\"].isna().sum())\n",
    "\n",
    "plt.hist(churned_data[\"Children\"])\n",
    "plt.show()"
   ]
  },
  {
   "cell_type": "code",
   "execution_count": 13,
   "id": "055a29b1",
   "metadata": {},
   "outputs": [],
   "source": [
    "# The distribution looks relatively the same as before. The big spike makes sense since we imputed the median but the overall\n",
    "# look of the distribution still appears to be skewed right. The mean is less than before but that makes sense because\n",
    "# I imputed with the median. The median did not change which is ideal. \n",
    "# I will now look at the other quantatitive columns with missing values"
   ]
  },
  {
   "cell_type": "code",
   "execution_count": 14,
   "id": "da6374c0",
   "metadata": {},
   "outputs": [
    {
     "data": {
      "image/png": "[encoded data removed]",
      "text/plain": [
       "<Figure size 640x480 with 1 Axes>"
      ]
     },
     "metadata": {},
     "output_type": "display_data"
    },
    {
     "name": "stdout",
     "output_type": "stream",
     "text": [
      "count    7525.000000\n",
      "mean       53.275748\n",
      "std        20.753928\n",
      "min        18.000000\n",
      "25%        35.000000\n",
      "50%        53.000000\n",
      "75%        71.000000\n",
      "max        89.000000\n",
      "Name: Age, dtype: float64\n",
      "Median:  53.0\n"
     ]
    }
   ],
   "source": [
    "# Checking histogram for Age\n",
    "# [In text citation: Dr. Middleton, K (n.d) Getting Started with D206 Data Types, Distributions, and Univariate Imputation]\n",
    "\n",
    "plt.hist(churned_data[\"Age\"])\n",
    "plt.show()\n",
    "\n",
    "# Check the statistics of the data before editing\n",
    "print(churned_data[\"Age\"].describe())\n",
    "print(\"Median: \", churned_data[\"Age\"].median())"
   ]
  },
  {
   "cell_type": "code",
   "execution_count": 15,
   "id": "c8f8baef",
   "metadata": {},
   "outputs": [
    {
     "name": "stdout",
     "output_type": "stream",
     "text": [
      "count    10000.000000\n",
      "mean        53.207500\n",
      "std         18.003457\n",
      "min         18.000000\n",
      "25%         41.000000\n",
      "50%         53.000000\n",
      "75%         65.000000\n",
      "max         89.000000\n",
      "Name: Age, dtype: float64\n",
      "Median:  53.0\n",
      "Number of missing values:  0\n"
     ]
    },
    {
     "data": {
      "image/png": "[encoded data removed]",
      "text/plain": [
       "<Figure size 640x480 with 1 Axes>"
      ]
     },
     "metadata": {},
     "output_type": "display_data"
    }
   ],
   "source": [
    "# Age looks to be uniform so I will replace the missing values in age with the mean and then rerun the graph\n",
    "# [In text citation: Dr. Middleton, K (n.d) Getting Started with D206 Data Types, Distributions, and Univariate Imputation]\n",
    "\n",
    "churned_data[\"Age\"].fillna(churned_data[\"Age\"].mean().astype('int64'), inplace = True)\n",
    "# I used the .astype('int64') as a way to round the age to the nearest int\n",
    "\n",
    "# Check the statistics of the data after editing\n",
    "print(churned_data[\"Age\"].describe())\n",
    "print(\"Median: \", churned_data[\"Age\"].median())\n",
    "\n",
    "print(\"Number of missing values: \", churned_data[\"Age\"].isna().sum())\n",
    "\n",
    "plt.hist(churned_data[\"Age\"])\n",
    "plt.show()"
   ]
  },
  {
   "cell_type": "code",
   "execution_count": 16,
   "id": "a4208bf0",
   "metadata": {},
   "outputs": [],
   "source": [
    "# Although not as obviously uniform, this distribution does not look normal and the imputed values would make ~50 years old\n",
    "# appear much more often since we are imputing 2475 values. I think the distribution here is still ok since we can see that \n",
    "# the mean did not change in value before vs after"
   ]
  },
  {
   "cell_type": "code",
   "execution_count": 17,
   "id": "4166242d",
   "metadata": {},
   "outputs": [
    {
     "data": {
      "image/png": "[encoded data removed]",
      "text/plain": [
       "<Figure size 640x480 with 1 Axes>"
      ]
     },
     "metadata": {},
     "output_type": "display_data"
    },
    {
     "name": "stdout",
     "output_type": "stream",
     "text": [
      "count      7510.000000\n",
      "mean      39936.762226\n",
      "std       28358.469482\n",
      "min         740.660000\n",
      "25%       19285.522500\n",
      "50%       33186.785000\n",
      "75%       53472.395000\n",
      "max      258900.700000\n",
      "Name: Income, dtype: float64\n",
      "Median:  33186.785\n"
     ]
    }
   ],
   "source": [
    "# Checking histogram for Income\n",
    "# [In text citation: Dr. Middleton, K (n.d) Getting Started with D206 Data Types, Distributions, and Univariate Imputation]\n",
    "\n",
    "plt.hist(churned_data[\"Income\"])\n",
    "plt.show()\n",
    "\n",
    "# Check the statistics of the data before editing\n",
    "print(churned_data[\"Income\"].describe())\n",
    "print(\"Median: \", churned_data[\"Income\"].median())"
   ]
  },
  {
   "cell_type": "code",
   "execution_count": 18,
   "id": "5e34c0f2",
   "metadata": {},
   "outputs": [],
   "source": [
    "# Similar to the Children column, the income column is also skewed right which makes sense intuitively as well"
   ]
  },
  {
   "cell_type": "code",
   "execution_count": 19,
   "id": "b3f5fca0",
   "metadata": {},
   "outputs": [
    {
     "name": "stdout",
     "output_type": "stream",
     "text": [
      "count     10000.000000\n",
      "mean      38256.017897\n",
      "std       24747.872761\n",
      "min         740.660000\n",
      "25%       23660.790000\n",
      "50%       33186.785000\n",
      "75%       45504.192500\n",
      "max      258900.700000\n",
      "Name: Income, dtype: float64\n",
      "Median:  33186.785\n",
      "0\n"
     ]
    },
    {
     "data": {
      "image/png": "[encoded data removed]",
      "text/plain": [
       "<Figure size 640x480 with 1 Axes>"
      ]
     },
     "metadata": {},
     "output_type": "display_data"
    }
   ],
   "source": [
    "# [In text citation: Dr. Middleton, K (n.d) Getting Started with D206 Data Types, Distributions, and Univariate Imputation]\n",
    "\n",
    "churned_data[\"Income\"].fillna(churned_data[\"Income\"].median(), inplace = True)\n",
    "\n",
    "# Check the statistics of the data after editing\n",
    "print(churned_data[\"Income\"].describe())\n",
    "print(\"Median: \", churned_data[\"Income\"].median())\n",
    "\n",
    "print(churned_data[\"Income\"].isna().sum())\n",
    "\n",
    "plt.hist(churned_data[\"Income\"])\n",
    "plt.show()"
   ]
  },
  {
   "cell_type": "code",
   "execution_count": 20,
   "id": "52a267da",
   "metadata": {},
   "outputs": [],
   "source": [
    "# Again similar to the Children column, the mean lowered but the median remained the same and the distribution still looks good"
   ]
  },
  {
   "cell_type": "code",
   "execution_count": 21,
   "id": "5fa496d4",
   "metadata": {},
   "outputs": [
    {
     "data": {
      "image/png": "[encoded data removed]",
      "text/plain": [
       "<Figure size 640x480 with 1 Axes>"
      ]
     },
     "metadata": {},
     "output_type": "display_data"
    },
    {
     "name": "stdout",
     "output_type": "stream",
     "text": [
      "count    9069.000000\n",
      "mean       34.498858\n",
      "std        26.438904\n",
      "min         1.000259\n",
      "25%         7.890442\n",
      "50%        36.196030\n",
      "75%        61.426670\n",
      "max        71.999280\n",
      "Name: Tenure, dtype: float64\n",
      "Median:  36.19603\n"
     ]
    }
   ],
   "source": [
    "# Checking histogram for Tenure\n",
    "# [In text citation: Dr. Middleton, K (n.d) Getting Started with D206 Data Types, Distributions, and Univariate Imputation]\n",
    "\n",
    "plt.hist(churned_data[\"Tenure\"])\n",
    "plt.show()\n",
    "\n",
    "# Check the statistics of the data before editing\n",
    "print(churned_data[\"Tenure\"].describe())\n",
    "print(\"Median: \", churned_data[\"Tenure\"].median())"
   ]
  },
  {
   "cell_type": "code",
   "execution_count": 22,
   "id": "558f3139",
   "metadata": {},
   "outputs": [
    {
     "name": "stdout",
     "output_type": "stream",
     "text": [
      "count    10000.000000\n",
      "mean        34.656864\n",
      "std         25.182812\n",
      "min          1.000259\n",
      "25%          8.700329\n",
      "50%         36.196030\n",
      "75%         60.153487\n",
      "max         71.999280\n",
      "Name: Tenure, dtype: float64\n",
      "Median:  36.19603\n",
      "0\n"
     ]
    },
    {
     "data": {
      "image/png": "[encoded data removed]",
      "text/plain": [
       "<Figure size 640x480 with 1 Axes>"
      ]
     },
     "metadata": {},
     "output_type": "display_data"
    }
   ],
   "source": [
    "# Tenure looks to be bimodal so I will replace the missing values with the median per Dr. Middleton's lecture D206 - Getting Started with D206 | Missing Values\n",
    "# [In text citation: Dr. Middleton, K (n.d) Getting Started with D206 Data Types, Distributions, and Univariate Imputation]\n",
    "\n",
    "churned_data[\"Tenure\"].fillna(churned_data[\"Tenure\"].median(), inplace = True)\n",
    "\n",
    "# Check the statistics of the data after editing\n",
    "print(churned_data[\"Tenure\"].describe())\n",
    "print(\"Median: \", churned_data[\"Tenure\"].median())\n",
    "\n",
    "print(churned_data[\"Tenure\"].isna().sum())\n",
    "\n",
    "plt.hist(churned_data[\"Tenure\"])\n",
    "plt.show()"
   ]
  },
  {
   "cell_type": "code",
   "execution_count": 23,
   "id": "9504fef0",
   "metadata": {},
   "outputs": [],
   "source": [
    "# The mean stayed roughly the same and the median stayed exactly the same. The distributions still looks generally bimodal\n",
    "# even with the spike in the middle so I think it's ok to leave it at that"
   ]
  },
  {
   "cell_type": "code",
   "execution_count": 24,
   "id": "3a7aac22",
   "metadata": {},
   "outputs": [
    {
     "data": {
      "image/png": "[encoded data removed]",
      "text/plain": [
       "<Figure size 640x480 with 1 Axes>"
      ]
     },
     "metadata": {},
     "output_type": "display_data"
    },
    {
     "name": "stdout",
     "output_type": "stream",
     "text": [
      "count    8979.000000\n",
      "mean     3398.842752\n",
      "std      2187.396807\n",
      "min       155.506715\n",
      "25%      1234.110529\n",
      "50%      3382.424000\n",
      "75%      5587.096500\n",
      "max      7158.982000\n",
      "Name: Bandwidth_GB_Year, dtype: float64\n",
      "Median:  3382.424\n"
     ]
    }
   ],
   "source": [
    "# Checking histogram for Bandwidth\n",
    "# [In text citation: Dr. Middleton, K (n.d) Getting Started with D206 Data Types, Distributions, and Univariate Imputation]\n",
    "\n",
    "plt.hist(churned_data[\"Bandwidth_GB_Year\"])\n",
    "plt.show()\n",
    "\n",
    "# Check the statistics of the data before editing\n",
    "print(churned_data[\"Bandwidth_GB_Year\"].describe())\n",
    "print(\"Median: \", churned_data[\"Bandwidth_GB_Year\"].median())"
   ]
  },
  {
   "cell_type": "code",
   "execution_count": 25,
   "id": "8f74c0d3",
   "metadata": {},
   "outputs": [
    {
     "name": "stdout",
     "output_type": "stream",
     "text": [
      "count    10000.000000\n",
      "mean      3397.166397\n",
      "std       2072.718575\n",
      "min        155.506715\n",
      "25%       1312.130487\n",
      "50%       3382.424000\n",
      "75%       5466.284500\n",
      "max       7158.982000\n",
      "Name: Bandwidth_GB_Year, dtype: float64\n",
      "Median:  3382.424\n",
      "0\n"
     ]
    },
    {
     "data": {
      "image/png": "[encoded data removed]",
      "text/plain": [
       "<Figure size 640x480 with 1 Axes>"
      ]
     },
     "metadata": {},
     "output_type": "display_data"
    }
   ],
   "source": [
    "# Bandwidth_GB_Year looks to be bimodal so I will replace the missing values with the median per Dr. Middleton's lecture D206 - Getting Started with D206 | Missing Values\n",
    "# [In text citation: Dr. Middleton, K (n.d) Getting Started with D206 Data Types, Distributions, and Univariate Imputation]\n",
    "\n",
    "churned_data[\"Bandwidth_GB_Year\"].fillna(churned_data[\"Bandwidth_GB_Year\"].median(), inplace = True)\n",
    "\n",
    "# Check the statistics of the data after editing\n",
    "print(churned_data[\"Bandwidth_GB_Year\"].describe())\n",
    "print(\"Median: \", churned_data[\"Bandwidth_GB_Year\"].median())\n",
    "\n",
    "print(churned_data[\"Bandwidth_GB_Year\"].isna().sum())\n",
    "\n",
    "plt.hist(churned_data[\"Bandwidth_GB_Year\"])\n",
    "plt.show()"
   ]
  },
  {
   "cell_type": "code",
   "execution_count": 26,
   "id": "07a50149",
   "metadata": {},
   "outputs": [],
   "source": [
    "# The mean stayed roughly the same and the median stayed exactly the same. The distributions still looks generally bimodal\n",
    "# even with the spike in the middle so I think it's ok to leave it at that"
   ]
  },
  {
   "cell_type": "code",
   "execution_count": 27,
   "id": "ab29dc58",
   "metadata": {},
   "outputs": [
    {
     "data": {
      "text/plain": [
       "Unnamed: 0                 0\n",
       "CaseOrder                  0\n",
       "Customer_id                0\n",
       "Interaction                0\n",
       "City                       0\n",
       "State                      0\n",
       "County                     0\n",
       "Zip                        0\n",
       "Lat                        0\n",
       "Lng                        0\n",
       "Population                 0\n",
       "Area                       0\n",
       "Timezone                   0\n",
       "Job                        0\n",
       "Children                   0\n",
       "Age                        0\n",
       "Education                  0\n",
       "Employment                 0\n",
       "Income                     0\n",
       "Marital                    0\n",
       "Gender                     0\n",
       "Churn                      0\n",
       "Outage_sec_perweek         0\n",
       "Email                      0\n",
       "Contacts                   0\n",
       "Yearly_equip_failure       0\n",
       "Techie                  2477\n",
       "Contract                   0\n",
       "Port_modem                 0\n",
       "Tablet                     0\n",
       "InternetService            0\n",
       "Phone                   1026\n",
       "Multiple                   0\n",
       "OnlineSecurity             0\n",
       "OnlineBackup               0\n",
       "DeviceProtection           0\n",
       "TechSupport              991\n",
       "StreamingTV                0\n",
       "StreamingMovies            0\n",
       "PaperlessBilling           0\n",
       "PaymentMethod              0\n",
       "Tenure                     0\n",
       "MonthlyCharge              0\n",
       "Bandwidth_GB_Year          0\n",
       "item1                      0\n",
       "item2                      0\n",
       "item3                      0\n",
       "item4                      0\n",
       "item5                      0\n",
       "item6                      0\n",
       "item7                      0\n",
       "item8                      0\n",
       "dtype: int64"
      ]
     },
     "execution_count": 27,
     "metadata": {},
     "output_type": "execute_result"
    }
   ],
   "source": [
    "# Going to re-check the entire data set for missing values. It should just be the categrorical entries\n",
    "churned_data.isna().sum()\n",
    "\n",
    "# The last 3 with missing values are all Yes/No questions which would be categorical so I will treat those now"
   ]
  },
  {
   "cell_type": "code",
   "execution_count": 28,
   "id": "f78d4d4d",
   "metadata": {},
   "outputs": [
    {
     "name": "stdout",
     "output_type": "stream",
     "text": [
      "NA Value Count:  2477\n",
      "No     6266\n",
      "Yes    1257\n",
      "Name: Techie, dtype: int64\n"
     ]
    },
    {
     "data": {
      "text/plain": [
       "<Axes: >"
      ]
     },
     "execution_count": 28,
     "metadata": {},
     "output_type": "execute_result"
    },
    {
     "data": {
      "image/png": "[encoded data removed]",
      "text/plain": [
       "<Figure size 640x480 with 1 Axes>"
      ]
     },
     "metadata": {},
     "output_type": "display_data"
    }
   ],
   "source": [
    "# Checking the outputs of the Techie column to verify there is nothing but Yes, No, or NA\n",
    "# [In text citation: Dr. Middleton, K (n.d) Getting Started with D206 Data Types, Distributions, and Univariate Imputation]\n",
    "\n",
    "print(\"NA Value Count: \", churned_data[\"Techie\"].isna().sum())\n",
    "\n",
    "print(churned_data[\"Techie\"].value_counts())\n",
    "\n",
    "churned_data[\"Techie\"].value_counts().plot(kind = 'bar')"
   ]
  },
  {
   "cell_type": "code",
   "execution_count": 29,
   "id": "3a63eef2",
   "metadata": {},
   "outputs": [
    {
     "name": "stdout",
     "output_type": "stream",
     "text": [
      "NA Value Count:  0\n",
      "No     8743\n",
      "Yes    1257\n",
      "Name: Techie, dtype: int64\n"
     ]
    },
    {
     "data": {
      "text/plain": [
       "<Axes: >"
      ]
     },
     "execution_count": 29,
     "metadata": {},
     "output_type": "execute_result"
    },
    {
     "data": {
      "image/png": "[encoded data removed]",
      "text/plain": [
       "<Figure size 640x480 with 1 Axes>"
      ]
     },
     "metadata": {},
     "output_type": "display_data"
    }
   ],
   "source": [
    "# Since it looks good and the missing values added with the count of all values equals 10,000 I will impute the mode onto the\n",
    "# missing values and recheck\n",
    "# [In text citation: Dr. Middleton, K (n.d) Getting Started with D206 Data Types, Distributions, and Univariate Imputation]\n",
    "\n",
    "churned_data[\"Techie\"].fillna(churned_data[\"Techie\"].mode()[0], inplace = True)\n",
    "\n",
    "print(\"NA Value Count: \", churned_data[\"Techie\"].isna().sum())\n",
    "print(churned_data[\"Techie\"].value_counts())\n",
    "\n",
    "churned_data[\"Techie\"].value_counts().plot(kind = 'bar')"
   ]
  },
  {
   "cell_type": "code",
   "execution_count": 30,
   "id": "34af11bd",
   "metadata": {},
   "outputs": [
    {
     "name": "stdout",
     "output_type": "stream",
     "text": [
      "NA Value Count:  1026\n",
      "Yes    8128\n",
      "No      846\n",
      "Name: Phone, dtype: int64\n"
     ]
    },
    {
     "data": {
      "text/plain": [
       "<Axes: >"
      ]
     },
     "execution_count": 30,
     "metadata": {},
     "output_type": "execute_result"
    },
    {
     "data": {
      "image/png": "[encoded data removed]",
      "text/plain": [
       "<Figure size 640x480 with 1 Axes>"
      ]
     },
     "metadata": {},
     "output_type": "display_data"
    }
   ],
   "source": [
    "# Checking the outputs of the Phone column to verify there is nothing but Yes, No, or NA\n",
    "# [In text citation: Dr. Middleton, K (n.d) Getting Started with D206 Data Types, Distributions, and Univariate Imputation]\n",
    "\n",
    "print(\"NA Value Count: \", churned_data[\"Phone\"].isna().sum())\n",
    "\n",
    "print(churned_data[\"Phone\"].value_counts())\n",
    "\n",
    "churned_data[\"Phone\"].value_counts().plot(kind = 'bar')"
   ]
  },
  {
   "cell_type": "code",
   "execution_count": 31,
   "id": "338a6252",
   "metadata": {},
   "outputs": [
    {
     "name": "stdout",
     "output_type": "stream",
     "text": [
      "NA Value Count:  0\n",
      "Yes    9154\n",
      "No      846\n",
      "Name: Phone, dtype: int64\n"
     ]
    },
    {
     "data": {
      "text/plain": [
       "<Axes: >"
      ]
     },
     "execution_count": 31,
     "metadata": {},
     "output_type": "execute_result"
    },
    {
     "data": {
      "image/png": "[encoded data removed]",
      "text/plain": [
       "<Figure size 640x480 with 1 Axes>"
      ]
     },
     "metadata": {},
     "output_type": "display_data"
    }
   ],
   "source": [
    "# Since it looks good and the missing values added with the count of all values equals 10,000 I will impute the mode onto the\n",
    "# missing values and recheck\n",
    "# [In text citation: Dr. Middleton, K (n.d) Getting Started with D206 Data Types, Distributions, and Univariate Imputation]\n",
    "\n",
    "churned_data[\"Phone\"].fillna(churned_data[\"Phone\"].mode()[0], inplace = True)\n",
    "\n",
    "print(\"NA Value Count: \", churned_data[\"Phone\"].isna().sum())\n",
    "print(churned_data[\"Phone\"].value_counts())\n",
    "\n",
    "churned_data[\"Phone\"].value_counts().plot(kind = 'bar')"
   ]
  },
  {
   "cell_type": "code",
   "execution_count": null,
   "id": "f6baeb59",
   "metadata": {},
   "outputs": [],
   "source": []
  },
  {
   "cell_type": "code",
   "execution_count": 32,
   "id": "549b09d9",
   "metadata": {},
   "outputs": [
    {
     "name": "stdout",
     "output_type": "stream",
     "text": [
      "NA Value Count:  991\n",
      "No     5635\n",
      "Yes    3374\n",
      "Name: TechSupport, dtype: int64\n"
     ]
    },
    {
     "data": {
      "text/plain": [
       "<Axes: >"
      ]
     },
     "execution_count": 32,
     "metadata": {},
     "output_type": "execute_result"
    },
    {
     "data": {
      "image/png": "[encoded data removed]",
      "text/plain": [
       "<Figure size 640x480 with 1 Axes>"
      ]
     },
     "metadata": {},
     "output_type": "display_data"
    }
   ],
   "source": [
    "# Checking the outputs of the TechSupport column to verify there is nothing but Yes, No, or NA\n",
    "# [In text citation: Dr. Middleton, K (n.d) Getting Started with D206 Data Types, Distributions, and Univariate Imputation]\n",
    "\n",
    "print(\"NA Value Count: \", churned_data[\"TechSupport\"].isna().sum())\n",
    "\n",
    "print(churned_data[\"TechSupport\"].value_counts())\n",
    "\n",
    "churned_data[\"TechSupport\"].value_counts().plot(kind = 'bar')"
   ]
  },
  {
   "cell_type": "code",
   "execution_count": 33,
   "id": "6e3418f2",
   "metadata": {},
   "outputs": [
    {
     "name": "stdout",
     "output_type": "stream",
     "text": [
      "NA Value Count:  0\n",
      "No     6626\n",
      "Yes    3374\n",
      "Name: TechSupport, dtype: int64\n"
     ]
    },
    {
     "data": {
      "text/plain": [
       "<Axes: >"
      ]
     },
     "execution_count": 33,
     "metadata": {},
     "output_type": "execute_result"
    },
    {
     "data": {
      "image/png": "[encoded data removed]",
      "text/plain": [
       "<Figure size 640x480 with 1 Axes>"
      ]
     },
     "metadata": {},
     "output_type": "display_data"
    }
   ],
   "source": [
    "# Since it looks good and the missing values added with the count of all values equals 10,000 I will impute the mode onto the\n",
    "# missing values and recheck\n",
    "# [In text citation: Dr. Middleton, K (n.d) Getting Started with D206 Data Types, Distributions, and Univariate Imputation]\n",
    "\n",
    "churned_data[\"TechSupport\"].fillna(churned_data[\"TechSupport\"].mode()[0], inplace = True)\n",
    "\n",
    "print(\"NA Value Count: \", churned_data[\"TechSupport\"].isna().sum())\n",
    "print(churned_data[\"TechSupport\"].value_counts())\n",
    "\n",
    "churned_data[\"TechSupport\"].value_counts().plot(kind = 'bar')"
   ]
  },
  {
   "cell_type": "code",
   "execution_count": 34,
   "id": "116e8437",
   "metadata": {},
   "outputs": [
    {
     "data": {
      "text/plain": [
       "Unnamed: 0              0\n",
       "CaseOrder               0\n",
       "Customer_id             0\n",
       "Interaction             0\n",
       "City                    0\n",
       "State                   0\n",
       "County                  0\n",
       "Zip                     0\n",
       "Lat                     0\n",
       "Lng                     0\n",
       "Population              0\n",
       "Area                    0\n",
       "Timezone                0\n",
       "Job                     0\n",
       "Children                0\n",
       "Age                     0\n",
       "Education               0\n",
       "Employment              0\n",
       "Income                  0\n",
       "Marital                 0\n",
       "Gender                  0\n",
       "Churn                   0\n",
       "Outage_sec_perweek      0\n",
       "Email                   0\n",
       "Contacts                0\n",
       "Yearly_equip_failure    0\n",
       "Techie                  0\n",
       "Contract                0\n",
       "Port_modem              0\n",
       "Tablet                  0\n",
       "InternetService         0\n",
       "Phone                   0\n",
       "Multiple                0\n",
       "OnlineSecurity          0\n",
       "OnlineBackup            0\n",
       "DeviceProtection        0\n",
       "TechSupport             0\n",
       "StreamingTV             0\n",
       "StreamingMovies         0\n",
       "PaperlessBilling        0\n",
       "PaymentMethod           0\n",
       "Tenure                  0\n",
       "MonthlyCharge           0\n",
       "Bandwidth_GB_Year       0\n",
       "item1                   0\n",
       "item2                   0\n",
       "item3                   0\n",
       "item4                   0\n",
       "item5                   0\n",
       "item6                   0\n",
       "item7                   0\n",
       "item8                   0\n",
       "dtype: int64"
      ]
     },
     "execution_count": 34,
     "metadata": {},
     "output_type": "execute_result"
    }
   ],
   "source": [
    "# One last check to see if we have any missing values\n",
    "churned_data.isna().sum()"
   ]
  },
  {
   "cell_type": "code",
   "execution_count": 35,
   "id": "0cb2146d",
   "metadata": {},
   "outputs": [],
   "source": [
    "\n",
    "\n",
    "\n",
    "\n",
    "\n",
    "\n",
    "\n",
    "\n",
    "\n",
    "\n",
    "\n",
    "\n",
    "\n",
    "\n",
    "\n",
    "\n",
    "## TIME FOR THE OUTLIER DETECTION PART\n",
    "\n",
    "\n",
    "\n",
    "\n",
    "\n",
    "\n",
    "\n",
    "\n",
    "\n",
    "\n",
    "\n",
    "\n",
    "\n",
    "\n",
    "\n"
   ]
  },
  {
   "cell_type": "code",
   "execution_count": 36,
   "id": "5de957c4",
   "metadata": {},
   "outputs": [
    {
     "data": {
      "text/plain": [
       "<function matplotlib.pyplot.show(close=None, block=None)>"
      ]
     },
     "execution_count": 36,
     "metadata": {},
     "output_type": "execute_result"
    },
    {
     "data": {
      "image/png": "[encoded data removed]",
      "text/plain": [
       "<Figure size 640x480 with 1 Axes>"
      ]
     },
     "metadata": {},
     "output_type": "display_data"
    }
   ],
   "source": [
    "# As we can see, we now no longer have any missing values! The next step is to move on to detecting outliers in the \n",
    "# numerical variables. They are: \"Population\", \"Children\", \"Age\", \"Income\",\n",
    "# \"Outage_sec_perweek\", \"Email\", \"Contacts\", \"Yearly_equip_failure\", \"Tenure\", \"MonthlyCharge\", \"Bandwidth_GB_Year\"\n",
    "\n",
    "plt.hist(churned_data[\"Population\"])\n",
    "plt.show"
   ]
  },
  {
   "cell_type": "code",
   "execution_count": 37,
   "id": "35f90e08",
   "metadata": {},
   "outputs": [
    {
     "data": {
      "image/png": "[encoded data removed]",
      "text/plain": [
       "<Figure size 640x480 with 1 Axes>"
      ]
     },
     "metadata": {},
     "output_type": "display_data"
    }
   ],
   "source": [
    "# Since the population is skewed right, we won't use Z-scores to detect outliers. Instead I will try to use boxplots\n",
    "# [In text citation: Dr. Middleton, K (n.d) Getting Started with D206 Detecting and Treating Outliers]\n",
    "\n",
    "boxplot_population = seaborn.boxplot(x = \"Population\", data = churned_data)"
   ]
  },
  {
   "cell_type": "code",
   "execution_count": 38,
   "id": "ca974a3e",
   "metadata": {},
   "outputs": [
    {
     "name": "stdout",
     "output_type": "stream",
     "text": [
      "738.0 13168.0\n",
      "12430.0\n",
      "-17907.0 31813.0\n",
      "Max Range of Outliers:  31814.0 to 111850\n"
     ]
    }
   ],
   "source": [
    "pop_q1, pop_q3 = np.percentile(churned_data[\"Population\"], [25,75])\n",
    "print(pop_q1, pop_q3)\n",
    "\n",
    "pop_iqr = pop_q3 - pop_q1\n",
    "print(pop_iqr)\n",
    "\n",
    "pop_lower_limit = pop_q1 - (1.5*pop_iqr)\n",
    "pop_upper_limit = pop_q3 + (1.5*pop_iqr)\n",
    "print(pop_lower_limit, pop_upper_limit)\n",
    "\n",
    "# Since no outliers are to the left, I will check the max outlier to check the range of outliers\n",
    "#print(\"Min Range of Outliers: \", churned_data[\"Population\"].min())\n",
    "print(\"Max Range of Outliers: \", pop_upper_limit + 1, \"to\", churned_data[\"Population\"].max())\n",
    "\n",
    "## Added +1 to the range to account for anything greater than the max range of non-outliers\n",
    "## and since population can only be an integer it should be ok"
   ]
  },
  {
   "cell_type": "code",
   "execution_count": 39,
   "id": "00b2f928",
   "metadata": {},
   "outputs": [
    {
     "name": "stdout",
     "output_type": "stream",
     "text": [
      "Unnamed: 0              937\n",
      "CaseOrder               937\n",
      "Customer_id             937\n",
      "Interaction             937\n",
      "City                    937\n",
      "State                   937\n",
      "County                  937\n",
      "Zip                     937\n",
      "Lat                     937\n",
      "Lng                     937\n",
      "Population              937\n",
      "Area                    937\n",
      "Timezone                937\n",
      "Job                     937\n",
      "Children                937\n",
      "Age                     937\n",
      "Education               937\n",
      "Employment              937\n",
      "Income                  937\n",
      "Marital                 937\n",
      "Gender                  937\n",
      "Churn                   937\n",
      "Outage_sec_perweek      937\n",
      "Email                   937\n",
      "Contacts                937\n",
      "Yearly_equip_failure    937\n",
      "Techie                  937\n",
      "Contract                937\n",
      "Port_modem              937\n",
      "Tablet                  937\n",
      "InternetService         937\n",
      "Phone                   937\n",
      "Multiple                937\n",
      "OnlineSecurity          937\n",
      "OnlineBackup            937\n",
      "DeviceProtection        937\n",
      "TechSupport             937\n",
      "StreamingTV             937\n",
      "StreamingMovies         937\n",
      "PaperlessBilling        937\n",
      "PaymentMethod           937\n",
      "Tenure                  937\n",
      "MonthlyCharge           937\n",
      "Bandwidth_GB_Year       937\n",
      "item1                   937\n",
      "item2                   937\n",
      "item3                   937\n",
      "item4                   937\n",
      "item5                   937\n",
      "item6                   937\n",
      "item7                   937\n",
      "item8                   937\n",
      "dtype: int64\n",
      "Unnamed: 0              0\n",
      "CaseOrder               0\n",
      "Customer_id             0\n",
      "Interaction             0\n",
      "City                    0\n",
      "State                   0\n",
      "County                  0\n",
      "Zip                     0\n",
      "Lat                     0\n",
      "Lng                     0\n",
      "Population              0\n",
      "Area                    0\n",
      "Timezone                0\n",
      "Job                     0\n",
      "Children                0\n",
      "Age                     0\n",
      "Education               0\n",
      "Employment              0\n",
      "Income                  0\n",
      "Marital                 0\n",
      "Gender                  0\n",
      "Churn                   0\n",
      "Outage_sec_perweek      0\n",
      "Email                   0\n",
      "Contacts                0\n",
      "Yearly_equip_failure    0\n",
      "Techie                  0\n",
      "Contract                0\n",
      "Port_modem              0\n",
      "Tablet                  0\n",
      "InternetService         0\n",
      "Phone                   0\n",
      "Multiple                0\n",
      "OnlineSecurity          0\n",
      "OnlineBackup            0\n",
      "DeviceProtection        0\n",
      "TechSupport             0\n",
      "StreamingTV             0\n",
      "StreamingMovies         0\n",
      "PaperlessBilling        0\n",
      "PaymentMethod           0\n",
      "Tenure                  0\n",
      "MonthlyCharge           0\n",
      "Bandwidth_GB_Year       0\n",
      "item1                   0\n",
      "item2                   0\n",
      "item3                   0\n",
      "item4                   0\n",
      "item5                   0\n",
      "item6                   0\n",
      "item7                   0\n",
      "item8                   0\n",
      "dtype: int64\n"
     ]
    }
   ],
   "source": [
    "print(churned_data[churned_data[\"Population\"] > pop_upper_limit].count())\n",
    "print(churned_data[churned_data[\"Population\"] < pop_lower_limit].count())\n",
    "\n",
    "\n",
    "## Since almost 10% of the data are considered outliers, I think it would be \n",
    "## best to RETAIN the outliers of this data. Although retaining will reduce\n",
    "## normality for the statistical tests, you would expect that the number of \n",
    "## people living in an area would fluctuate a lot. We can see this in the \n",
    "## data as less populated places appear to be more common, but the outliers\n",
    "## don't seem to extreme in terms of expectability. For example, a customer \n",
    "## who lives in Chicago shouldn't be excluded just because they live in a \n",
    "## major, dense city otherwise we would introduce bias against major cities"
   ]
  },
  {
   "cell_type": "code",
   "execution_count": 40,
   "id": "7bd6e7e5",
   "metadata": {},
   "outputs": [
    {
     "data": {
      "text/plain": [
       "<function matplotlib.pyplot.show(close=None, block=None)>"
      ]
     },
     "execution_count": 40,
     "metadata": {},
     "output_type": "execute_result"
    },
    {
     "data": {
      "image/png": "[encoded data removed]",
      "text/plain": [
       "<Figure size 640x480 with 1 Axes>"
      ]
     },
     "metadata": {},
     "output_type": "display_data"
    }
   ],
   "source": [
    "#\"Children\", \"Age\", \"Income\",\n",
    "# \"Outage_sec_perweek\", \"Email\", \"Contacts\", \"Yearly_equip_failure\", \"Tenure\", \"MonthlyCharge\", \"Bandwidth_GB_Year\"\n",
    "plt.hist(churned_data[\"Children\"])\n",
    "plt.show\n",
    "\n",
    "# Skewed right, will try boxplots"
   ]
  },
  {
   "cell_type": "code",
   "execution_count": 41,
   "id": "fe389dc0",
   "metadata": {},
   "outputs": [
    {
     "data": {
      "image/png": "[encoded data removed]",
      "text/plain": [
       "<Figure size 640x480 with 1 Axes>"
      ]
     },
     "metadata": {},
     "output_type": "display_data"
    }
   ],
   "source": [
    "# [In text citation: Dr. Middleton, K (n.d) Getting Started with D206 Detecting and Treating Outliers]\n",
    "\n",
    "boxplot_children = seaborn.boxplot(x = \"Children\", data = churned_data)"
   ]
  },
  {
   "cell_type": "code",
   "execution_count": 42,
   "id": "6a612abc",
   "metadata": {},
   "outputs": [
    {
     "name": "stdout",
     "output_type": "stream",
     "text": [
      "1.0 3.0\n",
      "2.0\n",
      "-2.0 6.0\n",
      "Max Range of Outliers:  7.0 to 10.0\n"
     ]
    }
   ],
   "source": [
    "# Since the population is skewed right, we won't use Z-scores to detect outliers. Instead I will try to use boxplots\n",
    "# Also want to check for the interquartile range to know where the value of potential outliers might lie\n",
    "Children_q1, Children_q3 = np.percentile(churned_data[\"Children\"], [25,75])\n",
    "print(Children_q1, Children_q3)\n",
    "\n",
    "Children_iqr = Children_q3 - Children_q1\n",
    "print(Children_iqr)\n",
    "\n",
    "Children_lower_limit = Children_q1 - (1.5*Children_iqr)\n",
    "Children_upper_limit = Children_q3 + (1.5*Children_iqr)\n",
    "print(Children_lower_limit, Children_upper_limit)\n",
    "\n",
    "\n",
    "# Since no outliers are to the left, I will check the max outlier to check the range of outliers\n",
    "#print(\"Min Range of Outliers: \", churned_data[\"Children\"].min())\n",
    "print(\"Max Range of Outliers: \", Children_upper_limit + 1, \"to\", churned_data[\"Children\"].max())"
   ]
  },
  {
   "cell_type": "code",
   "execution_count": 43,
   "id": "bf09655f",
   "metadata": {},
   "outputs": [
    {
     "data": {
      "text/plain": [
       "Unnamed: 0              451\n",
       "CaseOrder               451\n",
       "Customer_id             451\n",
       "Interaction             451\n",
       "City                    451\n",
       "State                   451\n",
       "County                  451\n",
       "Zip                     451\n",
       "Lat                     451\n",
       "Lng                     451\n",
       "Population              451\n",
       "Area                    451\n",
       "Timezone                451\n",
       "Job                     451\n",
       "Children                451\n",
       "Age                     451\n",
       "Education               451\n",
       "Employment              451\n",
       "Income                  451\n",
       "Marital                 451\n",
       "Gender                  451\n",
       "Churn                   451\n",
       "Outage_sec_perweek      451\n",
       "Email                   451\n",
       "Contacts                451\n",
       "Yearly_equip_failure    451\n",
       "Techie                  451\n",
       "Contract                451\n",
       "Port_modem              451\n",
       "Tablet                  451\n",
       "InternetService         451\n",
       "Phone                   451\n",
       "Multiple                451\n",
       "OnlineSecurity          451\n",
       "OnlineBackup            451\n",
       "DeviceProtection        451\n",
       "TechSupport             451\n",
       "StreamingTV             451\n",
       "StreamingMovies         451\n",
       "PaperlessBilling        451\n",
       "PaymentMethod           451\n",
       "Tenure                  451\n",
       "MonthlyCharge           451\n",
       "Bandwidth_GB_Year       451\n",
       "item1                   451\n",
       "item2                   451\n",
       "item3                   451\n",
       "item4                   451\n",
       "item5                   451\n",
       "item6                   451\n",
       "item7                   451\n",
       "item8                   451\n",
       "dtype: int64"
      ]
     },
     "execution_count": 43,
     "metadata": {},
     "output_type": "execute_result"
    }
   ],
   "source": [
    "# Check the query for how many outliers there are\n",
    "churned_data[churned_data[\"Children\"] > Children_upper_limit].count()\n",
    "\n",
    "\n",
    "## Likely going to RETAIN"
   ]
  },
  {
   "cell_type": "code",
   "execution_count": 44,
   "id": "170766e7",
   "metadata": {},
   "outputs": [
    {
     "data": {
      "text/plain": [
       "<function matplotlib.pyplot.show(close=None, block=None)>"
      ]
     },
     "execution_count": 44,
     "metadata": {},
     "output_type": "execute_result"
    },
    {
     "data": {
      "image/png": "[encoded data removed]",
      "text/plain": [
       "<Figure size 640x480 with 1 Axes>"
      ]
     },
     "metadata": {},
     "output_type": "display_data"
    }
   ],
   "source": [
    "plt.hist(churned_data[\"Age\"])\n",
    "plt.show\n",
    "\n",
    "# Uniform, will try boxplots"
   ]
  },
  {
   "cell_type": "code",
   "execution_count": 45,
   "id": "86eac7be",
   "metadata": {},
   "outputs": [
    {
     "name": "stdout",
     "output_type": "stream",
     "text": [
      "41.0 65.0\n",
      "24.0\n",
      "5.0 101.0\n"
     ]
    },
    {
     "data": {
      "image/png": "[encoded data removed]",
      "text/plain": [
       "<Figure size 640x480 with 1 Axes>"
      ]
     },
     "metadata": {},
     "output_type": "display_data"
    }
   ],
   "source": [
    "# Since the population is skewed right, we won't use Z-scores to detect outliers. Instead I will try to use boxplots\n",
    "# Also want to check for the interquartile range to know where the value of potential outliers might lie\n",
    "Age_q1, Age_q3 = np.percentile(churned_data[\"Age\"], [25,75])\n",
    "print(Age_q1, Age_q3)\n",
    "\n",
    "Age_iqr = Age_q3 - Age_q1\n",
    "print(Age_iqr)\n",
    "\n",
    "Age_lower_limit = Age_q1 - (1.5*Age_iqr)\n",
    "Age_upper_limit = Age_q3 + (1.5*Age_iqr)\n",
    "print(Age_lower_limit, Age_upper_limit)\n",
    "\n",
    "boxplot_Age = seaborn.boxplot(x = \"Age\", data = churned_data)"
   ]
  },
  {
   "cell_type": "code",
   "execution_count": 46,
   "id": "957d9127",
   "metadata": {},
   "outputs": [],
   "source": [
    "# No outliers for Age!"
   ]
  },
  {
   "cell_type": "code",
   "execution_count": 47,
   "id": "a01a2ce2",
   "metadata": {},
   "outputs": [
    {
     "data": {
      "text/plain": [
       "<function matplotlib.pyplot.show(close=None, block=None)>"
      ]
     },
     "execution_count": 47,
     "metadata": {},
     "output_type": "execute_result"
    },
    {
     "data": {
      "image/png": "[encoded data removed]",
      "text/plain": [
       "<Figure size 640x480 with 1 Axes>"
      ]
     },
     "metadata": {},
     "output_type": "display_data"
    }
   ],
   "source": [
    "plt.hist(churned_data[\"Income\"])\n",
    "plt.show\n",
    "\n",
    "# Skewed right, will try boxplots"
   ]
  },
  {
   "cell_type": "code",
   "execution_count": 48,
   "id": "d16c53ca",
   "metadata": {},
   "outputs": [
    {
     "data": {
      "image/png": "[encoded data removed]",
      "text/plain": [
       "<Figure size 640x480 with 1 Axes>"
      ]
     },
     "metadata": {},
     "output_type": "display_data"
    }
   ],
   "source": [
    "# [In text citation: Dr. Middleton, K (n.d) Getting Started with D206 Detecting and Treating Outliers]\n",
    "\n",
    "boxplot_Income = seaborn.boxplot(x = \"Income\", data = churned_data)"
   ]
  },
  {
   "cell_type": "code",
   "execution_count": 49,
   "id": "acaab1d5",
   "metadata": {},
   "outputs": [
    {
     "name": "stdout",
     "output_type": "stream",
     "text": [
      "23660.79 45504.1925\n",
      "21843.402499999997\n",
      "-9104.313749999994 78269.29624999998\n",
      "Max Range of Outliers:  78270.29624999998 to 258900.7\n"
     ]
    }
   ],
   "source": [
    "# Since the population is skewed right, we won't use Z-scores to detect outliers. Instead I will try to use boxplots\n",
    "# Also want to check for the interquartile range to know where the value of potential outliers might lie\n",
    "Income_q1, Income_q3 = np.percentile(churned_data[\"Income\"], [25,75])\n",
    "print(Income_q1, Income_q3)\n",
    "\n",
    "Income_iqr = Income_q3 - Income_q1\n",
    "print(Income_iqr)\n",
    "\n",
    "Income_lower_limit = Income_q1 - (1.5*Income_iqr)\n",
    "Income_upper_limit = Income_q3 + (1.5*Income_iqr)\n",
    "print(Income_lower_limit, Income_upper_limit)\n",
    "\n",
    "\n",
    "# Since no outliers are to the left, I will check the max outlier to check the range of outliers\n",
    "#print(\"Min Range of Outliers: \", churned_data[\"Income\"].min())\n",
    "print(\"Max Range of Outliers: \", Income_upper_limit + 1, \"to\", churned_data[\"Income\"].max())"
   ]
  },
  {
   "cell_type": "code",
   "execution_count": 50,
   "id": "629a5d17",
   "metadata": {},
   "outputs": [
    {
     "data": {
      "text/plain": [
       "Unnamed: 0              759\n",
       "CaseOrder               759\n",
       "Customer_id             759\n",
       "Interaction             759\n",
       "City                    759\n",
       "State                   759\n",
       "County                  759\n",
       "Zip                     759\n",
       "Lat                     759\n",
       "Lng                     759\n",
       "Population              759\n",
       "Area                    759\n",
       "Timezone                759\n",
       "Job                     759\n",
       "Children                759\n",
       "Age                     759\n",
       "Education               759\n",
       "Employment              759\n",
       "Income                  759\n",
       "Marital                 759\n",
       "Gender                  759\n",
       "Churn                   759\n",
       "Outage_sec_perweek      759\n",
       "Email                   759\n",
       "Contacts                759\n",
       "Yearly_equip_failure    759\n",
       "Techie                  759\n",
       "Contract                759\n",
       "Port_modem              759\n",
       "Tablet                  759\n",
       "InternetService         759\n",
       "Phone                   759\n",
       "Multiple                759\n",
       "OnlineSecurity          759\n",
       "OnlineBackup            759\n",
       "DeviceProtection        759\n",
       "TechSupport             759\n",
       "StreamingTV             759\n",
       "StreamingMovies         759\n",
       "PaperlessBilling        759\n",
       "PaymentMethod           759\n",
       "Tenure                  759\n",
       "MonthlyCharge           759\n",
       "Bandwidth_GB_Year       759\n",
       "item1                   759\n",
       "item2                   759\n",
       "item3                   759\n",
       "item4                   759\n",
       "item5                   759\n",
       "item6                   759\n",
       "item7                   759\n",
       "item8                   759\n",
       "dtype: int64"
      ]
     },
     "execution_count": 50,
     "metadata": {},
     "output_type": "execute_result"
    }
   ],
   "source": [
    "# Check the query for how many outliers there are\n",
    "churned_data[churned_data[\"Income\"] > Income_upper_limit].count()\n",
    "\n",
    "\n",
    "## Going to EXCLUDE these and recheck"
   ]
  },
  {
   "cell_type": "code",
   "execution_count": 51,
   "id": "e1225127",
   "metadata": {},
   "outputs": [
    {
     "data": {
      "text/plain": [
       "<function matplotlib.pyplot.show(close=None, block=None)>"
      ]
     },
     "execution_count": 51,
     "metadata": {},
     "output_type": "execute_result"
    },
    {
     "data": {
      "image/png": "[encoded data removed]",
      "text/plain": [
       "<Figure size 640x480 with 1 Axes>"
      ]
     },
     "metadata": {},
     "output_type": "display_data"
    }
   ],
   "source": [
    "plt.hist(churned_data[\"Outage_sec_perweek\"])\n",
    "plt.show\n",
    "\n",
    "# Looks normal outside of the edge cases, will try boxplots"
   ]
  },
  {
   "cell_type": "code",
   "execution_count": 52,
   "id": "9b01c3c1",
   "metadata": {},
   "outputs": [
    {
     "data": {
      "image/png": "[encoded data removed]",
      "text/plain": [
       "<Figure size 640x480 with 1 Axes>"
      ]
     },
     "metadata": {},
     "output_type": "display_data"
    }
   ],
   "source": [
    "# [In text citation: Dr. Middleton, K (n.d) Getting Started with D206 Detecting and Treating Outliers]\n",
    "\n",
    "boxplot_Outage = seaborn.boxplot(x = \"Outage_sec_perweek\", data = churned_data)"
   ]
  },
  {
   "cell_type": "code",
   "execution_count": 53,
   "id": "6c170a99",
   "metadata": {},
   "outputs": [
    {
     "name": "stdout",
     "output_type": "stream",
     "text": [
      "8.054362000000001 12.487643622499998\n",
      "4.433281622499997\n",
      "1.404439566250005 19.137566056249995\n",
      "Min Range of Outliers:  -1.348571 To 1.404439566250005\n",
      "Max Range of Outliers:  19.137566056249995 To 47.04928\n"
     ]
    }
   ],
   "source": [
    "# Since the population is skewed right, we won't use Z-scores to detect outliers. Instead I will try to use boxplots\n",
    "# Also want to check for the interquartile range to know where the value of potential outliers might lie\n",
    "Outage_q1, Outage_q3 = np.percentile(churned_data[\"Outage_sec_perweek\"], [25,75])\n",
    "print(Outage_q1, Outage_q3)\n",
    "\n",
    "Outage_iqr = Outage_q3 - Outage_q1\n",
    "print(Outage_iqr)\n",
    "\n",
    "Outage_lower_limit = Outage_q1 - (1.5*Outage_iqr)\n",
    "Outage_upper_limit = Outage_q3 + (1.5*Outage_iqr)\n",
    "print(Outage_lower_limit, Outage_upper_limit)\n",
    "\n",
    "\n",
    "# I will check the max and min outlier to check the range of outliers\n",
    "print(\"Min Range of Outliers: \", churned_data[\"Outage_sec_perweek\"].min(), \"To\", Outage_lower_limit)\n",
    "print(\"Max Range of Outliers: \", Outage_upper_limit, \"To\", churned_data[\"Outage_sec_perweek\"].max() )"
   ]
  },
  {
   "cell_type": "code",
   "execution_count": 54,
   "id": "f4efc980",
   "metadata": {},
   "outputs": [
    {
     "name": "stdout",
     "output_type": "stream",
     "text": [
      "Unnamed: 0              513\n",
      "CaseOrder               513\n",
      "Customer_id             513\n",
      "Interaction             513\n",
      "City                    513\n",
      "State                   513\n",
      "County                  513\n",
      "Zip                     513\n",
      "Lat                     513\n",
      "Lng                     513\n",
      "Population              513\n",
      "Area                    513\n",
      "Timezone                513\n",
      "Job                     513\n",
      "Children                513\n",
      "Age                     513\n",
      "Education               513\n",
      "Employment              513\n",
      "Income                  513\n",
      "Marital                 513\n",
      "Gender                  513\n",
      "Churn                   513\n",
      "Outage_sec_perweek      513\n",
      "Email                   513\n",
      "Contacts                513\n",
      "Yearly_equip_failure    513\n",
      "Techie                  513\n",
      "Contract                513\n",
      "Port_modem              513\n",
      "Tablet                  513\n",
      "InternetService         513\n",
      "Phone                   513\n",
      "Multiple                513\n",
      "OnlineSecurity          513\n",
      "OnlineBackup            513\n",
      "DeviceProtection        513\n",
      "TechSupport             513\n",
      "StreamingTV             513\n",
      "StreamingMovies         513\n",
      "PaperlessBilling        513\n",
      "PaymentMethod           513\n",
      "Tenure                  513\n",
      "MonthlyCharge           513\n",
      "Bandwidth_GB_Year       513\n",
      "item1                   513\n",
      "item2                   513\n",
      "item3                   513\n",
      "item4                   513\n",
      "item5                   513\n",
      "item6                   513\n",
      "item7                   513\n",
      "item8                   513\n",
      "dtype: int64\n",
      "Unnamed: 0              26\n",
      "CaseOrder               26\n",
      "Customer_id             26\n",
      "Interaction             26\n",
      "City                    26\n",
      "State                   26\n",
      "County                  26\n",
      "Zip                     26\n",
      "Lat                     26\n",
      "Lng                     26\n",
      "Population              26\n",
      "Area                    26\n",
      "Timezone                26\n",
      "Job                     26\n",
      "Children                26\n",
      "Age                     26\n",
      "Education               26\n",
      "Employment              26\n",
      "Income                  26\n",
      "Marital                 26\n",
      "Gender                  26\n",
      "Churn                   26\n",
      "Outage_sec_perweek      26\n",
      "Email                   26\n",
      "Contacts                26\n",
      "Yearly_equip_failure    26\n",
      "Techie                  26\n",
      "Contract                26\n",
      "Port_modem              26\n",
      "Tablet                  26\n",
      "InternetService         26\n",
      "Phone                   26\n",
      "Multiple                26\n",
      "OnlineSecurity          26\n",
      "OnlineBackup            26\n",
      "DeviceProtection        26\n",
      "TechSupport             26\n",
      "StreamingTV             26\n",
      "StreamingMovies         26\n",
      "PaperlessBilling        26\n",
      "PaymentMethod           26\n",
      "Tenure                  26\n",
      "MonthlyCharge           26\n",
      "Bandwidth_GB_Year       26\n",
      "item1                   26\n",
      "item2                   26\n",
      "item3                   26\n",
      "item4                   26\n",
      "item5                   26\n",
      "item6                   26\n",
      "item7                   26\n",
      "item8                   26\n",
      "dtype: int64\n"
     ]
    }
   ],
   "source": [
    "# Check the query for how many outliers there are\n",
    "print(churned_data[churned_data[\"Outage_sec_perweek\"] > Outage_upper_limit].count())\n",
    "print(churned_data[churned_data[\"Outage_sec_perweek\"] < Outage_lower_limit].count())\n",
    "\n",
    "## Based on histogram, will exclude data points that are greater than 27. Although there are 500 instances of that and they\n",
    "## Look like a normal distribution. Might reclassify outages into two separate categories so as to not remove 500 entries"
   ]
  },
  {
   "cell_type": "code",
   "execution_count": 55,
   "id": "d0979fca",
   "metadata": {},
   "outputs": [
    {
     "data": {
      "text/plain": [
       "<function matplotlib.pyplot.show(close=None, block=None)>"
      ]
     },
     "execution_count": 55,
     "metadata": {},
     "output_type": "execute_result"
    },
    {
     "data": {
      "image/png": "[encoded data removed]",
      "text/plain": [
       "<Figure size 640x480 with 1 Axes>"
      ]
     },
     "metadata": {},
     "output_type": "display_data"
    }
   ],
   "source": [
    "plt.hist(churned_data[\"Email\"])\n",
    "plt.show\n",
    "\n",
    "# Looks normally distributed, will try z-scores and then boxplots"
   ]
  },
  {
   "cell_type": "code",
   "execution_count": 56,
   "id": "c9fe8eb5",
   "metadata": {},
   "outputs": [
    {
     "data": {
      "text/plain": [
       "<function matplotlib.pyplot.show(close=None, block=None)>"
      ]
     },
     "execution_count": 56,
     "metadata": {},
     "output_type": "execute_result"
    },
    {
     "data": {
      "image/png": "[encoded data removed]",
      "text/plain": [
       "<Figure size 640x480 with 1 Axes>"
      ]
     },
     "metadata": {},
     "output_type": "display_data"
    }
   ],
   "source": [
    "# Checking Z-scores for \"Email\"\n",
    "# [In text citation: Dr. Middleton, K (n.d) Getting Started with D206 Detecting and Treating Outliers]\n",
    "\n",
    "churned_data[\"Z_Score_Email\"] = stats.zscore(churned_data[\"Email\"])\n",
    "#churned_data[[\"Email\", \"Z_Score_Email\"]].head()\n",
    "\n",
    "plt.hist(churned_data[\"Z_Score_Email\"])\n",
    "plt.show"
   ]
  },
  {
   "cell_type": "code",
   "execution_count": 57,
   "id": "6abc26ba",
   "metadata": {},
   "outputs": [
    {
     "data": {
      "text/plain": [
       "<Axes: xlabel='Z_Score_Email'>"
      ]
     },
     "execution_count": 57,
     "metadata": {},
     "output_type": "execute_result"
    },
    {
     "data": {
      "image/png": "[encoded data removed]",
      "text/plain": [
       "<Figure size 640x480 with 1 Axes>"
      ]
     },
     "metadata": {},
     "output_type": "display_data"
    }
   ],
   "source": [
    "seaborn.boxplot(x = \"Z_Score_Email\", data = churned_data)"
   ]
  },
  {
   "cell_type": "code",
   "execution_count": 58,
   "id": "ae9ba905",
   "metadata": {},
   "outputs": [
    {
     "name": "stdout",
     "output_type": "stream",
     "text": [
      "<class 'pandas.core.frame.DataFrame'>\n",
      "Int64Index: 12 entries, 795 to 9475\n",
      "Data columns (total 53 columns):\n",
      " #   Column                Non-Null Count  Dtype  \n",
      "---  ------                --------------  -----  \n",
      " 0   Unnamed: 0            12 non-null     int64  \n",
      " 1   CaseOrder             12 non-null     int64  \n",
      " 2   Customer_id           12 non-null     object \n",
      " 3   Interaction           12 non-null     object \n",
      " 4   City                  12 non-null     object \n",
      " 5   State                 12 non-null     object \n",
      " 6   County                12 non-null     object \n",
      " 7   Zip                   12 non-null     int64  \n",
      " 8   Lat                   12 non-null     float64\n",
      " 9   Lng                   12 non-null     float64\n",
      " 10  Population            12 non-null     int64  \n",
      " 11  Area                  12 non-null     object \n",
      " 12  Timezone              12 non-null     object \n",
      " 13  Job                   12 non-null     object \n",
      " 14  Children              12 non-null     float64\n",
      " 15  Age                   12 non-null     float64\n",
      " 16  Education             12 non-null     object \n",
      " 17  Employment            12 non-null     object \n",
      " 18  Income                12 non-null     float64\n",
      " 19  Marital               12 non-null     object \n",
      " 20  Gender                12 non-null     object \n",
      " 21  Churn                 12 non-null     object \n",
      " 22  Outage_sec_perweek    12 non-null     float64\n",
      " 23  Email                 12 non-null     int64  \n",
      " 24  Contacts              12 non-null     int64  \n",
      " 25  Yearly_equip_failure  12 non-null     int64  \n",
      " 26  Techie                12 non-null     object \n",
      " 27  Contract              12 non-null     object \n",
      " 28  Port_modem            12 non-null     object \n",
      " 29  Tablet                12 non-null     object \n",
      " 30  InternetService       12 non-null     object \n",
      " 31  Phone                 12 non-null     object \n",
      " 32  Multiple              12 non-null     object \n",
      " 33  OnlineSecurity        12 non-null     object \n",
      " 34  OnlineBackup          12 non-null     object \n",
      " 35  DeviceProtection      12 non-null     object \n",
      " 36  TechSupport           12 non-null     object \n",
      " 37  StreamingTV           12 non-null     object \n",
      " 38  StreamingMovies       12 non-null     object \n",
      " 39  PaperlessBilling      12 non-null     object \n",
      " 40  PaymentMethod         12 non-null     object \n",
      " 41  Tenure                12 non-null     float64\n",
      " 42  MonthlyCharge         12 non-null     float64\n",
      " 43  Bandwidth_GB_Year     12 non-null     float64\n",
      " 44  item1                 12 non-null     int64  \n",
      " 45  item2                 12 non-null     int64  \n",
      " 46  item3                 12 non-null     int64  \n",
      " 47  item4                 12 non-null     int64  \n",
      " 48  item5                 12 non-null     int64  \n",
      " 49  item6                 12 non-null     int64  \n",
      " 50  item7                 12 non-null     int64  \n",
      " 51  item8                 12 non-null     int64  \n",
      " 52  Z_Score_Email         12 non-null     float64\n",
      "dtypes: float64(10), int64(15), object(28)\n",
      "memory usage: 5.1+ KB\n"
     ]
    }
   ],
   "source": [
    "# Looks like there might be a few outliers outside of 3 SD away so I will check to see how many\n",
    "# [In text citation: Dr. Middleton, K (n.d) Getting Started with D206 Detecting and Treating Outliers]\n",
    "\n",
    "churned_data.query(\"Z_Score_Email > 3 | Z_Score_Email < -3\").info()\n",
    "\n",
    "\n",
    "## Thinking I will EXCLUDE. Few amount of entries\n"
   ]
  },
  {
   "cell_type": "code",
   "execution_count": 59,
   "id": "8c59b181",
   "metadata": {},
   "outputs": [
    {
     "name": "stdout",
     "output_type": "stream",
     "text": [
      "10.0 14.0\n",
      "4.0\n",
      "4.0 20.0\n",
      "Min Range of Outliers:  1 To 3.0\n",
      "Max Range of Outliers:  21.0 To 23\n"
     ]
    }
   ],
   "source": [
    "# Also want to check for the interquartile range to know where the value of potential outliers might lie\n",
    "Email_q1, Email_q3 = np.percentile(churned_data[\"Email\"], [25,75])\n",
    "print(Email_q1, Email_q3)\n",
    "\n",
    "Email_iqr = Email_q3 - Email_q1\n",
    "print(Email_iqr)\n",
    "\n",
    "Email_lower_limit = Email_q1 - (1.5*Email_iqr)\n",
    "Email_upper_limit = Email_q3 + (1.5*Email_iqr)\n",
    "print(Email_lower_limit, Email_upper_limit)\n",
    "\n",
    "\n",
    "# I will check the max and min outlier to check the range of outliers\n",
    "print(\"Min Range of Outliers: \", churned_data[\"Email\"].min(), \"To\", Email_lower_limit - 1)\n",
    "print(\"Max Range of Outliers: \", Email_upper_limit + 1, \"To\", churned_data[\"Email\"].max() )"
   ]
  },
  {
   "cell_type": "code",
   "execution_count": 60,
   "id": "f6178200",
   "metadata": {},
   "outputs": [
    {
     "name": "stdout",
     "output_type": "stream",
     "text": [
      "Unnamed: 0              0\n",
      "CaseOrder               0\n",
      "Customer_id             0\n",
      "Interaction             0\n",
      "City                    0\n",
      "State                   0\n",
      "County                  0\n",
      "Zip                     0\n",
      "Lat                     0\n",
      "Lng                     0\n",
      "Population              0\n",
      "Area                    0\n",
      "Timezone                0\n",
      "Job                     0\n",
      "Children                0\n",
      "Age                     0\n",
      "Education               0\n",
      "Employment              0\n",
      "Income                  0\n",
      "Marital                 0\n",
      "Gender                  0\n",
      "Churn                   0\n",
      "Outage_sec_perweek      0\n",
      "Email                   0\n",
      "Contacts                0\n",
      "Yearly_equip_failure    0\n",
      "Techie                  0\n",
      "Contract                0\n",
      "Port_modem              0\n",
      "Tablet                  0\n",
      "InternetService         0\n",
      "Phone                   0\n",
      "Multiple                0\n",
      "OnlineSecurity          0\n",
      "OnlineBackup            0\n",
      "DeviceProtection        0\n",
      "TechSupport             0\n",
      "StreamingTV             0\n",
      "StreamingMovies         0\n",
      "PaperlessBilling        0\n",
      "PaymentMethod           0\n",
      "Tenure                  0\n",
      "MonthlyCharge           0\n",
      "Bandwidth_GB_Year       0\n",
      "item1                   0\n",
      "item2                   0\n",
      "item3                   0\n",
      "item4                   0\n",
      "item5                   0\n",
      "item6                   0\n",
      "item7                   0\n",
      "item8                   0\n",
      "Z_Score_Email           0\n",
      "dtype: int64\n",
      "Unnamed: 0              10000\n",
      "CaseOrder               10000\n",
      "Customer_id             10000\n",
      "Interaction             10000\n",
      "City                    10000\n",
      "State                   10000\n",
      "County                  10000\n",
      "Zip                     10000\n",
      "Lat                     10000\n",
      "Lng                     10000\n",
      "Population              10000\n",
      "Area                    10000\n",
      "Timezone                10000\n",
      "Job                     10000\n",
      "Children                10000\n",
      "Age                     10000\n",
      "Education               10000\n",
      "Employment              10000\n",
      "Income                  10000\n",
      "Marital                 10000\n",
      "Gender                  10000\n",
      "Churn                   10000\n",
      "Outage_sec_perweek      10000\n",
      "Email                   10000\n",
      "Contacts                10000\n",
      "Yearly_equip_failure    10000\n",
      "Techie                  10000\n",
      "Contract                10000\n",
      "Port_modem              10000\n",
      "Tablet                  10000\n",
      "InternetService         10000\n",
      "Phone                   10000\n",
      "Multiple                10000\n",
      "OnlineSecurity          10000\n",
      "OnlineBackup            10000\n",
      "DeviceProtection        10000\n",
      "TechSupport             10000\n",
      "StreamingTV             10000\n",
      "StreamingMovies         10000\n",
      "PaperlessBilling        10000\n",
      "PaymentMethod           10000\n",
      "Tenure                  10000\n",
      "MonthlyCharge           10000\n",
      "Bandwidth_GB_Year       10000\n",
      "item1                   10000\n",
      "item2                   10000\n",
      "item3                   10000\n",
      "item4                   10000\n",
      "item5                   10000\n",
      "item6                   10000\n",
      "item7                   10000\n",
      "item8                   10000\n",
      "Z_Score_Email           10000\n",
      "dtype: int64\n"
     ]
    }
   ],
   "source": [
    "# Check the query for how many outliers there are\n",
    "print(churned_data[churned_data[\"Z_Score_Email\"] > Email_upper_limit].count())\n",
    "print(churned_data[churned_data[\"Z_Score_Email\"] < Email_lower_limit].count())\n",
    "\n"
   ]
  },
  {
   "cell_type": "code",
   "execution_count": 61,
   "id": "9d8d0aeb",
   "metadata": {},
   "outputs": [
    {
     "data": {
      "text/plain": [
       "<function matplotlib.pyplot.show(close=None, block=None)>"
      ]
     },
     "execution_count": 61,
     "metadata": {},
     "output_type": "execute_result"
    },
    {
     "data": {
      "image/png": "[encoded data removed]",
      "text/plain": [
       "<Figure size 640x480 with 1 Axes>"
      ]
     },
     "metadata": {},
     "output_type": "display_data"
    }
   ],
   "source": [
    "plt.hist(churned_data[\"Contacts\"])\n",
    "plt.show\n",
    "\n",
    "# Looks skewed right, will try boxplots"
   ]
  },
  {
   "cell_type": "code",
   "execution_count": 62,
   "id": "c7de6b9c",
   "metadata": {},
   "outputs": [
    {
     "data": {
      "image/png": "[encoded data removed]",
      "text/plain": [
       "<Figure size 640x480 with 1 Axes>"
      ]
     },
     "metadata": {},
     "output_type": "display_data"
    }
   ],
   "source": [
    "# [In text citation: Dr. Middleton, K (n.d) Getting Started with D206 Detecting and Treating Outliers]\n",
    "\n",
    "boxplot_Contacts = seaborn.boxplot(x = \"Contacts\", data = churned_data)"
   ]
  },
  {
   "cell_type": "code",
   "execution_count": 63,
   "id": "2a2fc946",
   "metadata": {},
   "outputs": [
    {
     "name": "stdout",
     "output_type": "stream",
     "text": [
      "0.0 2.0\n",
      "2.0\n",
      "-3.0 5.0\n",
      "Max Range of Outliers:  6.0 To 7\n"
     ]
    }
   ],
   "source": [
    "# Since the population is skewed right, we won't use Z-scores to detect outliers. Instead I will try to use boxplots\n",
    "# Also want to check for the interquartile range to know where the value of potential outliers might lie\n",
    "Contacts_q1, Contacts_q3 = np.percentile(churned_data[\"Contacts\"], [25,75])\n",
    "print(Contacts_q1, Contacts_q3)\n",
    "\n",
    "Contacts_iqr = Contacts_q3 - Contacts_q1\n",
    "print(Contacts_iqr)\n",
    "\n",
    "Contacts_lower_limit = Contacts_q1 - (1.5*Contacts_iqr)\n",
    "Contacts_upper_limit = Contacts_q3 + (1.5*Contacts_iqr)\n",
    "print(Contacts_lower_limit, Contacts_upper_limit)\n",
    "\n",
    "\n",
    "# I will check the max outlier to check the range of outliers\n",
    "#print(\"Min Range of Outliers: \", churned_data[\"Email\"].min(), \"To\", Email_lower_limit - 1)\n",
    "print(\"Max Range of Outliers: \", Contacts_upper_limit + 1, \"To\", churned_data[\"Contacts\"].max() )"
   ]
  },
  {
   "cell_type": "code",
   "execution_count": 64,
   "id": "f7f2b7b5",
   "metadata": {},
   "outputs": [
    {
     "data": {
      "text/plain": [
       "Unnamed: 0              8\n",
       "CaseOrder               8\n",
       "Customer_id             8\n",
       "Interaction             8\n",
       "City                    8\n",
       "State                   8\n",
       "County                  8\n",
       "Zip                     8\n",
       "Lat                     8\n",
       "Lng                     8\n",
       "Population              8\n",
       "Area                    8\n",
       "Timezone                8\n",
       "Job                     8\n",
       "Children                8\n",
       "Age                     8\n",
       "Education               8\n",
       "Employment              8\n",
       "Income                  8\n",
       "Marital                 8\n",
       "Gender                  8\n",
       "Churn                   8\n",
       "Outage_sec_perweek      8\n",
       "Email                   8\n",
       "Contacts                8\n",
       "Yearly_equip_failure    8\n",
       "Techie                  8\n",
       "Contract                8\n",
       "Port_modem              8\n",
       "Tablet                  8\n",
       "InternetService         8\n",
       "Phone                   8\n",
       "Multiple                8\n",
       "OnlineSecurity          8\n",
       "OnlineBackup            8\n",
       "DeviceProtection        8\n",
       "TechSupport             8\n",
       "StreamingTV             8\n",
       "StreamingMovies         8\n",
       "PaperlessBilling        8\n",
       "PaymentMethod           8\n",
       "Tenure                  8\n",
       "MonthlyCharge           8\n",
       "Bandwidth_GB_Year       8\n",
       "item1                   8\n",
       "item2                   8\n",
       "item3                   8\n",
       "item4                   8\n",
       "item5                   8\n",
       "item6                   8\n",
       "item7                   8\n",
       "item8                   8\n",
       "Z_Score_Email           8\n",
       "dtype: int64"
      ]
     },
     "execution_count": 64,
     "metadata": {},
     "output_type": "execute_result"
    }
   ],
   "source": [
    "# Check the query for how many outliers there are\n",
    "churned_data[churned_data[\"Contacts\"] > Contacts_upper_limit].count()\n",
    "\n",
    "## EXCLUDE. Only 8 instances"
   ]
  },
  {
   "cell_type": "code",
   "execution_count": 65,
   "id": "e3160df8",
   "metadata": {},
   "outputs": [
    {
     "data": {
      "text/plain": [
       "<function matplotlib.pyplot.show(close=None, block=None)>"
      ]
     },
     "execution_count": 65,
     "metadata": {},
     "output_type": "execute_result"
    },
    {
     "data": {
      "image/png": "[encoded data removed]",
      "text/plain": [
       "<Figure size 640x480 with 1 Axes>"
      ]
     },
     "metadata": {},
     "output_type": "display_data"
    }
   ],
   "source": [
    "plt.hist(churned_data[\"Yearly_equip_failure\"])\n",
    "plt.show\n",
    "\n",
    "# Looks skewed right, will try boxplots"
   ]
  },
  {
   "cell_type": "code",
   "execution_count": 66,
   "id": "31726022",
   "metadata": {},
   "outputs": [
    {
     "data": {
      "image/png": "[encoded data removed]",
      "text/plain": [
       "<Figure size 640x480 with 1 Axes>"
      ]
     },
     "metadata": {},
     "output_type": "display_data"
    }
   ],
   "source": [
    "# [In text citation: Dr. Middleton, K (n.d) Getting Started with D206 Detecting and Treating Outliers]\n",
    "\n",
    "boxplot_Yearly_equip_failure = seaborn.boxplot(x = \"Yearly_equip_failure\", data = churned_data)"
   ]
  },
  {
   "cell_type": "code",
   "execution_count": 67,
   "id": "a7d2da43",
   "metadata": {},
   "outputs": [
    {
     "name": "stdout",
     "output_type": "stream",
     "text": [
      "0.0 1.0\n",
      "1.0\n",
      "-1.5 2.5\n",
      "Max Range of Outliers:  3.0 To 6\n"
     ]
    }
   ],
   "source": [
    "# Since the population is skewed right, we won't use Z-scores to detect outliers. Instead I will try to use boxplots\n",
    "# Also want to check for the interquartile range to know where the value of potential outliers might lie\n",
    "Yearly_equip_failure_q1, Yearly_equip_failure_q3 = np.percentile(churned_data[\"Yearly_equip_failure\"], [25,75])\n",
    "print(Yearly_equip_failure_q1, Yearly_equip_failure_q3)\n",
    "\n",
    "Yearly_equip_failure_iqr = Yearly_equip_failure_q3 - Yearly_equip_failure_q1\n",
    "print(Yearly_equip_failure_iqr)\n",
    "\n",
    "Yearly_equip_failure_lower_limit = Yearly_equip_failure_q1 - (1.5*Yearly_equip_failure_iqr)\n",
    "Yearly_equip_failure_upper_limit = Yearly_equip_failure_q3 + (1.5*Yearly_equip_failure_iqr)\n",
    "print(Yearly_equip_failure_lower_limit, Yearly_equip_failure_upper_limit)\n",
    "\n",
    "# I will check the max outlier to check the range of outliers\n",
    "#print(\"Min Range of Outliers: \", churned_data[\"Yearly_equip_failure\"].min(), \"To\", Yearly_equip_failure_lower_limit - 1)\n",
    "print(\"Max Range of Outliers: \", Yearly_equip_failure_upper_limit + 0.5, \"To\", churned_data[\"Yearly_equip_failure\"].max() )\n"
   ]
  },
  {
   "cell_type": "code",
   "execution_count": 68,
   "id": "91382287",
   "metadata": {},
   "outputs": [
    {
     "data": {
      "text/plain": [
       "Unnamed: 0              94\n",
       "CaseOrder               94\n",
       "Customer_id             94\n",
       "Interaction             94\n",
       "City                    94\n",
       "State                   94\n",
       "County                  94\n",
       "Zip                     94\n",
       "Lat                     94\n",
       "Lng                     94\n",
       "Population              94\n",
       "Area                    94\n",
       "Timezone                94\n",
       "Job                     94\n",
       "Children                94\n",
       "Age                     94\n",
       "Education               94\n",
       "Employment              94\n",
       "Income                  94\n",
       "Marital                 94\n",
       "Gender                  94\n",
       "Churn                   94\n",
       "Outage_sec_perweek      94\n",
       "Email                   94\n",
       "Contacts                94\n",
       "Yearly_equip_failure    94\n",
       "Techie                  94\n",
       "Contract                94\n",
       "Port_modem              94\n",
       "Tablet                  94\n",
       "InternetService         94\n",
       "Phone                   94\n",
       "Multiple                94\n",
       "OnlineSecurity          94\n",
       "OnlineBackup            94\n",
       "DeviceProtection        94\n",
       "TechSupport             94\n",
       "StreamingTV             94\n",
       "StreamingMovies         94\n",
       "PaperlessBilling        94\n",
       "PaymentMethod           94\n",
       "Tenure                  94\n",
       "MonthlyCharge           94\n",
       "Bandwidth_GB_Year       94\n",
       "item1                   94\n",
       "item2                   94\n",
       "item3                   94\n",
       "item4                   94\n",
       "item5                   94\n",
       "item6                   94\n",
       "item7                   94\n",
       "item8                   94\n",
       "Z_Score_Email           94\n",
       "dtype: int64"
      ]
     },
     "execution_count": 68,
     "metadata": {},
     "output_type": "execute_result"
    }
   ],
   "source": [
    "# Check the query for how many outliers there are\n",
    "churned_data[churned_data[\"Yearly_equip_failure\"] > Yearly_equip_failure_upper_limit].count()\n"
   ]
  },
  {
   "cell_type": "code",
   "execution_count": 69,
   "id": "c899dc05",
   "metadata": {},
   "outputs": [
    {
     "data": {
      "text/plain": [
       "<function matplotlib.pyplot.show(close=None, block=None)>"
      ]
     },
     "execution_count": 69,
     "metadata": {},
     "output_type": "execute_result"
    },
    {
     "data": {
      "image/png": "[encoded data removed]",
      "text/plain": [
       "<Figure size 640x480 with 1 Axes>"
      ]
     },
     "metadata": {},
     "output_type": "display_data"
    }
   ],
   "source": [
    "plt.hist(churned_data[\"Tenure\"])\n",
    "plt.show\n",
    "\n",
    "# Looks bimodal, will try boxplot"
   ]
  },
  {
   "cell_type": "code",
   "execution_count": 70,
   "id": "874816a1",
   "metadata": {},
   "outputs": [
    {
     "data": {
      "image/png": "[encoded data removed]",
      "text/plain": [
       "<Figure size 640x480 with 1 Axes>"
      ]
     },
     "metadata": {},
     "output_type": "display_data"
    }
   ],
   "source": [
    "# [In text citation: Dr. Middleton, K (n.d) Getting Started with D206 Detecting and Treating Outliers]\n",
    "\n",
    "boxplot_Tenure = seaborn.boxplot(x = \"Tenure\", data = churned_data)\n"
   ]
  },
  {
   "cell_type": "code",
   "execution_count": 71,
   "id": "ba3d8cf9",
   "metadata": {},
   "outputs": [
    {
     "name": "stdout",
     "output_type": "stream",
     "text": [
      "8.700329255749999 60.1534875\n",
      "51.45315824425\n",
      "-68.479408110625 137.333224866375\n"
     ]
    }
   ],
   "source": [
    "# Since the population is bimodal, we won't use Z-scores to detect outliers. Instead I will try to use boxplots\n",
    "# Also want to check for the interquartile range to know where the value of potential outliers might lie\n",
    "Tenure_q1, Tenure_q3 = np.percentile(churned_data[\"Tenure\"], [25,75])\n",
    "print(Tenure_q1, Tenure_q3)\n",
    "\n",
    "Tenure_iqr = Tenure_q3 - Tenure_q1\n",
    "print(Tenure_iqr)\n",
    "\n",
    "Tenure_lower_limit = Tenure_q1 - (1.5*Tenure_iqr)\n",
    "Tenure_upper_limit = Tenure_q3 + (1.5*Tenure_iqr)\n",
    "print(Tenure_lower_limit, Tenure_upper_limit)\n",
    "\n",
    "\n",
    "## No noticeable outliers!"
   ]
  },
  {
   "cell_type": "code",
   "execution_count": 72,
   "id": "b53e0085",
   "metadata": {},
   "outputs": [
    {
     "data": {
      "text/plain": [
       "<function matplotlib.pyplot.show(close=None, block=None)>"
      ]
     },
     "execution_count": 72,
     "metadata": {},
     "output_type": "execute_result"
    },
    {
     "data": {
      "image/png": "[encoded data removed]",
      "text/plain": [
       "<Figure size 640x480 with 1 Axes>"
      ]
     },
     "metadata": {},
     "output_type": "display_data"
    }
   ],
   "source": [
    "plt.hist(churned_data[\"MonthlyCharge\"])\n",
    "plt.show\n",
    "\n",
    "# Looks normal with maybe slight right skew, will try z-score then boxplots"
   ]
  },
  {
   "cell_type": "code",
   "execution_count": 73,
   "id": "29ad1370",
   "metadata": {},
   "outputs": [
    {
     "data": {
      "text/plain": [
       "<function matplotlib.pyplot.show(close=None, block=None)>"
      ]
     },
     "execution_count": 73,
     "metadata": {},
     "output_type": "execute_result"
    },
    {
     "data": {
      "image/png": "[encoded data removed]",
      "text/plain": [
       "<Figure size 640x480 with 1 Axes>"
      ]
     },
     "metadata": {},
     "output_type": "display_data"
    }
   ],
   "source": [
    "# Checking Z-scores for \"MonthlyCharge\"\n",
    "# [In text citation: Dr. Middleton, K (n.d) Getting Started with D206 Detecting and Treating Outliers]\n",
    "\n",
    "churned_data[\"Z_Score_MonthlyCharge\"] = stats.zscore(churned_data[\"MonthlyCharge\"])\n",
    "#churned_data[[\"MonthlyCharge\", \"Z_Score_MonthlyCharge\"]].head()\n",
    "\n",
    "plt.hist(churned_data[\"Z_Score_MonthlyCharge\"])\n",
    "plt.show\n"
   ]
  },
  {
   "cell_type": "code",
   "execution_count": 74,
   "id": "5592a203",
   "metadata": {},
   "outputs": [
    {
     "name": "stdout",
     "output_type": "stream",
     "text": [
      "<class 'pandas.core.frame.DataFrame'>\n",
      "Int64Index: 3 entries, 927 to 4700\n",
      "Data columns (total 54 columns):\n",
      " #   Column                 Non-Null Count  Dtype  \n",
      "---  ------                 --------------  -----  \n",
      " 0   Unnamed: 0             3 non-null      int64  \n",
      " 1   CaseOrder              3 non-null      int64  \n",
      " 2   Customer_id            3 non-null      object \n",
      " 3   Interaction            3 non-null      object \n",
      " 4   City                   3 non-null      object \n",
      " 5   State                  3 non-null      object \n",
      " 6   County                 3 non-null      object \n",
      " 7   Zip                    3 non-null      int64  \n",
      " 8   Lat                    3 non-null      float64\n",
      " 9   Lng                    3 non-null      float64\n",
      " 10  Population             3 non-null      int64  \n",
      " 11  Area                   3 non-null      object \n",
      " 12  Timezone               3 non-null      object \n",
      " 13  Job                    3 non-null      object \n",
      " 14  Children               3 non-null      float64\n",
      " 15  Age                    3 non-null      float64\n",
      " 16  Education              3 non-null      object \n",
      " 17  Employment             3 non-null      object \n",
      " 18  Income                 3 non-null      float64\n",
      " 19  Marital                3 non-null      object \n",
      " 20  Gender                 3 non-null      object \n",
      " 21  Churn                  3 non-null      object \n",
      " 22  Outage_sec_perweek     3 non-null      float64\n",
      " 23  Email                  3 non-null      int64  \n",
      " 24  Contacts               3 non-null      int64  \n",
      " 25  Yearly_equip_failure   3 non-null      int64  \n",
      " 26  Techie                 3 non-null      object \n",
      " 27  Contract               3 non-null      object \n",
      " 28  Port_modem             3 non-null      object \n",
      " 29  Tablet                 3 non-null      object \n",
      " 30  InternetService        3 non-null      object \n",
      " 31  Phone                  3 non-null      object \n",
      " 32  Multiple               3 non-null      object \n",
      " 33  OnlineSecurity         3 non-null      object \n",
      " 34  OnlineBackup           3 non-null      object \n",
      " 35  DeviceProtection       3 non-null      object \n",
      " 36  TechSupport            3 non-null      object \n",
      " 37  StreamingTV            3 non-null      object \n",
      " 38  StreamingMovies        3 non-null      object \n",
      " 39  PaperlessBilling       3 non-null      object \n",
      " 40  PaymentMethod          3 non-null      object \n",
      " 41  Tenure                 3 non-null      float64\n",
      " 42  MonthlyCharge          3 non-null      float64\n",
      " 43  Bandwidth_GB_Year      3 non-null      float64\n",
      " 44  item1                  3 non-null      int64  \n",
      " 45  item2                  3 non-null      int64  \n",
      " 46  item3                  3 non-null      int64  \n",
      " 47  item4                  3 non-null      int64  \n",
      " 48  item5                  3 non-null      int64  \n",
      " 49  item6                  3 non-null      int64  \n",
      " 50  item7                  3 non-null      int64  \n",
      " 51  item8                  3 non-null      int64  \n",
      " 52  Z_Score_Email          3 non-null      float64\n",
      " 53  Z_Score_MonthlyCharge  3 non-null      float64\n",
      "dtypes: float64(11), int64(15), object(28)\n",
      "memory usage: 1.3+ KB\n"
     ]
    }
   ],
   "source": [
    "# Checking boxplot as well\n",
    "# seaborn.boxplot(x = \"MonthlyCharge\", data = churned_data)\n",
    "# [In text citation: Dr. Middleton, K (n.d) Getting Started with D206 Detecting and Treating Outliers]\n",
    "\n",
    "churned_data.query('Z_Score_MonthlyCharge > 3 | Z_Score_MonthlyCharge < -3').info()\n",
    "\n"
   ]
  },
  {
   "cell_type": "code",
   "execution_count": 75,
   "id": "2ffe45ff",
   "metadata": {
    "scrolled": true
   },
   "outputs": [
    {
     "data": {
      "image/png": "[encoded data removed]",
      "text/plain": [
       "<Figure size 640x480 with 1 Axes>"
      ]
     },
     "metadata": {},
     "output_type": "display_data"
    }
   ],
   "source": [
    "# [In text citation: Dr. Middleton, K (n.d) Getting Started with D206 Detecting and Treating Outliers]\n",
    "\n",
    "boxplot_MonthlyCharge = seaborn.boxplot(x = \"MonthlyCharge\", data = churned_data)"
   ]
  },
  {
   "cell_type": "code",
   "execution_count": 76,
   "id": "9de4be7a",
   "metadata": {},
   "outputs": [
    {
     "name": "stdout",
     "output_type": "stream",
     "text": [
      "141.07107845 203.777441275\n",
      "62.706362825000014\n",
      "47.01153421249997 297.8369855125\n",
      "Min Range of Outliers:  77.50523 To 46.01153421249997\n",
      "Max Range of Outliers:  298.8369855125 To 315.8786\n"
     ]
    }
   ],
   "source": [
    "# Also want to check for the interquartile range to know where the value of potential outliers might lie\n",
    "MonthlyCharge_q1, MonthlyCharge_q3 = np.percentile(churned_data[\"MonthlyCharge\"], [25,75])\n",
    "print(MonthlyCharge_q1, MonthlyCharge_q3)\n",
    "\n",
    "MonthlyCharge_iqr = MonthlyCharge_q3 - MonthlyCharge_q1\n",
    "print(MonthlyCharge_iqr)\n",
    "\n",
    "MonthlyCharge_lower_limit = MonthlyCharge_q1 - (1.5*MonthlyCharge_iqr)\n",
    "MonthlyCharge_upper_limit = MonthlyCharge_q3 + (1.5*MonthlyCharge_iqr)\n",
    "print(MonthlyCharge_lower_limit, MonthlyCharge_upper_limit)\n",
    "\n",
    "\n",
    "# I will check the max and min outlier to check the range of outliers\n",
    "print(\"Min Range of Outliers: \", churned_data[\"MonthlyCharge\"].min(), \"To\", MonthlyCharge_lower_limit - 1)\n",
    "print(\"Max Range of Outliers: \", MonthlyCharge_upper_limit + 1, \"To\", churned_data[\"MonthlyCharge\"].max() )"
   ]
  },
  {
   "cell_type": "code",
   "execution_count": 77,
   "id": "513e4463",
   "metadata": {},
   "outputs": [
    {
     "data": {
      "text/plain": [
       "Unnamed: 0               5\n",
       "CaseOrder                5\n",
       "Customer_id              5\n",
       "Interaction              5\n",
       "City                     5\n",
       "State                    5\n",
       "County                   5\n",
       "Zip                      5\n",
       "Lat                      5\n",
       "Lng                      5\n",
       "Population               5\n",
       "Area                     5\n",
       "Timezone                 5\n",
       "Job                      5\n",
       "Children                 5\n",
       "Age                      5\n",
       "Education                5\n",
       "Employment               5\n",
       "Income                   5\n",
       "Marital                  5\n",
       "Gender                   5\n",
       "Churn                    5\n",
       "Outage_sec_perweek       5\n",
       "Email                    5\n",
       "Contacts                 5\n",
       "Yearly_equip_failure     5\n",
       "Techie                   5\n",
       "Contract                 5\n",
       "Port_modem               5\n",
       "Tablet                   5\n",
       "InternetService          5\n",
       "Phone                    5\n",
       "Multiple                 5\n",
       "OnlineSecurity           5\n",
       "OnlineBackup             5\n",
       "DeviceProtection         5\n",
       "TechSupport              5\n",
       "StreamingTV              5\n",
       "StreamingMovies          5\n",
       "PaperlessBilling         5\n",
       "PaymentMethod            5\n",
       "Tenure                   5\n",
       "MonthlyCharge            5\n",
       "Bandwidth_GB_Year        5\n",
       "item1                    5\n",
       "item2                    5\n",
       "item3                    5\n",
       "item4                    5\n",
       "item5                    5\n",
       "item6                    5\n",
       "item7                    5\n",
       "item8                    5\n",
       "Z_Score_Email            5\n",
       "Z_Score_MonthlyCharge    5\n",
       "dtype: int64"
      ]
     },
     "execution_count": 77,
     "metadata": {},
     "output_type": "execute_result"
    }
   ],
   "source": [
    "# Check the query for how many outliers there are\n",
    "churned_data[churned_data[\"MonthlyCharge\"] > MonthlyCharge_upper_limit].count()\n"
   ]
  },
  {
   "cell_type": "code",
   "execution_count": 78,
   "id": "f9282b4d",
   "metadata": {},
   "outputs": [
    {
     "data": {
      "text/plain": [
       "<function matplotlib.pyplot.show(close=None, block=None)>"
      ]
     },
     "execution_count": 78,
     "metadata": {},
     "output_type": "execute_result"
    },
    {
     "data": {
      "image/png": "[encoded data removed]",
      "text/plain": [
       "<Figure size 640x480 with 1 Axes>"
      ]
     },
     "metadata": {},
     "output_type": "display_data"
    }
   ],
   "source": [
    "plt.hist(churned_data[\"Bandwidth_GB_Year\"])\n",
    "plt.show\n",
    "\n",
    "# Looks bimodal, will try boxplots"
   ]
  },
  {
   "cell_type": "code",
   "execution_count": 79,
   "id": "3ce665fe",
   "metadata": {},
   "outputs": [
    {
     "data": {
      "image/png": "[encoded data removed]",
      "text/plain": [
       "<Figure size 640x480 with 1 Axes>"
      ]
     },
     "metadata": {},
     "output_type": "display_data"
    }
   ],
   "source": [
    "# [In text citation: Dr. Middleton, K (n.d) Getting Started with D206 Detecting and Treating Outliers]\n",
    "\n",
    "boxplot_Bandwidth_GB_Year = seaborn.boxplot(x = \"Bandwidth_GB_Year\", data = churned_data)"
   ]
  },
  {
   "cell_type": "code",
   "execution_count": 80,
   "id": "0b8117b0",
   "metadata": {
    "scrolled": false
   },
   "outputs": [
    {
     "name": "stdout",
     "output_type": "stream",
     "text": [
      "1312.130487 5466.2845\n",
      "4154.154012999999\n",
      "-4919.100532499999 11697.515519499999\n"
     ]
    }
   ],
   "source": [
    "# Since the population is skewed right, we won't use Z-scores to detect outliers. Instead I will try to use boxplots\n",
    "# Also want to check for the interquartile range to know where the value of potential outliers might lie\n",
    "Bandwidth_GB_Year_q1, Bandwidth_GB_Year_q3 = np.percentile(churned_data[\"Bandwidth_GB_Year\"], [25,75])\n",
    "print(Bandwidth_GB_Year_q1, Bandwidth_GB_Year_q3)\n",
    "\n",
    "Bandwidth_GB_Year_iqr = Bandwidth_GB_Year_q3 - Bandwidth_GB_Year_q1\n",
    "print(Bandwidth_GB_Year_iqr)\n",
    "\n",
    "Bandwidth_GB_Year_lower_limit = Bandwidth_GB_Year_q1 - (1.5*Bandwidth_GB_Year_iqr)\n",
    "Bandwidth_GB_Year_upper_limit = Bandwidth_GB_Year_q3 + (1.5*Bandwidth_GB_Year_iqr)\n",
    "print(Bandwidth_GB_Year_lower_limit, Bandwidth_GB_Year_upper_limit)\n"
   ]
  },
  {
   "cell_type": "code",
   "execution_count": 81,
   "id": "6eaa3390",
   "metadata": {},
   "outputs": [],
   "source": [
    "\n",
    "\n",
    "\n",
    "\n",
    "\n",
    "\n",
    "## GOING TO TREAT THE OUTLIERS FOR EACH VARIABLES AS NECESSARY. WANT TO DO IT AFTER CHECKING FOR CODE CONSISTENCY\n",
    "\n",
    "\n",
    "\n",
    "\n",
    "\n"
   ]
  },
  {
   "cell_type": "code",
   "execution_count": 82,
   "id": "7ba53e6c",
   "metadata": {},
   "outputs": [],
   "source": [
    "\n",
    "\n",
    "## POPULATION\n",
    "\n",
    "## CHOOSING TO RETAIN\n",
    "\n"
   ]
  },
  {
   "cell_type": "code",
   "execution_count": 83,
   "id": "fbc26b7c",
   "metadata": {},
   "outputs": [
    {
     "data": {
      "image/png": "[encoded data removed]",
      "text/plain": [
       "<Figure size 640x480 with 1 Axes>"
      ]
     },
     "metadata": {},
     "output_type": "display_data"
    }
   ],
   "source": [
    "\n",
    "\n",
    "## CHILDREN\n",
    "# [In text citation: Dr. Middleton, K (n.d) Getting Started with D206 Detecting and Treating Outliers]\n",
    "\n",
    "## Removing the  instances outlier and rechecking the plot\n",
    "Children_outliers = churned_data[ (churned_data[\"Children\"] > Children_upper_limit)]\n",
    "#Income_outliers.info()\n",
    "\n",
    "churned_data.drop(churned_data[ (churned_data[\"Children\"] > Children_upper_limit)].index, inplace = True )\n",
    "Children_removed_outliers = seaborn.boxplot(x = \"Children\", data = churned_data)\n",
    "\n"
   ]
  },
  {
   "cell_type": "code",
   "execution_count": 84,
   "id": "76b56aad",
   "metadata": {},
   "outputs": [
    {
     "data": {
      "text/plain": [
       "Unnamed: 0               1065\n",
       "CaseOrder                1065\n",
       "Customer_id              1065\n",
       "Interaction              1065\n",
       "City                     1065\n",
       "State                    1065\n",
       "County                   1065\n",
       "Zip                      1065\n",
       "Lat                      1065\n",
       "Lng                      1065\n",
       "Population               1065\n",
       "Area                     1065\n",
       "Timezone                 1065\n",
       "Job                      1065\n",
       "Children                 1065\n",
       "Age                      1065\n",
       "Education                1065\n",
       "Employment               1065\n",
       "Income                   1065\n",
       "Marital                  1065\n",
       "Gender                   1065\n",
       "Churn                    1065\n",
       "Outage_sec_perweek       1065\n",
       "Email                    1065\n",
       "Contacts                 1065\n",
       "Yearly_equip_failure     1065\n",
       "Techie                   1065\n",
       "Contract                 1065\n",
       "Port_modem               1065\n",
       "Tablet                   1065\n",
       "InternetService          1065\n",
       "Phone                    1065\n",
       "Multiple                 1065\n",
       "OnlineSecurity           1065\n",
       "OnlineBackup             1065\n",
       "DeviceProtection         1065\n",
       "TechSupport              1065\n",
       "StreamingTV              1065\n",
       "StreamingMovies          1065\n",
       "PaperlessBilling         1065\n",
       "PaymentMethod            1065\n",
       "Tenure                   1065\n",
       "MonthlyCharge            1065\n",
       "Bandwidth_GB_Year        1065\n",
       "item1                    1065\n",
       "item2                    1065\n",
       "item3                    1065\n",
       "item4                    1065\n",
       "item5                    1065\n",
       "item6                    1065\n",
       "item7                    1065\n",
       "item8                    1065\n",
       "Z_Score_Email            1065\n",
       "Z_Score_MonthlyCharge    1065\n",
       "dtype: int64"
      ]
     },
     "execution_count": 84,
     "metadata": {},
     "output_type": "execute_result"
    }
   ],
   "source": [
    "churned_data[ (churned_data[\"Children\"] > 3)].count()\n",
    "\n",
    "## Going to keep the rest of the outliers"
   ]
  },
  {
   "cell_type": "code",
   "execution_count": 85,
   "id": "e90c7fc7",
   "metadata": {},
   "outputs": [],
   "source": [
    "\n",
    "\n",
    "## AGE\n",
    "\n",
    "## NO OUTLIERS DETECTED\n",
    "\n"
   ]
  },
  {
   "cell_type": "code",
   "execution_count": 86,
   "id": "378c1237",
   "metadata": {},
   "outputs": [
    {
     "data": {
      "image/png": "[encoded data removed]",
      "text/plain": [
       "<Figure size 640x480 with 1 Axes>"
      ]
     },
     "metadata": {},
     "output_type": "display_data"
    }
   ],
   "source": [
    "\n",
    "\n",
    "## INCOME\n",
    "# [In text citation: Dr. Middleton, K (n.d) Getting Started with D206 Detecting and Treating Outliers]\n",
    "\n",
    "## Removing the  instances outlier and rechecking the plot\n",
    "Income_outliers = churned_data[ (churned_data[\"Income\"] > Income_upper_limit)]\n",
    "#Income_outliers.info()\n",
    "\n",
    "churned_data.drop(churned_data[ (churned_data[\"Income\"] > Income_upper_limit)].index, inplace = True )\n",
    "Income_removed_outliers = seaborn.boxplot(x = \"Income\", data = churned_data)\n",
    "\n",
    "## Although there are still more outliers, I kept re-doing this process and it always created more outliers. Since I don't want\n",
    "## to exclude too many and have the range of income be so small, I'm going to stop after the intial outlier drop and have the\n",
    "## income range be from 0 to 78269.\n"
   ]
  },
  {
   "cell_type": "code",
   "execution_count": 87,
   "id": "c67f1a53",
   "metadata": {},
   "outputs": [
    {
     "name": "stderr",
     "output_type": "stream",
     "text": [
      "C:\\Users\\cfman\\AppData\\Local\\Temp\\ipykernel_15356\\3361480949.py:8: FutureWarning: The frame.append method is deprecated and will be removed from pandas in a future version. Use pandas.concat instead.\n",
      "  Outage_sec_perweek_outliers.append(churned_data[(churned_data[\"Outage_sec_perweek\"] < Outage_lower_limit)])\n"
     ]
    },
    {
     "data": {
      "image/png": "[encoded data removed]",
      "text/plain": [
       "<Figure size 640x480 with 1 Axes>"
      ]
     },
     "metadata": {},
     "output_type": "display_data"
    }
   ],
   "source": [
    "\n",
    "\n",
    "## OUTAGE_SEC_PERWEEK\n",
    "# [In text citation: Dr. Middleton, K (n.d) Getting Started with D206 Detecting and Treating Outliers]\n",
    "\n",
    "## Removing the values < 0\n",
    "churned_data.drop(churned_data[ (churned_data[\"Outage_sec_perweek\"] < 0)].index, inplace = True )\n",
    "\n",
    "## Removing the  instances outlier and rechecking the plot\n",
    "Outage_sec_perweek_outliers = churned_data[ (churned_data[\"Outage_sec_perweek\"] > Outage_upper_limit)]\n",
    "Outage_sec_perweek_outliers.append(churned_data[(churned_data[\"Outage_sec_perweek\"] < Outage_lower_limit)])\n",
    "#Outage_sec_perweek_outliers.info()\n",
    "\n",
    "churned_data.drop(churned_data[ (churned_data[\"Outage_sec_perweek\"] > Outage_upper_limit)].index, inplace = True )\n",
    "churned_data.drop(churned_data[ (churned_data[\"Outage_sec_perweek\"] < Outage_lower_limit)].index, inplace = True )\n",
    "\n",
    "Outage_sec_perweek_removed_outliers = seaborn.boxplot(x = \"Outage_sec_perweek\", data = churned_data)\n",
    "\n",
    "\n",
    "## I think the rest of the outliers look ok except there are a few values that are less than 0. Intuitively that does not make\n",
    "## sense as we are looking at total seconds so it can't be less than 0. I will remove those outliers as well\n"
   ]
  },
  {
   "cell_type": "code",
   "execution_count": 88,
   "id": "2f8112c1",
   "metadata": {
    "scrolled": false
   },
   "outputs": [
    {
     "name": "stderr",
     "output_type": "stream",
     "text": [
      "C:\\Users\\cfman\\AppData\\Local\\Temp\\ipykernel_15356\\3525185244.py:5: FutureWarning: The frame.append method is deprecated and will be removed from pandas in a future version. Use pandas.concat instead.\n",
      "  Email_outliers.append(churned_data[(churned_data[\"Email\"] < Email_lower_limit)])\n"
     ]
    },
    {
     "data": {
      "image/png": "[encoded data removed]",
      "text/plain": [
       "<Figure size 640x480 with 1 Axes>"
      ]
     },
     "metadata": {},
     "output_type": "display_data"
    }
   ],
   "source": [
    "\n",
    "\n",
    "## Email\n",
    "# [In text citation: Dr. Middleton, K (n.d) Getting Started with D206 Detecting and Treating Outliers]\n",
    "\n",
    "## Removing the  instances outlier and rechecking the plot\n",
    "Email_outliers = churned_data[ (churned_data[\"Email\"] > Email_upper_limit)]\n",
    "Email_outliers.append(churned_data[(churned_data[\"Email\"] < Email_lower_limit)])\n",
    "\n",
    "#Income_outliers.info()\n",
    "\n",
    "churned_data.drop(churned_data[ (churned_data[\"Email\"] > Email_upper_limit)].index, inplace = True )\n",
    "churned_data.drop(churned_data[ (churned_data[\"Email\"] < Email_lower_limit)].index, inplace = True )\n",
    "Email_removed_outliers = seaborn.boxplot(x = \"Email\", data = churned_data)\n"
   ]
  },
  {
   "cell_type": "code",
   "execution_count": 89,
   "id": "1849197a",
   "metadata": {},
   "outputs": [
    {
     "data": {
      "image/png": "[encoded data removed]",
      "text/plain": [
       "<Figure size 640x480 with 1 Axes>"
      ]
     },
     "metadata": {},
     "output_type": "display_data"
    }
   ],
   "source": [
    "\n",
    "\n",
    "## CONTACTS\n",
    "# [In text citation: Dr. Middleton, K (n.d) Getting Started with D206 Detecting and Treating Outliers]\n",
    "\n",
    "## Removing the  instances outlier and rechecking the plot\n",
    "Contacts_outliers = churned_data[ (churned_data[\"Contacts\"] > Contacts_upper_limit)]\n",
    "#Income_outliers.info()\n",
    "\n",
    "churned_data.drop(churned_data[ (churned_data[\"Contacts\"] > Contacts_upper_limit)].index, inplace = True )\n",
    "Contacts_removed_outliers = seaborn.boxplot(x = \"Contacts\", data = churned_data)\n",
    "\n",
    "\n"
   ]
  },
  {
   "cell_type": "code",
   "execution_count": 90,
   "id": "0a4e7ce6",
   "metadata": {},
   "outputs": [
    {
     "data": {
      "image/png": "[encoded data removed]",
      "text/plain": [
       "<Figure size 640x480 with 1 Axes>"
      ]
     },
     "metadata": {},
     "output_type": "display_data"
    }
   ],
   "source": [
    "\n",
    "\n",
    "## YEARLY_EQUIP_FAILURE \n",
    "# [In text citation: Dr. Middleton, K (n.d) Getting Started with D206 Detecting and Treating Outliers]\n",
    "\n",
    "\n",
    "Yearly_equip_failure_outliers = churned_data[ (churned_data[\"Yearly_equip_failure\"] > Yearly_equip_failure_upper_limit)]\n",
    "#Yearly_equip_failure_outliers.info()\n",
    "\n",
    "churned_data.drop(churned_data[ (churned_data[\"Yearly_equip_failure\"] > Yearly_equip_failure_upper_limit)].index, inplace = True )\n",
    "Yearly_equip_failure_removed_outliers = seaborn.boxplot(x = \"Yearly_equip_failure\", data = churned_data)\n",
    "\n"
   ]
  },
  {
   "cell_type": "code",
   "execution_count": 91,
   "id": "b7cdce20",
   "metadata": {},
   "outputs": [],
   "source": [
    "\n",
    "\n",
    "## TENURE\n",
    "\n",
    "## NO OUTLIERS DETECTED\n",
    "\n"
   ]
  },
  {
   "cell_type": "code",
   "execution_count": 92,
   "id": "2130105f",
   "metadata": {},
   "outputs": [
    {
     "data": {
      "image/png": "[encoded data removed]",
      "text/plain": [
       "<Figure size 640x480 with 1 Axes>"
      ]
     },
     "metadata": {},
     "output_type": "display_data"
    }
   ],
   "source": [
    "\n",
    "\n",
    "## MonthlyCharge\n",
    "# [In text citation: Dr. Middleton, K (n.d) Getting Started with D206 Detecting and Treating Outliers]\n",
    "\n",
    "## Removing the  instances outlier and rechecking the plot\n",
    "MonthlyCharge_outliers = churned_data[ (churned_data[\"MonthlyCharge\"] > MonthlyCharge_upper_limit)]\n",
    "#MonthlyCharge_outliers.info()\n",
    "\n",
    "churned_data.drop(churned_data[ (churned_data[\"MonthlyCharge\"] > MonthlyCharge_upper_limit)].index, inplace = True )\n",
    "MonthlyCharge_removed_outliers = seaborn.boxplot(x = \"MonthlyCharge\", data = churned_data)\n"
   ]
  },
  {
   "cell_type": "code",
   "execution_count": 93,
   "id": "8c78753c",
   "metadata": {},
   "outputs": [],
   "source": [
    "\n",
    "\n",
    "## Bandwidth_GB_Year\n",
    "\n",
    "## NO OUTLIERS DETECTED\n",
    "\n"
   ]
  },
  {
   "cell_type": "code",
   "execution_count": 94,
   "id": "f42ba698",
   "metadata": {},
   "outputs": [
    {
     "name": "stdout",
     "output_type": "stream",
     "text": [
      "<class 'pandas.core.frame.DataFrame'>\n",
      "Int64Index: 8236 entries, 0 to 9999\n",
      "Data columns (total 54 columns):\n",
      " #   Column                 Non-Null Count  Dtype  \n",
      "---  ------                 --------------  -----  \n",
      " 0   Unnamed: 0             8236 non-null   int64  \n",
      " 1   CaseOrder              8236 non-null   int64  \n",
      " 2   Customer_id            8236 non-null   object \n",
      " 3   Interaction            8236 non-null   object \n",
      " 4   City                   8236 non-null   object \n",
      " 5   State                  8236 non-null   object \n",
      " 6   County                 8236 non-null   object \n",
      " 7   Zip                    8236 non-null   int64  \n",
      " 8   Lat                    8236 non-null   float64\n",
      " 9   Lng                    8236 non-null   float64\n",
      " 10  Population             8236 non-null   int64  \n",
      " 11  Area                   8236 non-null   object \n",
      " 12  Timezone               8236 non-null   object \n",
      " 13  Job                    8236 non-null   object \n",
      " 14  Children               8236 non-null   float64\n",
      " 15  Age                    8236 non-null   float64\n",
      " 16  Education              8236 non-null   object \n",
      " 17  Employment             8236 non-null   object \n",
      " 18  Income                 8236 non-null   float64\n",
      " 19  Marital                8236 non-null   object \n",
      " 20  Gender                 8236 non-null   object \n",
      " 21  Churn                  8236 non-null   object \n",
      " 22  Outage_sec_perweek     8236 non-null   float64\n",
      " 23  Email                  8236 non-null   int64  \n",
      " 24  Contacts               8236 non-null   int64  \n",
      " 25  Yearly_equip_failure   8236 non-null   int64  \n",
      " 26  Techie                 8236 non-null   object \n",
      " 27  Contract               8236 non-null   object \n",
      " 28  Port_modem             8236 non-null   object \n",
      " 29  Tablet                 8236 non-null   object \n",
      " 30  InternetService        8236 non-null   object \n",
      " 31  Phone                  8236 non-null   object \n",
      " 32  Multiple               8236 non-null   object \n",
      " 33  OnlineSecurity         8236 non-null   object \n",
      " 34  OnlineBackup           8236 non-null   object \n",
      " 35  DeviceProtection       8236 non-null   object \n",
      " 36  TechSupport            8236 non-null   object \n",
      " 37  StreamingTV            8236 non-null   object \n",
      " 38  StreamingMovies        8236 non-null   object \n",
      " 39  PaperlessBilling       8236 non-null   object \n",
      " 40  PaymentMethod          8236 non-null   object \n",
      " 41  Tenure                 8236 non-null   float64\n",
      " 42  MonthlyCharge          8236 non-null   float64\n",
      " 43  Bandwidth_GB_Year      8236 non-null   float64\n",
      " 44  item1                  8236 non-null   int64  \n",
      " 45  item2                  8236 non-null   int64  \n",
      " 46  item3                  8236 non-null   int64  \n",
      " 47  item4                  8236 non-null   int64  \n",
      " 48  item5                  8236 non-null   int64  \n",
      " 49  item6                  8236 non-null   int64  \n",
      " 50  item7                  8236 non-null   int64  \n",
      " 51  item8                  8236 non-null   int64  \n",
      " 52  Z_Score_Email          8236 non-null   float64\n",
      " 53  Z_Score_MonthlyCharge  8236 non-null   float64\n",
      "dtypes: float64(11), int64(15), object(28)\n",
      "memory usage: 3.5+ MB\n"
     ]
    }
   ],
   "source": [
    "churned_data.info()"
   ]
  },
  {
   "cell_type": "code",
   "execution_count": 95,
   "id": "0d2b24b7",
   "metadata": {},
   "outputs": [],
   "source": [
    "\n",
    "\n",
    "\n",
    "\n",
    "\n",
    "\n",
    "## LOOKING AT THE RE-EXPRESSION OF CATEGORICAL VARIABLES\n",
    "\n",
    "\n",
    "\n",
    "\n",
    "\n"
   ]
  },
  {
   "cell_type": "code",
   "execution_count": 96,
   "id": "c285b59e",
   "metadata": {},
   "outputs": [
    {
     "data": {
      "text/plain": [
       "array([\"Master's Degree\", 'Regular High School Diploma',\n",
       "       'Doctorate Degree', 'No Schooling Completed', \"Associate's Degree\",\n",
       "       \"Bachelor's Degree\", 'GED or Alternative Credential',\n",
       "       'Some College, 1 or More Years, No Degree',\n",
       "       '9th Grade to 12th Grade, No Diploma',\n",
       "       'Some College, Less than 1 Year', 'Nursery School to 8th Grade',\n",
       "       'Professional School Degree'], dtype=object)"
      ]
     },
     "execution_count": 96,
     "metadata": {},
     "output_type": "execute_result"
    }
   ],
   "source": [
    "## Education is a clear ORDINAL categorical variable so I will convert\n",
    "# [In text citation: Dr. Middleton, K (n.d) Getting Started with D206 Re-Expression of Categorical Variables]\n",
    "\n",
    "churned_data[\"Education\"].unique()\n",
    "#len(churned_data[\"Education\"].unique())\n",
    "\n",
    "## So we have 12 types of data, time to create the new column and dictionary per Dr. Middleton's Video Lecture\n",
    "## D206 - Getting Started With D206 | Re-expression of Categorical Variables"
   ]
  },
  {
   "cell_type": "code",
   "execution_count": 97,
   "id": "30035313",
   "metadata": {},
   "outputs": [],
   "source": [
    "# [In text citation: Dr. Middleton, K (n.d) Getting Started with D206 Re-Expression of Categorical Variables]\n",
    "\n",
    "churned_data[\"Education_Numeric\"] = churned_data[\"Education\"]\n",
    "dict_edu = {\"Education_Numeric\": {\"No Schooling Completed\": 0, \"Nursery School to 8th Grade\": 1, \n",
    "                                  \"9th Grade to 12th Grade, No Diploma\": 2, \"GED or Alternative Credential\": 3, \n",
    "                                  \"Regular High School Diploma\": 4, \"Some College, Less than 1 Year\": 5,\n",
    "                                 \"Some College, 1 or More Years, No Degree\": 6, \"Associate's Degree\": 7, \n",
    "                                 \"Professional School Degree\": 8, \"Bachelor's Degree\": 9, \n",
    "                                 \"Master's Degree\": 10, \"Doctorate Degree\": 11, \"unknown\": np.NaN}}\n",
    "churned_data.replace(dict_edu, inplace = True)"
   ]
  },
  {
   "cell_type": "code",
   "execution_count": 98,
   "id": "8ced24e8",
   "metadata": {},
   "outputs": [
    {
     "data": {
      "text/plain": [
       "array([10,  4, 11,  0,  7,  9,  3,  6,  2,  5,  1,  8], dtype=int64)"
      ]
     },
     "execution_count": 98,
     "metadata": {},
     "output_type": "execute_result"
    }
   ],
   "source": [
    "## Just to check to make sure we don't have any missing values\n",
    "# [In text citation: Dr. Middleton, K (n.d) Getting Started with D206 Re-Expression of Categorical Variables]\n",
    "\n",
    "#print(\"Amount of missing values: \", churned_data[\"Education_Numeric\"].isna().sum())\n",
    "#print(churned_data[\"Education_Numeric\"].head())\n",
    "churned_data.Education_Numeric.unique()"
   ]
  },
  {
   "cell_type": "code",
   "execution_count": 99,
   "id": "10030c67",
   "metadata": {},
   "outputs": [],
   "source": [
    "## Replacing all Yes/No responses with an int value corresponding to Yes = 1 and No = 0.\n",
    "# [In text citation: Dr. Middleton, K (n.d) Getting Started with D206 Re-Expression of Categorical Variables]\n",
    "\n",
    "churned_data = churned_data.replace({\"Yes\": 1, \"No\": 0})\n"
   ]
  },
  {
   "cell_type": "code",
   "execution_count": 100,
   "id": "508b08ae",
   "metadata": {},
   "outputs": [
    {
     "name": "stdout",
     "output_type": "stream",
     "text": [
      "(8236, 55)\n"
     ]
    },
    {
     "data": {
      "text/plain": [
       "False    8236\n",
       "dtype: int64"
      ]
     },
     "execution_count": 100,
     "metadata": {},
     "output_type": "execute_result"
    }
   ],
   "source": [
    "## Doing one last check for duplicates or missing values to ensure data quality\n",
    "print(churned_data.shape)\n",
    "\n",
    "duplicates_end = churned_data.duplicated(keep = False)\n",
    "duplicates_end.value_counts()\n",
    "\n",
    "## So we can see there are no duplicates, but the overall data set has gotten smaller. That is to be expected because of our\n",
    "## exclusion of many outliers from the quantitative variables"
   ]
  },
  {
   "cell_type": "code",
   "execution_count": 101,
   "id": "812a0dc8",
   "metadata": {},
   "outputs": [
    {
     "data": {
      "text/plain": [
       "Unnamed: 0               0\n",
       "CaseOrder                0\n",
       "Customer_id              0\n",
       "Interaction              0\n",
       "City                     0\n",
       "State                    0\n",
       "County                   0\n",
       "Zip                      0\n",
       "Lat                      0\n",
       "Lng                      0\n",
       "Population               0\n",
       "Area                     0\n",
       "Timezone                 0\n",
       "Job                      0\n",
       "Children                 0\n",
       "Age                      0\n",
       "Education                0\n",
       "Employment               0\n",
       "Income                   0\n",
       "Marital                  0\n",
       "Gender                   0\n",
       "Churn                    0\n",
       "Outage_sec_perweek       0\n",
       "Email                    0\n",
       "Contacts                 0\n",
       "Yearly_equip_failure     0\n",
       "Techie                   0\n",
       "Contract                 0\n",
       "Port_modem               0\n",
       "Tablet                   0\n",
       "InternetService          0\n",
       "Phone                    0\n",
       "Multiple                 0\n",
       "OnlineSecurity           0\n",
       "OnlineBackup             0\n",
       "DeviceProtection         0\n",
       "TechSupport              0\n",
       "StreamingTV              0\n",
       "StreamingMovies          0\n",
       "PaperlessBilling         0\n",
       "PaymentMethod            0\n",
       "Tenure                   0\n",
       "MonthlyCharge            0\n",
       "Bandwidth_GB_Year        0\n",
       "item1                    0\n",
       "item2                    0\n",
       "item3                    0\n",
       "item4                    0\n",
       "item5                    0\n",
       "item6                    0\n",
       "item7                    0\n",
       "item8                    0\n",
       "Z_Score_Email            0\n",
       "Z_Score_MonthlyCharge    0\n",
       "Education_Numeric        0\n",
       "dtype: int64"
      ]
     },
     "execution_count": 101,
     "metadata": {},
     "output_type": "execute_result"
    }
   ],
   "source": [
    "churned_data.isna().sum()\n",
    "\n",
    "## Still no missing values "
   ]
  },
  {
   "cell_type": "code",
   "execution_count": 102,
   "id": "bd6dbb49",
   "metadata": {},
   "outputs": [],
   "source": [
    "## Exporting the new data frame to a CSV file\n",
    "\n",
    "churned_data.to_csv('C:/Users/cfman/OneDrive/Desktop/WGUClasses/D206DataCleaning/churn_cleaned_data.csv')"
   ]
  },
  {
   "cell_type": "code",
   "execution_count": 103,
   "id": "2c7c16c4",
   "metadata": {},
   "outputs": [],
   "source": [
    "\n",
    "\n",
    "\n",
    "\n",
    "\n",
    "## Principal Component Analysis\n",
    "\n",
    "\n",
    "\n",
    "\n"
   ]
  },
  {
   "cell_type": "code",
   "execution_count": 104,
   "id": "a2d6e5e4",
   "metadata": {},
   "outputs": [],
   "source": [
    "# [In text citation: Dr. Middleton, K (n.d) Getting Started with D206 Principal Component Analysis(PCA)]\n",
    "\n",
    "from sklearn.decomposition import PCA"
   ]
  },
  {
   "cell_type": "code",
   "execution_count": 105,
   "id": "98af6189",
   "metadata": {},
   "outputs": [],
   "source": [
    "## Normalizing the continuous quantitative variables and putting into a dataframe\n",
    "# [In text citation: Dr. Middleton, K (n.d) Getting Started with D206 Principal Component Analysis(PCA)]\n",
    "\n",
    "churned_Cont_Var = churned_data[[\"Income\", \"Outage_sec_perweek\", \"Tenure\", \"MonthlyCharge\", \"Bandwidth_GB_Year\"]]\n",
    "\n",
    "churned_normalized = (churned_Cont_Var - churned_Cont_Var.mean()) / churned_Cont_Var.std()"
   ]
  },
  {
   "cell_type": "code",
   "execution_count": 106,
   "id": "e71ae8f7",
   "metadata": {},
   "outputs": [],
   "source": [
    "## Checking out many PCA variables\n",
    "# [In text citation: Dr. Middleton, K (n.d) Getting Started with D206 Principal Component Analysis(PCA)]\n",
    "\n",
    "pca = PCA(n_components = churned_Cont_Var.shape[1])"
   ]
  },
  {
   "cell_type": "code",
   "execution_count": 107,
   "id": "78fcc2ca",
   "metadata": {},
   "outputs": [
    {
     "data": {
      "text/html": [
       "<style>#sk-container-id-1 {color: black;}#sk-container-id-1 pre{padding: 0;}#sk-container-id-1 div.sk-toggleable {background-color: white;}#sk-container-id-1 label.sk-toggleable__label {cursor: pointer;display: block;width: 100%;margin-bottom: 0;padding: 0.3em;box-sizing: border-box;text-align: center;}#sk-container-id-1 label.sk-toggleable__label-arrow:before {content: \"▸\";float: left;margin-right: 0.25em;color: #696969;}#sk-container-id-1 label.sk-toggleable__label-arrow:hover:before {color: black;}#sk-container-id-1 div.sk-estimator:hover label.sk-toggleable__label-arrow:before {color: black;}#sk-container-id-1 div.sk-toggleable__content {max-height: 0;max-width: 0;overflow: hidden;text-align: left;background-color: #f0f8ff;}#sk-container-id-1 div.sk-toggleable__content pre {margin: 0.2em;color: black;border-radius: 0.25em;background-color: #f0f8ff;}#sk-container-id-1 input.sk-toggleable__control:checked~div.sk-toggleable__content {max-height: 200px;max-width: 100%;overflow: auto;}#sk-container-id-1 input.sk-toggleable__control:checked~label.sk-toggleable__label-arrow:before {content: \"▾\";}#sk-container-id-1 div.sk-estimator input.sk-toggleable__control:checked~label.sk-toggleable__label {background-color: #d4ebff;}#sk-container-id-1 div.sk-label input.sk-toggleable__control:checked~label.sk-toggleable__label {background-color: #d4ebff;}#sk-container-id-1 input.sk-hidden--visually {border: 0;clip: rect(1px 1px 1px 1px);clip: rect(1px, 1px, 1px, 1px);height: 1px;margin: -1px;overflow: hidden;padding: 0;position: absolute;width: 1px;}#sk-container-id-1 div.sk-estimator {font-family: monospace;background-color: #f0f8ff;border: 1px dotted black;border-radius: 0.25em;box-sizing: border-box;margin-bottom: 0.5em;}#sk-container-id-1 div.sk-estimator:hover {background-color: #d4ebff;}#sk-container-id-1 div.sk-parallel-item::after {content: \"\";width: 100%;border-bottom: 1px solid gray;flex-grow: 1;}#sk-container-id-1 div.sk-label:hover label.sk-toggleable__label {background-color: #d4ebff;}#sk-container-id-1 div.sk-serial::before {content: \"\";position: absolute;border-left: 1px solid gray;box-sizing: border-box;top: 0;bottom: 0;left: 50%;z-index: 0;}#sk-container-id-1 div.sk-serial {display: flex;flex-direction: column;align-items: center;background-color: white;padding-right: 0.2em;padding-left: 0.2em;position: relative;}#sk-container-id-1 div.sk-item {position: relative;z-index: 1;}#sk-container-id-1 div.sk-parallel {display: flex;align-items: stretch;justify-content: center;background-color: white;position: relative;}#sk-container-id-1 div.sk-item::before, #sk-container-id-1 div.sk-parallel-item::before {content: \"\";position: absolute;border-left: 1px solid gray;box-sizing: border-box;top: 0;bottom: 0;left: 50%;z-index: -1;}#sk-container-id-1 div.sk-parallel-item {display: flex;flex-direction: column;z-index: 1;position: relative;background-color: white;}#sk-container-id-1 div.sk-parallel-item:first-child::after {align-self: flex-end;width: 50%;}#sk-container-id-1 div.sk-parallel-item:last-child::after {align-self: flex-start;width: 50%;}#sk-container-id-1 div.sk-parallel-item:only-child::after {width: 0;}#sk-container-id-1 div.sk-dashed-wrapped {border: 1px dashed gray;margin: 0 0.4em 0.5em 0.4em;box-sizing: border-box;padding-bottom: 0.4em;background-color: white;}#sk-container-id-1 div.sk-label label {font-family: monospace;font-weight: bold;display: inline-block;line-height: 1.2em;}#sk-container-id-1 div.sk-label-container {text-align: center;}#sk-container-id-1 div.sk-container {/* jupyter's `normalize.less` sets `[hidden] { display: none; }` but bootstrap.min.css set `[hidden] { display: none !important; }` so we also need the `!important` here to be able to override the default hidden behavior on the sphinx rendered scikit-learn.org. See: https://github.com/scikit-learn/scikit-learn/issues/21755 */display: inline-block !important;position: relative;}#sk-container-id-1 div.sk-text-repr-fallback {display: none;}</style><div id=\"sk-container-id-1\" class=\"sk-top-container\"><div class=\"sk-text-repr-fallback\"><pre>PCA(n_components=5)</pre><b>In a Jupyter environment, please rerun this cell to show the HTML representation or trust the notebook. <br />On GitHub, the HTML representation is unable to render, please try loading this page with nbviewer.org.</b></div><div class=\"sk-container\" hidden><div class=\"sk-item\"><div class=\"sk-estimator sk-toggleable\"><input class=\"sk-toggleable__control sk-hidden--visually\" id=\"sk-estimator-id-1\" type=\"checkbox\" checked><label for=\"sk-estimator-id-1\" class=\"sk-toggleable__label sk-toggleable__label-arrow\">PCA</label><div class=\"sk-toggleable__content\"><pre>PCA(n_components=5)</pre></div></div></div></div></div>"
      ],
      "text/plain": [
       "PCA(n_components=5)"
      ]
     },
     "execution_count": 107,
     "metadata": {},
     "output_type": "execute_result"
    }
   ],
   "source": [
    "# [In text citation: Dr. Middleton, K (n.d) Getting Started with D206 Principal Component Analysis(PCA)]\n",
    "\n",
    "pca.fit(churned_normalized)"
   ]
  },
  {
   "cell_type": "code",
   "execution_count": 108,
   "id": "3fc1a3b2",
   "metadata": {},
   "outputs": [],
   "source": [
    "## Converting back into a dataframe\n",
    "# [In text citation: Dr. Middleton, K (n.d) Getting Started with D206 Principal Component Analysis(PCA)]\n",
    "\n",
    "churned_data_PCA = pd.DataFrame(pca.transform(churned_normalized),\n",
    "                               columns = [\"PC1\", \"PC2\", \"PC3\", \"PC4\",\"PC5\"])"
   ]
  },
  {
   "cell_type": "code",
   "execution_count": 109,
   "id": "554da4ae",
   "metadata": {},
   "outputs": [
    {
     "data": {
      "text/html": [
       "<div>\n",
       "<style scoped>\n",
       "    .dataframe tbody tr th:only-of-type {\n",
       "        vertical-align: middle;\n",
       "    }\n",
       "\n",
       "    .dataframe tbody tr th {\n",
       "        vertical-align: top;\n",
       "    }\n",
       "\n",
       "    .dataframe thead th {\n",
       "        text-align: right;\n",
       "    }\n",
       "</style>\n",
       "<table border=\"1\" class=\"dataframe\">\n",
       "  <thead>\n",
       "    <tr style=\"text-align: right;\">\n",
       "      <th></th>\n",
       "      <th>PC1</th>\n",
       "      <th>PC2</th>\n",
       "      <th>PC3</th>\n",
       "      <th>PC4</th>\n",
       "      <th>PC5</th>\n",
       "    </tr>\n",
       "  </thead>\n",
       "  <tbody>\n",
       "    <tr>\n",
       "      <th>Income</th>\n",
       "      <td>0.008275</td>\n",
       "      <td>-0.038237</td>\n",
       "      <td>0.944864</td>\n",
       "      <td>-0.325109</td>\n",
       "      <td>-0.002147</td>\n",
       "    </tr>\n",
       "    <tr>\n",
       "      <th>Outage_sec_perweek</th>\n",
       "      <td>0.022178</td>\n",
       "      <td>0.706773</td>\n",
       "      <td>-0.204492</td>\n",
       "      <td>-0.676814</td>\n",
       "      <td>-0.009300</td>\n",
       "    </tr>\n",
       "    <tr>\n",
       "      <th>Tenure</th>\n",
       "      <td>0.705476</td>\n",
       "      <td>-0.060490</td>\n",
       "      <td>-0.018728</td>\n",
       "      <td>-0.024699</td>\n",
       "      <td>-0.705467</td>\n",
       "    </tr>\n",
       "    <tr>\n",
       "      <th>MonthlyCharge</th>\n",
       "      <td>0.041623</td>\n",
       "      <td>0.703806</td>\n",
       "      <td>0.255074</td>\n",
       "      <td>0.659924</td>\n",
       "      <td>-0.048600</td>\n",
       "    </tr>\n",
       "    <tr>\n",
       "      <th>Bandwidth_GB_Year</th>\n",
       "      <td>0.707114</td>\n",
       "      <td>-0.002798</td>\n",
       "      <td>-0.000974</td>\n",
       "      <td>0.010829</td>\n",
       "      <td>0.707010</td>\n",
       "    </tr>\n",
       "  </tbody>\n",
       "</table>\n",
       "</div>"
      ],
      "text/plain": [
       "                         PC1       PC2       PC3       PC4       PC5\n",
       "Income              0.008275 -0.038237  0.944864 -0.325109 -0.002147\n",
       "Outage_sec_perweek  0.022178  0.706773 -0.204492 -0.676814 -0.009300\n",
       "Tenure              0.705476 -0.060490 -0.018728 -0.024699 -0.705467\n",
       "MonthlyCharge       0.041623  0.703806  0.255074  0.659924 -0.048600\n",
       "Bandwidth_GB_Year   0.707114 -0.002798 -0.000974  0.010829  0.707010"
      ]
     },
     "execution_count": 109,
     "metadata": {},
     "output_type": "execute_result"
    }
   ],
   "source": [
    "## Finding the relationships (loadings) to the PCs\n",
    "# [In text citation: Dr. Middleton, K (n.d) Getting Started with D206 Principal Component Analysis(PCA)]\n",
    "\n",
    "loadings = pd.DataFrame(pca.components_.T, columns = [\"PC1\", \"PC2\", \"PC3\", \"PC4\",\"PC5\"], index=churned_Cont_Var.columns)\n",
    "loadings"
   ]
  },
  {
   "cell_type": "code",
   "execution_count": 110,
   "id": "3e813da2",
   "metadata": {},
   "outputs": [],
   "source": [
    "## Keep all PCs with eigenvalue greater than or equal to 1. Also going to create a scree plot\n",
    "# [In text citation: Dr. Middleton, K (n.d) Getting Started with D206 Principal Component Analysis(PCA)]\n",
    "\n",
    "covariance_matrix = np.dot(churned_normalized.T, churned_normalized) / churned_Cont_Var.shape[0]\n",
    "\n",
    "eigenvalues = [np.dot(eigenvector.T, np.dot(covariance_matrix, eigenvector)) for eigenvector in pca.components_]"
   ]
  },
  {
   "cell_type": "code",
   "execution_count": 113,
   "id": "245a4e11",
   "metadata": {},
   "outputs": [
    {
     "data": {
      "image/png": "[encoded data removed]",
      "text/plain": [
       "<Figure size 640x480 with 1 Axes>"
      ]
     },
     "metadata": {},
     "output_type": "display_data"
    }
   ],
   "source": [
    "# [In text citation: Dr. Middleton, K (n.d) Getting Started with D206 Principal Component Analysis(PCA)]\n",
    "\n",
    "plt.plot(np.arange(1, len(eigenvalues) + 1), eigenvalues, marker = 'o')\n",
    "plt.xlabel(\"Number of Components\")\n",
    "plt.ylabel(\"Eigenvalue\")\n",
    "plt.axhline(y=1, color = \"red\")\n",
    "plt.show()"
   ]
  },
  {
   "cell_type": "code",
   "execution_count": 112,
   "id": "1bf0ba41",
   "metadata": {},
   "outputs": [],
   "source": [
    "## From this plot, it looks like we would keep PCA1, PCA2, and PCA3 as they are all greater than or equal to 1"
   ]
  }
 ],
 "metadata": {
  "kernelspec": {
   "display_name": "Python 3 (ipykernel)",
   "language": "python",
   "name": "python3"
  },
  "language_info": {
   "codemirror_mode": {
    "name": "ipython",
    "version": 3
   },
   "file_extension": ".py",
   "mimetype": "text/x-python",
   "name": "python",
   "nbconvert_exporter": "python",
   "pygments_lexer": "ipython3",
   "version": "3.11.4"
  }
 },
 "nbformat": 4,
 "nbformat_minor": 5
}
