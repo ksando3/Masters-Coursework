{
 "cells": [
  {
   "cell_type": "code",
   "execution_count": 1,
   "id": "6cfb9a8f",
   "metadata": {},
   "outputs": [],
   "source": [
    "import warnings\n",
    "warnings.filterwarnings(\"ignore\")\n",
    "import numpy as np\n",
    "import matplotlib.pyplot as plt\n",
    "import tensorflow as tf\n",
    "from tensorflow.keras.callbacks import EarlyStopping\n",
    "import pandas as pd\n",
    "# import tensorflow_datasets as tfds\n",
    "import os\n",
    "from tensorflow.keras.preprocessing.text import Tokenizer\n",
    "from tensorflow.keras.preprocessing.sequence import pad_sequences\n",
    "from tensorflow.keras.models import Sequential\n",
    "from tensorflow.keras.layers import LSTM, Dense, Dropout, SpatialDropout1D, Embedding, Bidirectional\n",
    "from sklearn.metrics import confusion_matrix, ConfusionMatrixDisplay, classification_report\n",
    "from sklearn import metrics\n",
    "from sklearn.svm import SVC"
   ]
  },
  {
   "cell_type": "code",
   "execution_count": 2,
   "id": "af479e75",
   "metadata": {},
   "outputs": [],
   "source": [
    "## Importing the data and creating a list of all data points\n",
    "\n",
    "lists = []\n",
    "with open('amazon_cells_labelled.txt','r') as data_file:\n",
    "    for line in data_file:\n",
    "        data = line.split('\\t')\n",
    "        #print(data)\n",
    "        lists.append(data)"
   ]
  },
  {
   "cell_type": "code",
   "execution_count": 3,
   "id": "cb4b5155",
   "metadata": {},
   "outputs": [
    {
     "name": "stdout",
     "output_type": "stream",
     "text": [
      "['So there is no way for me to plug it in here in the US unless I go by a converter.', 'Good case, Excellent value.', 'Great for the jawbone.', 'Tied to charger for conversations lasting more than 45 minutes.MAJOR PROBLEMS!!', 'The mic is great.']\n",
      "[0, 1, 1, 0, 1]\n",
      "[['So there is no way for me to plug it in here in the US unless I go by a converter.', '0\\n'], ['Good case, Excellent value.', '1\\n'], ['Great for the jawbone.', '1\\n'], ['Tied to charger for conversations lasting more than 45 minutes.MAJOR PROBLEMS!!', '0\\n'], ['The mic is great.', '1\\n']]\n",
      "True\n",
      "True\n",
      "True\n"
     ]
    }
   ],
   "source": [
    "## Creating separate lists of the reviews and labels and checking the lengths\n",
    "\n",
    "reviews = []\n",
    "labels = []\n",
    "\n",
    "for i in range(0, len(lists)):\n",
    "    reviews.append(lists[i][0])\n",
    "    labels.append(int(lists[i][1]))\n",
    "\n",
    "print(reviews[:5])\n",
    "print(labels[:5])\n",
    "print(lists[:5])\n",
    "print(len(reviews) == len(labels))\n",
    "print(len(reviews) == len(lists))\n",
    "print(len(labels) == len(lists))"
   ]
  },
  {
   "cell_type": "code",
   "execution_count": 4,
   "id": "8cb9b32e",
   "metadata": {},
   "outputs": [],
   "source": [
    "data = pd.DataFrame({'Reviews': reviews, 'Labels': labels})"
   ]
  },
  {
   "cell_type": "code",
   "execution_count": 5,
   "id": "7e78ced2",
   "metadata": {},
   "outputs": [
    {
     "name": "stdout",
     "output_type": "stream",
     "text": [
      "                                             Reviews  Labels\n",
      "0  So there is no way for me to plug it in here i...       0\n",
      "1                        Good case, Excellent value.       1\n",
      "2                             Great for the jawbone.       1\n",
      "3  Tied to charger for conversations lasting more...       0\n",
      "4                                  The mic is great.       1\n"
     ]
    }
   ],
   "source": [
    "print(data.head())"
   ]
  },
  {
   "cell_type": "code",
   "execution_count": 6,
   "id": "2568f9a5",
   "metadata": {},
   "outputs": [],
   "source": [
    "## https://www.geeksforgeeks.org/python-program-check-string-contains-special-character/\n",
    "\n",
    "unusual = []\n",
    "\n",
    "def check_special_char_ascii(string):\n",
    "    for char in string:\n",
    "        if ord(char) < 32 or (32 < ord(char) < 65) or (90 < ord(char) < 97) or ord(char) > 122:\n",
    "            unusual.append(ord(char))"
   ]
  },
  {
   "cell_type": "code",
   "execution_count": 7,
   "id": "bed443b9",
   "metadata": {},
   "outputs": [
    {
     "data": {
      "text/plain": [
       "Unusual\n",
       "46         1079\n",
       "44          293\n",
       "39          180\n",
       "33          167\n",
       "45           74\n",
       "50           45\n",
       "48           43\n",
       "53           37\n",
       "49           33\n",
       "41           29\n",
       "40           26\n",
       "51           23\n",
       "34           19\n",
       "56           11\n",
       "52           10\n",
       "55           10\n",
       "59            9\n",
       "36            9\n",
       "47            8\n",
       "38            7\n",
       "63            7\n",
       "54            5\n",
       "58            4\n",
       "42            4\n",
       "37            2\n",
       "57            2\n",
       "35            2\n",
       "43            1\n",
       "91            1\n",
       "93            1\n",
       "dtype: int64"
      ]
     },
     "execution_count": 7,
     "metadata": {},
     "output_type": "execute_result"
    }
   ],
   "source": [
    "for i in range(0, len(data['Reviews'])):\n",
    "    check_special_char_ascii(data['Reviews'][i])\n",
    "unusual = pd.DataFrame({'Unusual': unusual})\n",
    "unusual.value_counts()"
   ]
  },
  {
   "cell_type": "code",
   "execution_count": 8,
   "id": "57fe13dd",
   "metadata": {},
   "outputs": [],
   "source": [
    "def replace_unusual_with_nothing(string):\n",
    "    for char in string:\n",
    "        if ord(char) < 32 or (32 < ord(char) < 65) or (90 < ord(char) < 97) or ord(char) > 122:\n",
    "            #print(char)\n",
    "            string = string.replace(char, ' ')\n",
    "            #print(string)\n",
    "    data['Reviews'][i] = string\n",
    "    #print(edited_reviews)"
   ]
  },
  {
   "cell_type": "code",
   "execution_count": 9,
   "id": "4169cd27",
   "metadata": {},
   "outputs": [],
   "source": [
    "#testing = ['Hello$ World!@', 'wervbow$ eregv#']"
   ]
  },
  {
   "cell_type": "code",
   "execution_count": 10,
   "id": "39248222",
   "metadata": {},
   "outputs": [],
   "source": [
    "#for i in range(0, len(testing)):\n",
    "    #replace_unusual_with_nothing(testing[i])"
   ]
  },
  {
   "cell_type": "code",
   "execution_count": 11,
   "id": "3dd57335",
   "metadata": {},
   "outputs": [],
   "source": [
    "for i in range(0, len(data['Reviews'])):\n",
    "    replace_unusual_with_nothing(data['Reviews'][i])"
   ]
  },
  {
   "cell_type": "code",
   "execution_count": 12,
   "id": "0b29c7e7",
   "metadata": {},
   "outputs": [],
   "source": [
    "## https://www.geeksforgeeks.org/python-program-check-string-contains-special-character/\n",
    "\n",
    "unusual_removed = []\n",
    "\n",
    "def check_special_char_ascii_removed(string):\n",
    "    for char in string:\n",
    "        if ord(char) < 32 or (32 < ord(char) < 48) or (57 < ord(char) < 65) or (90 < ord(char) < 97) or ord(char) > 122:\n",
    "            unusual_removed.append(ord(char))"
   ]
  },
  {
   "cell_type": "code",
   "execution_count": 13,
   "id": "46517fbc",
   "metadata": {},
   "outputs": [
    {
     "data": {
      "text/plain": [
       "Series([], dtype: int64)"
      ]
     },
     "execution_count": 13,
     "metadata": {},
     "output_type": "execute_result"
    }
   ],
   "source": [
    "for i in range(0, len(data['Reviews'])):\n",
    "    check_special_char_ascii_removed(data['Reviews'][i])\n",
    "unusual_removed = pd.DataFrame({'Unusual': unusual_removed})\n",
    "unusual_removed.value_counts()"
   ]
  },
  {
   "cell_type": "code",
   "execution_count": 14,
   "id": "4cff8b12",
   "metadata": {},
   "outputs": [
    {
     "name": "stdout",
     "output_type": "stream",
     "text": [
      "                                             Reviews  Labels\n",
      "0  So there is no way for me to plug it in here i...       0\n",
      "1                        Good case  Excellent value        1\n",
      "2                             Great for the jawbone        1\n",
      "3  Tied to charger for conversations lasting more...       0\n",
      "4                                  The mic is great        1\n"
     ]
    }
   ],
   "source": [
    "print(data.head())"
   ]
  },
  {
   "cell_type": "code",
   "execution_count": 15,
   "id": "1de335d4",
   "metadata": {},
   "outputs": [
    {
     "name": "stdout",
     "output_type": "stream",
     "text": [
      "                                             Reviews  Labels\n",
      "0                    way plug us unless go converter       0\n",
      "1                          good case excellent value       1\n",
      "2                                      great jawbone       1\n",
      "3  tied charger conversations lasting minutes maj...       0\n",
      "4                                          mic great       1\n"
     ]
    }
   ],
   "source": [
    "## https://www.geeksforgeeks.org/removing-stop-words-nltk-python/\n",
    "\n",
    "from nltk.corpus import stopwords\n",
    "import re\n",
    "stop_words = set(stopwords.words('english'))\n",
    "\n",
    "for i in range(0, len(data['Reviews'])):\n",
    "    ## Changing everything to lowercase\n",
    "    data['Reviews'][i] = data['Reviews'][i].lower()\n",
    "    \n",
    "    ## Removing stopwords\n",
    "    data['Reviews'][i] = ' '.join([w for w in data['Reviews'][i].split() if w not in stop_words])\n",
    "    \n",
    "    #Removing extra spaces\n",
    "    data['Reviews'][i] = re.sub(r'\\s+', ' ', data['Reviews'][i]).strip()\n",
    "print(data.head())"
   ]
  },
  {
   "cell_type": "code",
   "execution_count": 16,
   "id": "da2adcaf",
   "metadata": {},
   "outputs": [],
   "source": [
    "## https://www.datacamp.com/tutorial/python-bag-of-words-model\n",
    "# Build the vocabulary\n",
    "vocab_len = []\n",
    "for i in range(0, len(data)):\n",
    "    b = data['Reviews'][i].split()\n",
    "    vocab_len.append(b)\n",
    "#print(\"Total Vocab:\", vocab_len)"
   ]
  },
  {
   "cell_type": "code",
   "execution_count": 17,
   "id": "d32ec253",
   "metadata": {},
   "outputs": [
    {
     "name": "stdout",
     "output_type": "stream",
     "text": [
      "5180\n"
     ]
    }
   ],
   "source": [
    "total_words = 0\n",
    "for i in range(0, len(vocab_len)):\n",
    "    total_words = total_words + len(vocab_len[i])\n",
    "print(total_words)"
   ]
  },
  {
   "cell_type": "code",
   "execution_count": 18,
   "id": "47cd5349",
   "metadata": {},
   "outputs": [
    {
     "name": "stdout",
     "output_type": "stream",
     "text": [
      "Total Amount of Words in Vocabulary:  5180\n",
      "Unique Vocabulary Size:  1689\n"
     ]
    }
   ],
   "source": [
    "# Initialize an empty set for the vocabulary\n",
    "vocabulary = set()\n",
    "\n",
    "# Build the vocabulary\n",
    "for sentence in vocab_len:\n",
    "    vocabulary.update(sentence)\n",
    "\n",
    "# Convert to a sorted list\n",
    "vocabulary = sorted(list(vocabulary))\n",
    "#print(\"Vocabulary:\", vocabulary)\n",
    "print(\"Total Amount of Words in Vocabulary: \", total_words)\n",
    "print(\"Unique Vocabulary Size: \", len(vocabulary))"
   ]
  },
  {
   "cell_type": "code",
   "execution_count": 19,
   "id": "24b45acf",
   "metadata": {},
   "outputs": [
    {
     "name": "stdout",
     "output_type": "stream",
     "text": [
      "114\n"
     ]
    }
   ],
   "source": [
    "max_length = data['Reviews'].str.len().max()\n",
    "print(max_length)"
   ]
  },
  {
   "cell_type": "code",
   "execution_count": 20,
   "id": "ff060e5e",
   "metadata": {},
   "outputs": [],
   "source": [
    "##https://westerngovernorsuniversity-my.sharepoint.com/personal/william_sewell_wgu_edu/_layouts/15/onedrive.aspx?id=%2Fpersonal%2Fwilliam%5Fsewell%5Fwgu%5Fedu%2FDocuments%2FDocuments%2FD213%2FWebinars%2FD213%5FTask2%5FSentiment%5FAnalysis%5FAns%5FYelpOnly%2Ehtml&parent=%2Fpersonal%2Fwilliam%5Fsewell%5Fwgu%5Fedu%2FDocuments%2FDocuments%2FD213%2FWebinars&ga=1\n",
    "\n",
    "#print(text)\n",
    "tokenizer = Tokenizer()\n",
    "tokenizer.fit_on_texts(data['Reviews'])\n",
    "encoded_docs = tokenizer.texts_to_sequences(data['Reviews'])\n",
    "padded_sequence = pad_sequences(encoded_docs, padding = 'post', maxlen = max_length)\n"
   ]
  },
  {
   "cell_type": "code",
   "execution_count": 21,
   "id": "30b63314",
   "metadata": {},
   "outputs": [
    {
     "name": "stdout",
     "output_type": "stream",
     "text": [
      "[[ 128   80  433 ...    0    0    0]\n",
      " [   3   17   18 ...    0    0    0]\n",
      " [   2  316    0 ...    0    0    0]\n",
      " ...\n",
      " [  35  350  156 ...    0    0    0]\n",
      " [  67 1686 1687 ...    0    0    0]\n",
      " [ 678   65  127 ...    0    0    0]]\n"
     ]
    }
   ],
   "source": [
    "print(padded_sequence)"
   ]
  },
  {
   "cell_type": "code",
   "execution_count": 22,
   "id": "f67f2909",
   "metadata": {},
   "outputs": [],
   "source": [
    "data['padded_sequence'] = padded_sequence.tolist()"
   ]
  },
  {
   "cell_type": "code",
   "execution_count": 23,
   "id": "941fe359",
   "metadata": {},
   "outputs": [
    {
     "name": "stdout",
     "output_type": "stream",
     "text": [
      "[128  80 433 315 149 687   0   0   0   0   0   0   0   0   0   0   0   0\n",
      "   0   0   0   0   0   0   0   0   0   0   0   0   0   0   0   0   0   0\n",
      "   0   0   0   0   0   0   0   0   0   0   0   0   0   0   0   0   0   0\n",
      "   0   0   0   0   0   0   0   0   0   0   0   0   0   0   0   0   0   0\n",
      "   0   0   0   0   0   0   0   0   0   0   0   0   0   0   0   0   0   0\n",
      "   0   0   0   0   0   0   0   0   0   0   0   0   0   0   0   0   0   0\n",
      "   0   0   0   0   0   0]\n"
     ]
    }
   ],
   "source": [
    "print(padded_sequence[0])"
   ]
  },
  {
   "cell_type": "code",
   "execution_count": 24,
   "id": "7ae2be71",
   "metadata": {},
   "outputs": [
    {
     "name": "stdout",
     "output_type": "stream",
     "text": [
      "[128, 80, 433, 315, 149, 687, 0, 0, 0, 0, 0, 0, 0, 0, 0, 0, 0, 0, 0, 0, 0, 0, 0, 0, 0, 0, 0, 0, 0, 0, 0, 0, 0, 0, 0, 0, 0, 0, 0, 0, 0, 0, 0, 0, 0, 0, 0, 0, 0, 0, 0, 0, 0, 0, 0, 0, 0, 0, 0, 0, 0, 0, 0, 0, 0, 0, 0, 0, 0, 0, 0, 0, 0, 0, 0, 0, 0, 0, 0, 0, 0, 0, 0, 0, 0, 0, 0, 0, 0, 0, 0, 0, 0, 0, 0, 0, 0, 0, 0, 0, 0, 0, 0, 0, 0, 0, 0, 0, 0, 0, 0, 0, 0, 0]\n"
     ]
    }
   ],
   "source": [
    "print(data['padded_sequence'][0])"
   ]
  },
  {
   "cell_type": "code",
   "execution_count": 25,
   "id": "6ab471db",
   "metadata": {},
   "outputs": [],
   "source": [
    "## Creating the training, validation, and test sets\n",
    "from sklearn.model_selection import train_test_split\n",
    "X_train, X, y_train, y = train_test_split(padded_sequence, data['Labels'].values, test_size=0.3, random_state=10)\n",
    "X_val, X_test, y_val, y_test = train_test_split(X, y, test_size=0.5, random_state=10)"
   ]
  },
  {
   "cell_type": "code",
   "execution_count": 26,
   "id": "3b506e9c",
   "metadata": {},
   "outputs": [
    {
     "name": "stdout",
     "output_type": "stream",
     "text": [
      "Percentage of training set:  70.0 %\n",
      "Percentage of validation set:  15.0 %\n",
      "Percentage of test set:  15.0 %\n"
     ]
    }
   ],
   "source": [
    "print(\"Percentage of training set: \", 100 * (len(X_train) / len(data)), '%')\n",
    "print(\"Percentage of validation set: \", 100 * (len(X_val) / len(data)), '%')\n",
    "print(\"Percentage of test set: \", 100 * (len(X_test) / len(data)), '%')"
   ]
  },
  {
   "cell_type": "code",
   "execution_count": 27,
   "id": "64372369",
   "metadata": {},
   "outputs": [],
   "source": [
    "y_train = y_train.astype('int32')\n",
    "y_test = y_test.astype('int32')"
   ]
  },
  {
   "cell_type": "code",
   "execution_count": 28,
   "id": "f28268bb",
   "metadata": {},
   "outputs": [],
   "source": [
    "data.to_csv('edited_data.csv', index = False)"
   ]
  },
  {
   "cell_type": "code",
   "execution_count": 29,
   "id": "42fa7eaa",
   "metadata": {},
   "outputs": [],
   "source": [
    "## https://www.geeksforgeeks.org/deep-learning-introduction-to-long-short-term-memory/\n",
    "## https://westerngovernorsuniversity-my.sharepoint.com/personal/william_sewell_wgu_edu/_layouts/15/onedrive.aspx?id=%2Fpersonal%2Fwilliam%5Fsewell%5Fwgu%5Fedu%2FDocuments%2FDocuments%2FD213%2FWebinars%2FD213%5FTask2%5FSentiment%5FAnalysis%5FAns%5FYelpOnly%2Ehtml&parent=%2Fpersonal%2Fwilliam%5Fsewell%5Fwgu%5Fedu%2FDocuments%2FDocuments%2FD213%2FWebinars&ga=1\n",
    "embed_size = 128\n",
    "model = Sequential()\n",
    "model.add(Embedding(input_dim = len(vocabulary) + 1, output_dim = embed_size))\n",
    "model.add(Bidirectional(LSTM(units=128, return_sequences=False)))\n",
    "model.add(Dropout(0.5))\n",
    "model.add(Dense(units=64, activation='relu'))\n",
    "model.add(Dense(units=1, activation='sigmoid'))\n",
    "model.compile(optimizer='adam', loss='binary_crossentropy', metrics=['accuracy'])"
   ]
  },
  {
   "cell_type": "code",
   "execution_count": 30,
   "id": "782f2b8a",
   "metadata": {},
   "outputs": [
    {
     "data": {
      "text/html": [
       "<pre style=\"white-space:pre;overflow-x:auto;line-height:normal;font-family:Menlo,'DejaVu Sans Mono',consolas,'Courier New',monospace\"><span style=\"font-weight: bold\">Model: \"sequential\"</span>\n",
       "</pre>\n"
      ],
      "text/plain": [
       "\u001b[1mModel: \"sequential\"\u001b[0m\n"
      ]
     },
     "metadata": {},
     "output_type": "display_data"
    },
    {
     "data": {
      "text/html": [
       "<pre style=\"white-space:pre;overflow-x:auto;line-height:normal;font-family:Menlo,'DejaVu Sans Mono',consolas,'Courier New',monospace\">┏━━━━━━━━━━━━━━━━━━━━━━━━━━━━━━━━━━━━━━┳━━━━━━━━━━━━━━━━━━━━━━━━━━━━━┳━━━━━━━━━━━━━━━━━┓\n",
       "┃<span style=\"font-weight: bold\"> Layer (type)                         </span>┃<span style=\"font-weight: bold\"> Output Shape                </span>┃<span style=\"font-weight: bold\">         Param # </span>┃\n",
       "┡━━━━━━━━━━━━━━━━━━━━━━━━━━━━━━━━━━━━━━╇━━━━━━━━━━━━━━━━━━━━━━━━━━━━━╇━━━━━━━━━━━━━━━━━┩\n",
       "│ embedding (<span style=\"color: #0087ff; text-decoration-color: #0087ff\">Embedding</span>)                │ (<span style=\"color: #00d7ff; text-decoration-color: #00d7ff\">None</span>, <span style=\"color: #00af00; text-decoration-color: #00af00\">114</span>, <span style=\"color: #00af00; text-decoration-color: #00af00\">128</span>)            │         <span style=\"color: #00af00; text-decoration-color: #00af00\">216,320</span> │\n",
       "├──────────────────────────────────────┼─────────────────────────────┼─────────────────┤\n",
       "│ bidirectional (<span style=\"color: #0087ff; text-decoration-color: #0087ff\">Bidirectional</span>)        │ (<span style=\"color: #00d7ff; text-decoration-color: #00d7ff\">None</span>, <span style=\"color: #00af00; text-decoration-color: #00af00\">256</span>)                 │         <span style=\"color: #00af00; text-decoration-color: #00af00\">263,168</span> │\n",
       "├──────────────────────────────────────┼─────────────────────────────┼─────────────────┤\n",
       "│ dropout (<span style=\"color: #0087ff; text-decoration-color: #0087ff\">Dropout</span>)                    │ (<span style=\"color: #00d7ff; text-decoration-color: #00d7ff\">None</span>, <span style=\"color: #00af00; text-decoration-color: #00af00\">256</span>)                 │               <span style=\"color: #00af00; text-decoration-color: #00af00\">0</span> │\n",
       "├──────────────────────────────────────┼─────────────────────────────┼─────────────────┤\n",
       "│ dense (<span style=\"color: #0087ff; text-decoration-color: #0087ff\">Dense</span>)                        │ (<span style=\"color: #00d7ff; text-decoration-color: #00d7ff\">None</span>, <span style=\"color: #00af00; text-decoration-color: #00af00\">64</span>)                  │          <span style=\"color: #00af00; text-decoration-color: #00af00\">16,448</span> │\n",
       "├──────────────────────────────────────┼─────────────────────────────┼─────────────────┤\n",
       "│ dense_1 (<span style=\"color: #0087ff; text-decoration-color: #0087ff\">Dense</span>)                      │ (<span style=\"color: #00d7ff; text-decoration-color: #00d7ff\">None</span>, <span style=\"color: #00af00; text-decoration-color: #00af00\">1</span>)                   │              <span style=\"color: #00af00; text-decoration-color: #00af00\">65</span> │\n",
       "└──────────────────────────────────────┴─────────────────────────────┴─────────────────┘\n",
       "</pre>\n"
      ],
      "text/plain": [
       "┏━━━━━━━━━━━━━━━━━━━━━━━━━━━━━━━━━━━━━━┳━━━━━━━━━━━━━━━━━━━━━━━━━━━━━┳━━━━━━━━━━━━━━━━━┓\n",
       "┃\u001b[1m \u001b[0m\u001b[1mLayer (type)                        \u001b[0m\u001b[1m \u001b[0m┃\u001b[1m \u001b[0m\u001b[1mOutput Shape               \u001b[0m\u001b[1m \u001b[0m┃\u001b[1m \u001b[0m\u001b[1m        Param #\u001b[0m\u001b[1m \u001b[0m┃\n",
       "┡━━━━━━━━━━━━━━━━━━━━━━━━━━━━━━━━━━━━━━╇━━━━━━━━━━━━━━━━━━━━━━━━━━━━━╇━━━━━━━━━━━━━━━━━┩\n",
       "│ embedding (\u001b[38;5;33mEmbedding\u001b[0m)                │ (\u001b[38;5;45mNone\u001b[0m, \u001b[38;5;34m114\u001b[0m, \u001b[38;5;34m128\u001b[0m)            │         \u001b[38;5;34m216,320\u001b[0m │\n",
       "├──────────────────────────────────────┼─────────────────────────────┼─────────────────┤\n",
       "│ bidirectional (\u001b[38;5;33mBidirectional\u001b[0m)        │ (\u001b[38;5;45mNone\u001b[0m, \u001b[38;5;34m256\u001b[0m)                 │         \u001b[38;5;34m263,168\u001b[0m │\n",
       "├──────────────────────────────────────┼─────────────────────────────┼─────────────────┤\n",
       "│ dropout (\u001b[38;5;33mDropout\u001b[0m)                    │ (\u001b[38;5;45mNone\u001b[0m, \u001b[38;5;34m256\u001b[0m)                 │               \u001b[38;5;34m0\u001b[0m │\n",
       "├──────────────────────────────────────┼─────────────────────────────┼─────────────────┤\n",
       "│ dense (\u001b[38;5;33mDense\u001b[0m)                        │ (\u001b[38;5;45mNone\u001b[0m, \u001b[38;5;34m64\u001b[0m)                  │          \u001b[38;5;34m16,448\u001b[0m │\n",
       "├──────────────────────────────────────┼─────────────────────────────┼─────────────────┤\n",
       "│ dense_1 (\u001b[38;5;33mDense\u001b[0m)                      │ (\u001b[38;5;45mNone\u001b[0m, \u001b[38;5;34m1\u001b[0m)                   │              \u001b[38;5;34m65\u001b[0m │\n",
       "└──────────────────────────────────────┴─────────────────────────────┴─────────────────┘\n"
      ]
     },
     "metadata": {},
     "output_type": "display_data"
    },
    {
     "data": {
      "text/html": [
       "<pre style=\"white-space:pre;overflow-x:auto;line-height:normal;font-family:Menlo,'DejaVu Sans Mono',consolas,'Courier New',monospace\"><span style=\"font-weight: bold\"> Total params: </span><span style=\"color: #00af00; text-decoration-color: #00af00\">496,001</span> (1.89 MB)\n",
       "</pre>\n"
      ],
      "text/plain": [
       "\u001b[1m Total params: \u001b[0m\u001b[38;5;34m496,001\u001b[0m (1.89 MB)\n"
      ]
     },
     "metadata": {},
     "output_type": "display_data"
    },
    {
     "data": {
      "text/html": [
       "<pre style=\"white-space:pre;overflow-x:auto;line-height:normal;font-family:Menlo,'DejaVu Sans Mono',consolas,'Courier New',monospace\"><span style=\"font-weight: bold\"> Trainable params: </span><span style=\"color: #00af00; text-decoration-color: #00af00\">496,001</span> (1.89 MB)\n",
       "</pre>\n"
      ],
      "text/plain": [
       "\u001b[1m Trainable params: \u001b[0m\u001b[38;5;34m496,001\u001b[0m (1.89 MB)\n"
      ]
     },
     "metadata": {},
     "output_type": "display_data"
    },
    {
     "data": {
      "text/html": [
       "<pre style=\"white-space:pre;overflow-x:auto;line-height:normal;font-family:Menlo,'DejaVu Sans Mono',consolas,'Courier New',monospace\"><span style=\"font-weight: bold\"> Non-trainable params: </span><span style=\"color: #00af00; text-decoration-color: #00af00\">0</span> (0.00 B)\n",
       "</pre>\n"
      ],
      "text/plain": [
       "\u001b[1m Non-trainable params: \u001b[0m\u001b[38;5;34m0\u001b[0m (0.00 B)\n"
      ]
     },
     "metadata": {},
     "output_type": "display_data"
    }
   ],
   "source": [
    "model.build(input_shape = (None, max_length))\n",
    "model.summary()"
   ]
  },
  {
   "cell_type": "code",
   "execution_count": 31,
   "id": "661a367e",
   "metadata": {},
   "outputs": [
    {
     "name": "stdout",
     "output_type": "stream",
     "text": [
      "Epoch 1/20\n",
      "\u001b[1m11/11\u001b[0m \u001b[32m━━━━━━━━━━━━━━━━━━━━\u001b[0m\u001b[37m\u001b[0m \u001b[1m14s\u001b[0m 522ms/step - accuracy: 0.5128 - loss: 0.6932 - val_accuracy: 0.5533 - val_loss: 0.6900\n",
      "Epoch 2/20\n",
      "\u001b[1m11/11\u001b[0m \u001b[32m━━━━━━━━━━━━━━━━━━━━\u001b[0m\u001b[37m\u001b[0m \u001b[1m9s\u001b[0m 378ms/step - accuracy: 0.5401 - loss: 0.6874 - val_accuracy: 0.4467 - val_loss: 0.6936\n",
      "Epoch 3/20\n",
      "\u001b[1m11/11\u001b[0m \u001b[32m━━━━━━━━━━━━━━━━━━━━\u001b[0m\u001b[37m\u001b[0m \u001b[1m5s\u001b[0m 404ms/step - accuracy: 0.6540 - loss: 0.6703 - val_accuracy: 0.4800 - val_loss: 0.6747\n",
      "Epoch 4/20\n",
      "\u001b[1m11/11\u001b[0m \u001b[32m━━━━━━━━━━━━━━━━━━━━\u001b[0m\u001b[37m\u001b[0m \u001b[1m4s\u001b[0m 380ms/step - accuracy: 0.7706 - loss: 0.5732 - val_accuracy: 0.6867 - val_loss: 0.5975\n",
      "Epoch 5/20\n",
      "\u001b[1m11/11\u001b[0m \u001b[32m━━━━━━━━━━━━━━━━━━━━\u001b[0m\u001b[37m\u001b[0m \u001b[1m5s\u001b[0m 391ms/step - accuracy: 0.9050 - loss: 0.3316 - val_accuracy: 0.7133 - val_loss: 0.5661\n",
      "Epoch 6/20\n",
      "\u001b[1m11/11\u001b[0m \u001b[32m━━━━━━━━━━━━━━━━━━━━\u001b[0m\u001b[37m\u001b[0m \u001b[1m5s\u001b[0m 331ms/step - accuracy: 0.7947 - loss: 0.4151 - val_accuracy: 0.6867 - val_loss: 0.6314\n",
      "Epoch 7/20\n",
      "\u001b[1m11/11\u001b[0m \u001b[32m━━━━━━━━━━━━━━━━━━━━\u001b[0m\u001b[37m\u001b[0m \u001b[1m4s\u001b[0m 364ms/step - accuracy: 0.8766 - loss: 0.3030 - val_accuracy: 0.7200 - val_loss: 0.5549\n",
      "Epoch 8/20\n",
      "\u001b[1m11/11\u001b[0m \u001b[32m━━━━━━━━━━━━━━━━━━━━\u001b[0m\u001b[37m\u001b[0m \u001b[1m4s\u001b[0m 381ms/step - accuracy: 0.9268 - loss: 0.1886 - val_accuracy: 0.7333 - val_loss: 0.6162\n",
      "Epoch 9/20\n",
      "\u001b[1m11/11\u001b[0m \u001b[32m━━━━━━━━━━━━━━━━━━━━\u001b[0m\u001b[37m\u001b[0m \u001b[1m4s\u001b[0m 385ms/step - accuracy: 0.9543 - loss: 0.1244 - val_accuracy: 0.7600 - val_loss: 0.5571\n",
      "Epoch 10/20\n",
      "\u001b[1m11/11\u001b[0m \u001b[32m━━━━━━━━━━━━━━━━━━━━\u001b[0m\u001b[37m\u001b[0m \u001b[1m5s\u001b[0m 412ms/step - accuracy: 0.9727 - loss: 0.0866 - val_accuracy: 0.7600 - val_loss: 0.6007\n"
     ]
    }
   ],
   "source": [
    "early_stopping_monitor = EarlyStopping(patience=3)\n",
    "history = model.fit(X_train,y_train, epochs=20, batch_size=64, validation_data=(X_val,y_val), callbacks = [early_stopping_monitor])"
   ]
  },
  {
   "cell_type": "code",
   "execution_count": 32,
   "id": "4d4da75d",
   "metadata": {},
   "outputs": [
    {
     "data": {
      "image/png": "[encoded data removed]",
      "text/plain": [
       "<Figure size 640x480 with 1 Axes>"
      ]
     },
     "metadata": {},
     "output_type": "display_data"
    },
    {
     "data": {
      "image/png": "[encoded data removed]",
      "text/plain": [
       "<Figure size 640x480 with 1 Axes>"
      ]
     },
     "metadata": {},
     "output_type": "display_data"
    }
   ],
   "source": [
    "## Plotting the loss in the training set compared to the loss in the validation set\n",
    "\n",
    "plt.plot(history.history['loss'], label='Loss in Training Set')\n",
    "plt.plot(history.history['val_loss'], label='Loss in Validation Set')\n",
    "plt.legend()\n",
    "plt.title(\"Training vs Validation Loss\")\n",
    "plt.xlabel(\"Epochs\")\n",
    "plt.ylabel(\"Loss\")\n",
    "plt.grid()\n",
    "plt.show()\n",
    "\n",
    "plt.plot(history.history['accuracy'], label='Accuracy in Training Set')\n",
    "plt.plot(history.history['val_accuracy'], label='Accuracy in Validation Set')\n",
    "plt.legend()\n",
    "plt.title(\"Training vs Validation Accuracy\")\n",
    "plt.xlabel(\"Epochs\")\n",
    "plt.ylabel(\"Loss\")\n",
    "plt.grid()\n",
    "plt.show()"
   ]
  },
  {
   "cell_type": "code",
   "execution_count": 33,
   "id": "60295435",
   "metadata": {},
   "outputs": [
    {
     "name": "stdout",
     "output_type": "stream",
     "text": [
      "\u001b[1m5/5\u001b[0m \u001b[32m━━━━━━━━━━━━━━━━━━━━\u001b[0m\u001b[37m\u001b[0m \u001b[1m2s\u001b[0m 90ms/step - accuracy: 0.7973 - loss: 0.5274\n",
      "Test Accuracy: 0.7733333110809326\n"
     ]
    }
   ],
   "source": [
    "test_loss, test_acc = model.evaluate(X_test, y_test)\n",
    "print(f\"Test Accuracy: {test_acc}\")"
   ]
  },
  {
   "cell_type": "code",
   "execution_count": 34,
   "id": "2ef5307d",
   "metadata": {},
   "outputs": [
    {
     "name": "stdout",
     "output_type": "stream",
     "text": [
      "\u001b[1m5/5\u001b[0m \u001b[32m━━━━━━━━━━━━━━━━━━━━\u001b[0m\u001b[37m\u001b[0m \u001b[1m2s\u001b[0m 253ms/step\n"
     ]
    },
    {
     "data": {
      "image/png": "[encoded data removed]",
      "text/plain": [
       "<Figure size 640x480 with 2 Axes>"
      ]
     },
     "metadata": {},
     "output_type": "display_data"
    },
    {
     "name": "stdout",
     "output_type": "stream",
     "text": [
      "              precision    recall  f1-score   support\n",
      "\n",
      "           0       0.74      0.78      0.76        69\n",
      "           1       0.81      0.77      0.78        81\n",
      "\n",
      "    accuracy                           0.77       150\n",
      "   macro avg       0.77      0.77      0.77       150\n",
      "weighted avg       0.78      0.77      0.77       150\n",
      "\n"
     ]
    }
   ],
   "source": [
    "## Accuracy tests\n",
    "y_pred = (model.predict(X_test) >= 0.5).astype(int)\n",
    "\n",
    "## Building the confusion matrix\n",
    "cnf_matrix = metrics.confusion_matrix(y_test, y_pred)\n",
    "disp = ConfusionMatrixDisplay(cnf_matrix)\n",
    "disp.plot()\n",
    "plt.title(\"Confusion Matrix\")\n",
    "plt.show()\n",
    "print(classification_report(y_test, y_pred))"
   ]
  },
  {
   "cell_type": "code",
   "execution_count": 35,
   "id": "8c5ae91f",
   "metadata": {},
   "outputs": [],
   "source": [
    "model.save(\"Trained_Model.keras\")"
   ]
  }
 ],
 "metadata": {
  "kernelspec": {
   "display_name": "Python 3 (ipykernel)",
   "language": "python",
   "name": "python3"
  },
  "language_info": {
   "codemirror_mode": {
    "name": "ipython",
    "version": 3
   },
   "file_extension": ".py",
   "mimetype": "text/x-python",
   "name": "python",
   "nbconvert_exporter": "python",
   "pygments_lexer": "ipython3",
   "version": "3.11.5"
  }
 },
 "nbformat": 4,
 "nbformat_minor": 5
}
