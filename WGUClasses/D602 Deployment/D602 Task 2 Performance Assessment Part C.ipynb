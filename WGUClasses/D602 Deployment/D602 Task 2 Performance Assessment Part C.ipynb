{
 "cells": [
  {
   "cell_type": "code",
   "execution_count": null,
   "id": "8eacade6",
   "metadata": {},
   "outputs": [],
   "source": [
    "## https://www.geeksforgeeks.org/change-data-type-for-one-or-more-columns-in-pandas-dataframe/\n",
    "\n",
    "# Define the conversion dictionary\n",
    "convert_dict = {'DEPARTURE_TIME': int, 'DEPARTURE_DELAY': int,'ARRIVAL_TIME': int,'ARRIVAL_DELAY': int}\n",
    "\n",
    "# Convert columns using the dictionary\n",
    "cleaned_data = cleaned_data.astype(convert_dict)\n",
    "\n",
    "print(cleaned_data.dtypes)"
   ]
  }
 ],
 "metadata": {
  "kernelspec": {
   "display_name": "Python 3 (ipykernel)",
   "language": "python",
   "name": "python3"
  },
  "language_info": {
   "codemirror_mode": {
    "name": "ipython",
    "version": 3
   },
   "file_extension": ".py",
   "mimetype": "text/x-python",
   "name": "python",
   "nbconvert_exporter": "python",
   "pygments_lexer": "ipython3",
   "version": "3.11.4"
  }
 },
 "nbformat": 4,
 "nbformat_minor": 5
}
