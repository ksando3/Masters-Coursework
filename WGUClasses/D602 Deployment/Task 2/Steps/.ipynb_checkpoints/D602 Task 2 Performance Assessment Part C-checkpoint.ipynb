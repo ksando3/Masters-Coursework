{
 "cells": [
  {
   "cell_type": "code",
   "execution_count": 1,
   "id": "176bfeab",
   "metadata": {},
   "outputs": [],
   "source": [
    "import pandas as pd\n",
    "import matplotlib.pyplot as plt\n",
    "import seaborn\n",
    "import logging\n",
    "import numpy as np\n",
    "import datetime"
   ]
  },
  {
   "cell_type": "code",
   "execution_count": 2,
   "id": "480d518e",
   "metadata": {},
   "outputs": [],
   "source": [
    "imported_data = pd.read_csv(\"C:/Users/cfman/OneDrive/Desktop/WGUClasses/D602 Deployment/Task 2/Data/imported_data.csv\")"
   ]
  },
  {
   "cell_type": "code",
   "execution_count": 3,
   "id": "68d1091b",
   "metadata": {},
   "outputs": [],
   "source": [
    "# configure logger\n",
    "logname = \"exported_data.txt\"\n",
    "logging.basicConfig(filename=logname,\n",
    "                    filemode='w',\n",
    "                    format='%(asctime)s %(levelname)s %(message)s',\n",
    "                    datefmt='%H:%M:%S',\n",
    "                    level=logging.DEBUG)\n",
    "logging.getLogger('matplotlib.font_manager').disabled = True\n",
    "logging.info(\"Exporting Cleaned Data to CSV Log\")"
   ]
  },
  {
   "cell_type": "code",
   "execution_count": 4,
   "id": "5fcda007",
   "metadata": {},
   "outputs": [],
   "source": [
    "#imported_data.head()"
   ]
  },
  {
   "cell_type": "markdown",
   "id": "1d097a27",
   "metadata": {},
   "source": [
    "Creating a new dataframe that only looks at the departures from my chosen airport, LAX."
   ]
  },
  {
   "cell_type": "code",
   "execution_count": 5,
   "id": "09d234a5",
   "metadata": {},
   "outputs": [],
   "source": [
    "cleaned_data = imported_data[imported_data['ORG_AIRPORT'] == \"LAX\"]\n",
    "logging.info(\"Filtering to LAX successful.\")\n",
    "#cleaned_data.head()"
   ]
  },
  {
   "cell_type": "code",
   "execution_count": 6,
   "id": "433fe573",
   "metadata": {},
   "outputs": [],
   "source": [
    "cleaned_data = cleaned_data.reset_index(drop=True)"
   ]
  },
  {
   "cell_type": "code",
   "execution_count": 7,
   "id": "151f5584",
   "metadata": {},
   "outputs": [
    {
     "data": {
      "text/html": [
       "<div>\n",
       "<style scoped>\n",
       "    .dataframe tbody tr th:only-of-type {\n",
       "        vertical-align: middle;\n",
       "    }\n",
       "\n",
       "    .dataframe tbody tr th {\n",
       "        vertical-align: top;\n",
       "    }\n",
       "\n",
       "    .dataframe thead th {\n",
       "        text-align: right;\n",
       "    }\n",
       "</style>\n",
       "<table border=\"1\" class=\"dataframe\">\n",
       "  <thead>\n",
       "    <tr style=\"text-align: right;\">\n",
       "      <th></th>\n",
       "      <th>YEAR</th>\n",
       "      <th>MONTH</th>\n",
       "      <th>DAY</th>\n",
       "      <th>DAY_OF_WEEK</th>\n",
       "      <th>ORG_AIRPORT</th>\n",
       "      <th>DEST_AIRPORT</th>\n",
       "      <th>SCHEDULED_DEPARTURE</th>\n",
       "      <th>DEPARTURE_TIME</th>\n",
       "      <th>DEPARTURE_DELAY</th>\n",
       "      <th>SCHEDULED_ARRIVAL</th>\n",
       "      <th>ARRIVAL_TIME</th>\n",
       "      <th>ARRIVAL_DELAY</th>\n",
       "    </tr>\n",
       "  </thead>\n",
       "  <tbody>\n",
       "    <tr>\n",
       "      <th>0</th>\n",
       "      <td>2024</td>\n",
       "      <td>6</td>\n",
       "      <td>1</td>\n",
       "      <td>6</td>\n",
       "      <td>LAX</td>\n",
       "      <td>ABQ</td>\n",
       "      <td>808</td>\n",
       "      <td>757.0</td>\n",
       "      <td>-11.0</td>\n",
       "      <td>1103</td>\n",
       "      <td>1104.0</td>\n",
       "      <td>1.0</td>\n",
       "    </tr>\n",
       "    <tr>\n",
       "      <th>1</th>\n",
       "      <td>2024</td>\n",
       "      <td>6</td>\n",
       "      <td>1</td>\n",
       "      <td>6</td>\n",
       "      <td>LAX</td>\n",
       "      <td>ABQ</td>\n",
       "      <td>920</td>\n",
       "      <td>914.0</td>\n",
       "      <td>-6.0</td>\n",
       "      <td>1217</td>\n",
       "      <td>1208.0</td>\n",
       "      <td>-9.0</td>\n",
       "    </tr>\n",
       "    <tr>\n",
       "      <th>2</th>\n",
       "      <td>2024</td>\n",
       "      <td>6</td>\n",
       "      <td>1</td>\n",
       "      <td>6</td>\n",
       "      <td>LAX</td>\n",
       "      <td>ABQ</td>\n",
       "      <td>1439</td>\n",
       "      <td>1436.0</td>\n",
       "      <td>-3.0</td>\n",
       "      <td>1734</td>\n",
       "      <td>1730.0</td>\n",
       "      <td>-4.0</td>\n",
       "    </tr>\n",
       "    <tr>\n",
       "      <th>3</th>\n",
       "      <td>2024</td>\n",
       "      <td>6</td>\n",
       "      <td>1</td>\n",
       "      <td>6</td>\n",
       "      <td>LAX</td>\n",
       "      <td>ABQ</td>\n",
       "      <td>1956</td>\n",
       "      <td>1947.0</td>\n",
       "      <td>-9.0</td>\n",
       "      <td>2250</td>\n",
       "      <td>2236.0</td>\n",
       "      <td>-14.0</td>\n",
       "    </tr>\n",
       "    <tr>\n",
       "      <th>4</th>\n",
       "      <td>2024</td>\n",
       "      <td>6</td>\n",
       "      <td>1</td>\n",
       "      <td>6</td>\n",
       "      <td>LAX</td>\n",
       "      <td>ABQ</td>\n",
       "      <td>1959</td>\n",
       "      <td>1955.0</td>\n",
       "      <td>-4.0</td>\n",
       "      <td>2254</td>\n",
       "      <td>2245.0</td>\n",
       "      <td>-9.0</td>\n",
       "    </tr>\n",
       "  </tbody>\n",
       "</table>\n",
       "</div>"
      ],
      "text/plain": [
       "   YEAR  MONTH  DAY  DAY_OF_WEEK ORG_AIRPORT DEST_AIRPORT  \\\n",
       "0  2024      6    1            6         LAX          ABQ   \n",
       "1  2024      6    1            6         LAX          ABQ   \n",
       "2  2024      6    1            6         LAX          ABQ   \n",
       "3  2024      6    1            6         LAX          ABQ   \n",
       "4  2024      6    1            6         LAX          ABQ   \n",
       "\n",
       "   SCHEDULED_DEPARTURE  DEPARTURE_TIME  DEPARTURE_DELAY  SCHEDULED_ARRIVAL  \\\n",
       "0                  808           757.0            -11.0               1103   \n",
       "1                  920           914.0             -6.0               1217   \n",
       "2                 1439          1436.0             -3.0               1734   \n",
       "3                 1956          1947.0             -9.0               2250   \n",
       "4                 1959          1955.0             -4.0               2254   \n",
       "\n",
       "   ARRIVAL_TIME  ARRIVAL_DELAY  \n",
       "0        1104.0            1.0  \n",
       "1        1208.0           -9.0  \n",
       "2        1730.0           -4.0  \n",
       "3        2236.0          -14.0  \n",
       "4        2245.0           -9.0  "
      ]
     },
     "execution_count": 7,
     "metadata": {},
     "output_type": "execute_result"
    }
   ],
   "source": [
    "cleaned_data.head()"
   ]
  },
  {
   "cell_type": "markdown",
   "id": "62f1d7d4",
   "metadata": {},
   "source": [
    "Going to check for any duplicated occurrences as part of the data cleaning."
   ]
  },
  {
   "cell_type": "code",
   "execution_count": 8,
   "id": "3f2551d1",
   "metadata": {},
   "outputs": [
    {
     "name": "stdout",
     "output_type": "stream",
     "text": [
      "(16676, 12)\n"
     ]
    },
    {
     "data": {
      "text/plain": [
       "False    16676\n",
       "dtype: int64"
      ]
     },
     "execution_count": 8,
     "metadata": {},
     "output_type": "execute_result"
    }
   ],
   "source": [
    "print(cleaned_data.shape)\n",
    "\n",
    "\n",
    "duplicates = cleaned_data.duplicated(keep = False)\n",
    "duplicates.value_counts()"
   ]
  },
  {
   "cell_type": "markdown",
   "id": "56058eea",
   "metadata": {},
   "source": [
    "No duplicated values are found, so we can now move on to checking for missing values."
   ]
  },
  {
   "cell_type": "code",
   "execution_count": 9,
   "id": "bee3c9c7",
   "metadata": {},
   "outputs": [
    {
     "data": {
      "text/plain": [
       "YEAR                     0\n",
       "MONTH                    0\n",
       "DAY                      0\n",
       "DAY_OF_WEEK              0\n",
       "ORG_AIRPORT              0\n",
       "DEST_AIRPORT             0\n",
       "SCHEDULED_DEPARTURE      0\n",
       "DEPARTURE_TIME          96\n",
       "DEPARTURE_DELAY         96\n",
       "SCHEDULED_ARRIVAL        0\n",
       "ARRIVAL_TIME           108\n",
       "ARRIVAL_DELAY          169\n",
       "dtype: int64"
      ]
     },
     "execution_count": 9,
     "metadata": {},
     "output_type": "execute_result"
    }
   ],
   "source": [
    "cleaned_data.isna().sum()"
   ]
  },
  {
   "cell_type": "markdown",
   "id": "a5faf4cf",
   "metadata": {},
   "source": [
    "It is worth noting that DEPARTURE_TIME and ARRIVAL_TIME are listed as integers but actually represent a real life time. Thus no integer will have the 10s place be greater than 5. If we were to just subtract the scheduled departure time and actual departure time through python, we would obtain an incorrect result of the difference. Similiarly with the scheduled arrival and actual arrival. Because of this, it is not appropriate to look at the distributions for those variables. The xx_DELAY variables account for the correct difference in time."
   ]
  },
  {
   "cell_type": "markdown",
   "id": "f6791a7b",
   "metadata": {},
   "source": [
    "I will choose to REMOVE the NA values in both DEPARTURE_TIME and ARRIVAL_TIME and then recheck to see if there are still missing values."
   ]
  },
  {
   "cell_type": "code",
   "execution_count": 10,
   "id": "123de945",
   "metadata": {},
   "outputs": [],
   "source": [
    "cleaned_data = cleaned_data.dropna(subset=['DEPARTURE_TIME', 'ARRIVAL_TIME'])\n",
    "logging.info(\"Dropping NA values from Departure_Time and Arrival_Time successful.\")"
   ]
  },
  {
   "cell_type": "code",
   "execution_count": 11,
   "id": "e3f192df",
   "metadata": {},
   "outputs": [
    {
     "data": {
      "text/plain": [
       "YEAR                    0\n",
       "MONTH                   0\n",
       "DAY                     0\n",
       "DAY_OF_WEEK             0\n",
       "ORG_AIRPORT             0\n",
       "DEST_AIRPORT            0\n",
       "SCHEDULED_DEPARTURE     0\n",
       "DEPARTURE_TIME          0\n",
       "DEPARTURE_DELAY         0\n",
       "SCHEDULED_ARRIVAL       0\n",
       "ARRIVAL_TIME            0\n",
       "ARRIVAL_DELAY          61\n",
       "dtype: int64"
      ]
     },
     "execution_count": 11,
     "metadata": {},
     "output_type": "execute_result"
    }
   ],
   "source": [
    "cleaned_data.isna().sum()"
   ]
  },
  {
   "cell_type": "markdown",
   "id": "8b5bcc16",
   "metadata": {},
   "source": [
    "I will convert the float columns without missing values to integers now."
   ]
  },
  {
   "cell_type": "code",
   "execution_count": 12,
   "id": "70c2080e",
   "metadata": {},
   "outputs": [],
   "source": [
    "cleaned_data = cleaned_data.astype({\"DEPARTURE_TIME\": 'int', \"DEPARTURE_DELAY\": 'int', \"ARRIVAL_TIME\": 'int'})\n",
    "logging.info(\"Changing float columns without missing values to ints successful.\")"
   ]
  },
  {
   "cell_type": "code",
   "execution_count": 13,
   "id": "bebe124e",
   "metadata": {},
   "outputs": [],
   "source": [
    "missing_Arrival = cleaned_data[cleaned_data[\"ARRIVAL_DELAY\"].isnull()]"
   ]
  },
  {
   "cell_type": "code",
   "execution_count": 14,
   "id": "8a60398f",
   "metadata": {},
   "outputs": [
    {
     "name": "stdout",
     "output_type": "stream",
     "text": [
      "[139.0, 823.0, 294.0, 85.0, 1019.0, 584.0, 253.0, 522.0, 143.0, 339.0, 234.0, 895.0, 300.0, 1063.0, 140.0, 82.0, 447.0, 213.0, 127.0, 284.0, 276.0, 124.0, 476.0, 146.0, 157.0, 219.0, 222.0, 924.0, 133.0, 127.0, 266.0, 897.0, 1.0, 219.0, 239.0, 80.0, 1211.0, 169.0, -57.0, 234.0, 365.0, 765.0, -52.0, 935.0, 803.0, -24.0, 1199.0, 250.0, 103.0, 152.0, 249.0, 142.0, 179.0, 513.0, 158.0, 121.0, 290.0, 270.0, 416.0, 1.0, -31.0]\n"
     ]
    }
   ],
   "source": [
    "indices = missing_Arrival.index.tolist()\n",
    "scheduled = list(missing_Arrival[\"SCHEDULED_ARRIVAL\"])\n",
    "scheduled = [str(x) for x in scheduled]\n",
    "\n",
    "for i in range(0,len(scheduled)):\n",
    "    if len(scheduled[i]) < 3:\n",
    "        scheduled[i] = '00' + scheduled[i]\n",
    "#print(scheduled)\n",
    "\n",
    "scheduled_edited = []\n",
    "\n",
    "for t in scheduled:\n",
    "    scheduled_edited.append(datetime.datetime.strptime(t,'%H%M').strftime('%H:%M'))\n",
    "scheduled_edited = [str(x) for x in scheduled_edited]\n",
    "#print (scheduled_edited)\n",
    "\n",
    "arrival = list(missing_Arrival[\"ARRIVAL_TIME\"])\n",
    "arrival = [str(x) for x in arrival]\n",
    "\n",
    "for i in range(0,len(arrival)):\n",
    "    if len(arrival[i]) < 3:\n",
    "        arrival[i] = '00' + arrival[i]\n",
    "#print(arrival)\n",
    "\n",
    "arrival_edited = []\n",
    "\n",
    "for t in arrival:\n",
    "    arrival_edited.append(datetime.datetime.strptime(t,'%H%M').strftime('%H:%M'))\n",
    "arrival_edited = [str(x) for x in arrival_edited]\n",
    "#print (arrival_edited)\n",
    "\n",
    "\n",
    "time_difference = []\n",
    "for i in range(0, len(arrival)):\n",
    "    # convert time string to datetime\n",
    "    scheduled_edited[i] = datetime.datetime.strptime(scheduled_edited[i], \"%H:%M\")\n",
    "    #print('Start time:', scheduled_edited.time())\n",
    "\n",
    "    arrival_edited[i] = datetime.datetime.strptime(arrival_edited[i], \"%H:%M\")\n",
    "    #print('End time:', arrival_edited.time())\n",
    "\n",
    "    # get difference\n",
    "    delta = arrival_edited[i] - scheduled_edited[i]\n",
    "\n",
    "    # time difference in seconds\n",
    "    #print(f\"Time difference is {delta.total_seconds()} seconds\") \n",
    "   \n",
    "    # time difference in minutes\n",
    "    mins = delta.total_seconds() / 60\n",
    "    \n",
    "    # In some instances the scheudled arrival is say 14:04 but they arrived at 3:47. This should be a delay of about 13.5 hours,\n",
    "    # but the current value shows the flight arrived about 10.5 hours early. Clearly that is unreasonable and would never happen\n",
    "    # so I'm going to reverse the calculation if the delta suggests the flight is early by more than 2 hours  \n",
    "    \n",
    "    if mins < -120.0:\n",
    "        mins = 1440 + mins\n",
    "    time_difference.append(mins)\n",
    "    x = indices[i]\n",
    "    logging.info(\"Calculated Arrival_Delay for index %s \", x)\n",
    "\n",
    "print(time_difference)"
   ]
  },
  {
   "cell_type": "code",
   "execution_count": 15,
   "id": "09f86d26",
   "metadata": {},
   "outputs": [
    {
     "data": {
      "image/png": "[encoded data removed]",
      "text/plain": [
       "<Figure size 640x480 with 1 Axes>"
      ]
     },
     "metadata": {},
     "output_type": "display_data"
    },
    {
     "name": "stdout",
     "output_type": "stream",
     "text": [
      "count    16507.000000\n",
      "mean         9.169807\n",
      "std         50.613090\n",
      "min        -54.000000\n",
      "25%        -13.000000\n",
      "50%         -3.000000\n",
      "75%         13.000000\n",
      "max       1628.000000\n",
      "Name: ARRIVAL_DELAY, dtype: float64\n",
      "Median:  -3.0\n"
     ]
    }
   ],
   "source": [
    "# [In text citation: Dr. Middleton, K (n.d) Getting Started with D206 Data Types, Distributions, and Univariate Imputation]\n",
    "plt.hist(cleaned_data[\"ARRIVAL_DELAY\"])\n",
    "plt.show()\n",
    "\n",
    "# Check the statistics of the data before editing\n",
    "print(cleaned_data[\"ARRIVAL_DELAY\"].describe())\n",
    "print(\"Median: \", cleaned_data[\"ARRIVAL_DELAY\"].median())"
   ]
  },
  {
   "cell_type": "markdown",
   "id": "14e5fa0e",
   "metadata": {},
   "source": [
    "Going to replace the missing values with the proper calculated arrival delays."
   ]
  },
  {
   "cell_type": "code",
   "execution_count": 16,
   "id": "e33b6464",
   "metadata": {
    "scrolled": false
   },
   "outputs": [
    {
     "name": "stdout",
     "output_type": "stream",
     "text": [
      "count    16568.000000\n",
      "mean        10.394676\n",
      "std         57.815862\n",
      "min        -57.000000\n",
      "25%        -13.000000\n",
      "50%         -3.000000\n",
      "75%         14.000000\n",
      "max       1628.000000\n",
      "Name: ARRIVAL_DELAY, dtype: float64\n",
      "Median:  -3.0\n",
      "0\n"
     ]
    },
    {
     "data": {
      "image/png": "[encoded data removed]",
      "text/plain": [
       "<Figure size 640x480 with 1 Axes>"
      ]
     },
     "metadata": {},
     "output_type": "display_data"
    }
   ],
   "source": [
    "# [In text citation: Dr. Middleton, K (n.d) Getting Started with D206 Data Types, Distributions, and Univariate Imputation]\n",
    "cleaned_data.loc[cleaned_data['ARRIVAL_DELAY'].isna(), 'ARRIVAL_DELAY'] = time_difference\n",
    "logging.info(\"Calculated Arrival Delay times imputed successfully.\")\n",
    "# Check the statistics of the data after editing\n",
    "print(cleaned_data[\"ARRIVAL_DELAY\"].describe())\n",
    "print(\"Median: \", cleaned_data[\"ARRIVAL_DELAY\"].median())\n",
    "\n",
    "print(cleaned_data[\"ARRIVAL_DELAY\"].isna().sum())\n",
    "\n",
    "plt.hist(cleaned_data[\"ARRIVAL_DELAY\"])\n",
    "plt.show()\n"
   ]
  },
  {
   "cell_type": "code",
   "execution_count": 17,
   "id": "4dc38777",
   "metadata": {},
   "outputs": [
    {
     "data": {
      "text/plain": [
       "YEAR                   0\n",
       "MONTH                  0\n",
       "DAY                    0\n",
       "DAY_OF_WEEK            0\n",
       "ORG_AIRPORT            0\n",
       "DEST_AIRPORT           0\n",
       "SCHEDULED_DEPARTURE    0\n",
       "DEPARTURE_TIME         0\n",
       "DEPARTURE_DELAY        0\n",
       "SCHEDULED_ARRIVAL      0\n",
       "ARRIVAL_TIME           0\n",
       "ARRIVAL_DELAY          0\n",
       "dtype: int64"
      ]
     },
     "execution_count": 17,
     "metadata": {},
     "output_type": "execute_result"
    }
   ],
   "source": [
    "cleaned_data.isna().sum()"
   ]
  },
  {
   "cell_type": "markdown",
   "id": "84f16c3b",
   "metadata": {},
   "source": [
    "As another data cleaning check, I will check the departure and arrival delays for any outliers"
   ]
  },
  {
   "cell_type": "code",
   "execution_count": 18,
   "id": "015c3b79",
   "metadata": {},
   "outputs": [
    {
     "data": {
      "image/png": "[encoded data removed]",
      "text/plain": [
       "<Figure size 640x480 with 1 Axes>"
      ]
     },
     "metadata": {},
     "output_type": "display_data"
    }
   ],
   "source": [
    "boxplot_population = seaborn.boxplot(x = \"DEPARTURE_DELAY\", data = cleaned_data)"
   ]
  },
  {
   "cell_type": "code",
   "execution_count": 19,
   "id": "6a12798c",
   "metadata": {},
   "outputs": [
    {
     "data": {
      "text/plain": [
       "count    16568.000000\n",
       "mean        13.168095\n",
       "std         48.660365\n",
       "min        -20.000000\n",
       "25%         -5.000000\n",
       "50%         -1.000000\n",
       "75%         11.000000\n",
       "max       1615.000000\n",
       "Name: DEPARTURE_DELAY, dtype: float64"
      ]
     },
     "execution_count": 19,
     "metadata": {},
     "output_type": "execute_result"
    }
   ],
   "source": [
    "cleaned_data['DEPARTURE_DELAY'].describe()"
   ]
  },
  {
   "cell_type": "code",
   "execution_count": 20,
   "id": "a6f7f195",
   "metadata": {},
   "outputs": [
    {
     "data": {
      "text/plain": [
       "YEAR                   42\n",
       "MONTH                  42\n",
       "DAY                    42\n",
       "DAY_OF_WEEK            42\n",
       "ORG_AIRPORT            42\n",
       "DEST_AIRPORT           42\n",
       "SCHEDULED_DEPARTURE    42\n",
       "DEPARTURE_TIME         42\n",
       "DEPARTURE_DELAY        42\n",
       "SCHEDULED_ARRIVAL      42\n",
       "ARRIVAL_TIME           42\n",
       "ARRIVAL_DELAY          42\n",
       "dtype: int64"
      ]
     },
     "execution_count": 20,
     "metadata": {},
     "output_type": "execute_result"
    }
   ],
   "source": [
    "cleaned_data[cleaned_data[\"DEPARTURE_DELAY\"] > 400].count()"
   ]
  },
  {
   "cell_type": "markdown",
   "id": "98ac9ee0",
   "metadata": {},
   "source": [
    "It appears that the largest outliers are past 400 so I will exclude them"
   ]
  },
  {
   "cell_type": "code",
   "execution_count": 21,
   "id": "2a3a5483",
   "metadata": {},
   "outputs": [
    {
     "data": {
      "image/png": "[encoded data removed]",
      "text/plain": [
       "<Figure size 640x480 with 1 Axes>"
      ]
     },
     "metadata": {},
     "output_type": "display_data"
    }
   ],
   "source": [
    "## Removing the  instances outlier and rechecking the plot\n",
    "DEPARTURE_DELAY_outliers = cleaned_data[ (cleaned_data[\"DEPARTURE_DELAY\"] > 400)]\n",
    "#Income_outliers.info()\n",
    "\n",
    "cleaned_data.drop(cleaned_data[ (cleaned_data[\"DEPARTURE_DELAY\"] > 400)].index, inplace = True )\n",
    "DEPARTURE_DELAY_outliers = seaborn.boxplot(x = \"DEPARTURE_DELAY\", data = cleaned_data)\n",
    "logging.info(\"Outliers dropped successfully.\")"
   ]
  },
  {
   "cell_type": "markdown",
   "id": "7f22ba45",
   "metadata": {},
   "source": [
    "I am going to retain the rest of these outliers as I think any more outlier removal could result in signficant data loss. "
   ]
  },
  {
   "cell_type": "code",
   "execution_count": 22,
   "id": "8403229a",
   "metadata": {},
   "outputs": [
    {
     "data": {
      "image/png": "[encoded data removed]",
      "text/plain": [
       "<Figure size 640x480 with 1 Axes>"
      ]
     },
     "metadata": {},
     "output_type": "display_data"
    }
   ],
   "source": [
    "boxplot_population = seaborn.boxplot(x = \"ARRIVAL_DELAY\", data = cleaned_data)"
   ]
  },
  {
   "cell_type": "markdown",
   "id": "107c3a34",
   "metadata": {},
   "source": [
    "Since departure delay and arrival delay are closely linked together, I am going to leave the outliers in ARRIVAL_DELAY as is to maintain data."
   ]
  },
  {
   "cell_type": "markdown",
   "id": "3b77bb73",
   "metadata": {},
   "source": [
    "Now that the NA values have been dealt with, I can convert the the ARRIVAL_DELAY permanently to integers as specified in the poly_regressor file."
   ]
  },
  {
   "cell_type": "code",
   "execution_count": 23,
   "id": "a600cc40",
   "metadata": {},
   "outputs": [],
   "source": [
    "cleaned_data = cleaned_data.astype({\"ARRIVAL_DELAY\": 'int'})\n",
    "logging.info(\"Arrival Delay converted to int successfully.\")"
   ]
  },
  {
   "cell_type": "code",
   "execution_count": 24,
   "id": "12a7976a",
   "metadata": {},
   "outputs": [
    {
     "data": {
      "text/plain": [
       "YEAR                    int64\n",
       "MONTH                   int64\n",
       "DAY                     int64\n",
       "DAY_OF_WEEK             int64\n",
       "ORG_AIRPORT            object\n",
       "DEST_AIRPORT           object\n",
       "SCHEDULED_DEPARTURE     int64\n",
       "DEPARTURE_TIME          int32\n",
       "DEPARTURE_DELAY         int32\n",
       "SCHEDULED_ARRIVAL       int64\n",
       "ARRIVAL_TIME            int32\n",
       "ARRIVAL_DELAY           int32\n",
       "dtype: object"
      ]
     },
     "metadata": {},
     "output_type": "display_data"
    }
   ],
   "source": [
    "display(cleaned_data.dtypes)"
   ]
  },
  {
   "cell_type": "code",
   "execution_count": 25,
   "id": "10bbf5a1",
   "metadata": {},
   "outputs": [
    {
     "data": {
      "text/html": [
       "<div>\n",
       "<style scoped>\n",
       "    .dataframe tbody tr th:only-of-type {\n",
       "        vertical-align: middle;\n",
       "    }\n",
       "\n",
       "    .dataframe tbody tr th {\n",
       "        vertical-align: top;\n",
       "    }\n",
       "\n",
       "    .dataframe thead th {\n",
       "        text-align: right;\n",
       "    }\n",
       "</style>\n",
       "<table border=\"1\" class=\"dataframe\">\n",
       "  <thead>\n",
       "    <tr style=\"text-align: right;\">\n",
       "      <th></th>\n",
       "      <th>YEAR</th>\n",
       "      <th>MONTH</th>\n",
       "      <th>DAY</th>\n",
       "      <th>DAY_OF_WEEK</th>\n",
       "      <th>ORG_AIRPORT</th>\n",
       "      <th>DEST_AIRPORT</th>\n",
       "      <th>SCHEDULED_DEPARTURE</th>\n",
       "      <th>DEPARTURE_TIME</th>\n",
       "      <th>DEPARTURE_DELAY</th>\n",
       "      <th>SCHEDULED_ARRIVAL</th>\n",
       "      <th>ARRIVAL_TIME</th>\n",
       "      <th>ARRIVAL_DELAY</th>\n",
       "    </tr>\n",
       "  </thead>\n",
       "  <tbody>\n",
       "    <tr>\n",
       "      <th>0</th>\n",
       "      <td>2024</td>\n",
       "      <td>6</td>\n",
       "      <td>1</td>\n",
       "      <td>6</td>\n",
       "      <td>LAX</td>\n",
       "      <td>ABQ</td>\n",
       "      <td>808</td>\n",
       "      <td>757</td>\n",
       "      <td>-11</td>\n",
       "      <td>1103</td>\n",
       "      <td>1104</td>\n",
       "      <td>1</td>\n",
       "    </tr>\n",
       "    <tr>\n",
       "      <th>1</th>\n",
       "      <td>2024</td>\n",
       "      <td>6</td>\n",
       "      <td>1</td>\n",
       "      <td>6</td>\n",
       "      <td>LAX</td>\n",
       "      <td>ABQ</td>\n",
       "      <td>920</td>\n",
       "      <td>914</td>\n",
       "      <td>-6</td>\n",
       "      <td>1217</td>\n",
       "      <td>1208</td>\n",
       "      <td>-9</td>\n",
       "    </tr>\n",
       "    <tr>\n",
       "      <th>2</th>\n",
       "      <td>2024</td>\n",
       "      <td>6</td>\n",
       "      <td>1</td>\n",
       "      <td>6</td>\n",
       "      <td>LAX</td>\n",
       "      <td>ABQ</td>\n",
       "      <td>1439</td>\n",
       "      <td>1436</td>\n",
       "      <td>-3</td>\n",
       "      <td>1734</td>\n",
       "      <td>1730</td>\n",
       "      <td>-4</td>\n",
       "    </tr>\n",
       "    <tr>\n",
       "      <th>3</th>\n",
       "      <td>2024</td>\n",
       "      <td>6</td>\n",
       "      <td>1</td>\n",
       "      <td>6</td>\n",
       "      <td>LAX</td>\n",
       "      <td>ABQ</td>\n",
       "      <td>1956</td>\n",
       "      <td>1947</td>\n",
       "      <td>-9</td>\n",
       "      <td>2250</td>\n",
       "      <td>2236</td>\n",
       "      <td>-14</td>\n",
       "    </tr>\n",
       "    <tr>\n",
       "      <th>4</th>\n",
       "      <td>2024</td>\n",
       "      <td>6</td>\n",
       "      <td>1</td>\n",
       "      <td>6</td>\n",
       "      <td>LAX</td>\n",
       "      <td>ABQ</td>\n",
       "      <td>1959</td>\n",
       "      <td>1955</td>\n",
       "      <td>-4</td>\n",
       "      <td>2254</td>\n",
       "      <td>2245</td>\n",
       "      <td>-9</td>\n",
       "    </tr>\n",
       "  </tbody>\n",
       "</table>\n",
       "</div>"
      ],
      "text/plain": [
       "   YEAR  MONTH  DAY  DAY_OF_WEEK ORG_AIRPORT DEST_AIRPORT  \\\n",
       "0  2024      6    1            6         LAX          ABQ   \n",
       "1  2024      6    1            6         LAX          ABQ   \n",
       "2  2024      6    1            6         LAX          ABQ   \n",
       "3  2024      6    1            6         LAX          ABQ   \n",
       "4  2024      6    1            6         LAX          ABQ   \n",
       "\n",
       "   SCHEDULED_DEPARTURE  DEPARTURE_TIME  DEPARTURE_DELAY  SCHEDULED_ARRIVAL  \\\n",
       "0                  808             757              -11               1103   \n",
       "1                  920             914               -6               1217   \n",
       "2                 1439            1436               -3               1734   \n",
       "3                 1956            1947               -9               2250   \n",
       "4                 1959            1955               -4               2254   \n",
       "\n",
       "   ARRIVAL_TIME  ARRIVAL_DELAY  \n",
       "0          1104              1  \n",
       "1          1208             -9  \n",
       "2          1730             -4  \n",
       "3          2236            -14  \n",
       "4          2245             -9  "
      ]
     },
     "execution_count": 25,
     "metadata": {},
     "output_type": "execute_result"
    }
   ],
   "source": [
    "cleaned_data.head()"
   ]
  },
  {
   "cell_type": "code",
   "execution_count": 26,
   "id": "aa0c718e",
   "metadata": {},
   "outputs": [],
   "source": [
    "cleaned_data.to_csv('C:/Users/cfman/OneDrive/Desktop/WGUClasses/D602 Deployment/Task 2/Data/cleaned_data.csv', index = False)\n",
    "logging.info(\"Cleaned_data exported successfully.\")"
   ]
  }
 ],
 "metadata": {
  "kernelspec": {
   "display_name": "Python 3 (ipykernel)",
   "language": "python",
   "name": "python3"
  },
  "language_info": {
   "codemirror_mode": {
    "name": "ipython",
    "version": 3
   },
   "file_extension": ".py",
   "mimetype": "text/x-python",
   "name": "python",
   "nbconvert_exporter": "python",
   "pygments_lexer": "ipython3",
   "version": "3.11.4"
  }
 },
 "nbformat": 4,
 "nbformat_minor": 5
}
