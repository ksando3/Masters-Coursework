{
 "cells": [
  {
   "cell_type": "markdown",
   "id": "f0cd325b",
   "metadata": {},
   "source": [
    "Output of cleaned data file should look like this:\n",
    "\n",
    "| YEAR | MONTH | DAY | DAY_OF_WEEK | ORG_AIRPORT | DEST_AIRPORT | SCHEDULED_DEPARTURE | DEPARTURE_TIME | DEPARTURE_DELAY | SCHEDULED_ARRIVAL | ARRIVAL_TIME | ARRIVAL_DELAY |\n",
    "|:--------:|:--------:|:--------:|:--------:|:--------:|:--------:|:--------:|:--------:|:--------:|:--------:|:--------:|:--------:|\n",
    "| integer | integer | integer | integer | string | string | integer | integer | integer | integer | integer | integer |\n",
    "\n",
    "and should be named \"imported_data\" and saved as a .csv file"
   ]
  },
  {
   "cell_type": "code",
   "execution_count": 1,
   "id": "00376ba6",
   "metadata": {},
   "outputs": [],
   "source": [
    "import pandas as pd\n",
    "import logging"
   ]
  },
  {
   "cell_type": "code",
   "execution_count": 2,
   "id": "94299271",
   "metadata": {},
   "outputs": [],
   "source": [
    "imported_data = pd.read_csv(\"C:/Users/cfman/OneDrive/Desktop/WGUClasses/D602 Deployment/Task 2/Data/T_ONTIME_REPORTING.csv\")"
   ]
  },
  {
   "cell_type": "markdown",
   "id": "4a6227b1",
   "metadata": {},
   "source": [
    "Renaming the columns to match what is shown in the poly_regressor file."
   ]
  },
  {
   "cell_type": "code",
   "execution_count": 3,
   "id": "b9058498",
   "metadata": {},
   "outputs": [],
   "source": [
    "imported_data = imported_data.rename(columns = {\"DAY_OF_MONTH\": \"DAY\", \"ORIGIN\": \"ORG_AIRPORT\", \"DEST\": \"DEST_AIRPORT\",\n",
    "                               \"CRS_DEP_TIME\": \"SCHEDULED_DEPARTURE\", \"DEP_TIME\": \"DEPARTURE_TIME\", \"DEP_DELAY\": \"DEPARTURE_DELAY\", \n",
    "                               \"CRS_ARR_TIME\": \"SCHEDULED_ARRIVAL\", \"ARR_TIME\": \"ARRIVAL_TIME\", \"ARR_DELAY\": \"ARRIVAL_DELAY\"})"
   ]
  },
  {
   "cell_type": "code",
   "execution_count": 4,
   "id": "30e9e0fa",
   "metadata": {},
   "outputs": [],
   "source": [
    "## Check if column names are correct\n",
    "\n",
    "#imported_data.head()"
   ]
  },
  {
   "cell_type": "markdown",
   "id": "29763be3",
   "metadata": {},
   "source": [
    "We can see that the column names line up with what is needed for the other file. Now that that is cleaned up, we can move on to Part C."
   ]
  },
  {
   "cell_type": "code",
   "execution_count": 5,
   "id": "61aed067",
   "metadata": {},
   "outputs": [],
   "source": [
    "## https://docs.python.org/3/howto/logging.html\n",
    "\n",
    "imported_data.to_csv('C:/Users/cfman/OneDrive/Desktop/WGUClasses/D602 Deployment/Task 2/Data/imported_data.csv', index = False)\n",
    "logger = logging.getLogger(__name__)\n",
    "logging.basicConfig(filename='Task 2 Part B.log', encoding='utf-8', level=logging.DEBUG)\n",
    "logging.info(\"Successfully exported edited initial dataset\")"
   ]
  }
 ],
 "metadata": {
  "kernelspec": {
   "display_name": "Python 3 (ipykernel)",
   "language": "python",
   "name": "python3"
  },
  "language_info": {
   "codemirror_mode": {
    "name": "ipython",
    "version": 3
   },
   "file_extension": ".py",
   "mimetype": "text/x-python",
   "name": "python",
   "nbconvert_exporter": "python",
   "pygments_lexer": "ipython3",
   "version": "3.11.4"
  }
 },
 "nbformat": 4,
 "nbformat_minor": 5
}
