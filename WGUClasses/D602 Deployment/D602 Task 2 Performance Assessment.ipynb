{
 "cells": [
  {
   "cell_type": "markdown",
   "id": "f0cd325b",
   "metadata": {},
   "source": [
    "Output of cleaned data file should look like this:\n",
    "\n",
    "| YEAR | MONTH | DAY | DAY_OF_WEEK | ORG_AIRPORT | DEST_AIRPORT | SCHEDULED_DEPARTURE | DEPARTURE_TIME | DEPARTURE_DELAY | SCHEDULED_ARRIVAL | ARRIVAL_TIME | ARRIVAL_DELAY |\n",
    "|:--------:|:--------:|:--------:|:--------:|:--------:|:--------:|:--------:|:--------:|:--------:|:--------:|:--------:|:--------:|\n",
    "| integer | integer | integer | integer | string | string | integer | integer | integer | integer | integer | integer |\n",
    "\n",
    "and should be named \"cleaned_data\" and saved as a .csv file"
   ]
  },
  {
   "cell_type": "code",
   "execution_count": 16,
   "id": "00376ba6",
   "metadata": {},
   "outputs": [],
   "source": [
    "import pandas as pd"
   ]
  },
  {
   "cell_type": "code",
   "execution_count": 17,
   "id": "94299271",
   "metadata": {},
   "outputs": [],
   "source": [
    "cleaned_data = pd.read_csv(\"C:/Users/cfman/OneDrive/Desktop/WGUClasses/D602 Deployment/Task 2/T_ONTIME_REPORTING.csv\")"
   ]
  },
  {
   "cell_type": "code",
   "execution_count": 18,
   "id": "2160efbb",
   "metadata": {},
   "outputs": [
    {
     "data": {
      "text/html": [
       "<div>\n",
       "<style scoped>\n",
       "    .dataframe tbody tr th:only-of-type {\n",
       "        vertical-align: middle;\n",
       "    }\n",
       "\n",
       "    .dataframe tbody tr th {\n",
       "        vertical-align: top;\n",
       "    }\n",
       "\n",
       "    .dataframe thead th {\n",
       "        text-align: right;\n",
       "    }\n",
       "</style>\n",
       "<table border=\"1\" class=\"dataframe\">\n",
       "  <thead>\n",
       "    <tr style=\"text-align: right;\">\n",
       "      <th></th>\n",
       "      <th>YEAR</th>\n",
       "      <th>MONTH</th>\n",
       "      <th>DAY_OF_MONTH</th>\n",
       "      <th>DAY_OF_WEEK</th>\n",
       "      <th>ORIGIN</th>\n",
       "      <th>DEST</th>\n",
       "      <th>CRS_DEP_TIME</th>\n",
       "      <th>DEP_TIME</th>\n",
       "      <th>DEP_DELAY</th>\n",
       "      <th>CRS_ARR_TIME</th>\n",
       "      <th>ARR_TIME</th>\n",
       "      <th>ARR_DELAY</th>\n",
       "    </tr>\n",
       "  </thead>\n",
       "  <tbody>\n",
       "    <tr>\n",
       "      <th>0</th>\n",
       "      <td>2024</td>\n",
       "      <td>6</td>\n",
       "      <td>1</td>\n",
       "      <td>6</td>\n",
       "      <td>ABQ</td>\n",
       "      <td>BUR</td>\n",
       "      <td>905</td>\n",
       "      <td>904.0</td>\n",
       "      <td>-1.0</td>\n",
       "      <td>1005</td>\n",
       "      <td>955.0</td>\n",
       "      <td>-10.0</td>\n",
       "    </tr>\n",
       "    <tr>\n",
       "      <th>1</th>\n",
       "      <td>2024</td>\n",
       "      <td>6</td>\n",
       "      <td>1</td>\n",
       "      <td>6</td>\n",
       "      <td>ABQ</td>\n",
       "      <td>LAX</td>\n",
       "      <td>601</td>\n",
       "      <td>556.0</td>\n",
       "      <td>-5.0</td>\n",
       "      <td>713</td>\n",
       "      <td>704.0</td>\n",
       "      <td>-9.0</td>\n",
       "    </tr>\n",
       "    <tr>\n",
       "      <th>2</th>\n",
       "      <td>2024</td>\n",
       "      <td>6</td>\n",
       "      <td>1</td>\n",
       "      <td>6</td>\n",
       "      <td>ABQ</td>\n",
       "      <td>LAX</td>\n",
       "      <td>700</td>\n",
       "      <td>656.0</td>\n",
       "      <td>-4.0</td>\n",
       "      <td>807</td>\n",
       "      <td>751.0</td>\n",
       "      <td>-16.0</td>\n",
       "    </tr>\n",
       "    <tr>\n",
       "      <th>3</th>\n",
       "      <td>2024</td>\n",
       "      <td>6</td>\n",
       "      <td>1</td>\n",
       "      <td>6</td>\n",
       "      <td>ABQ</td>\n",
       "      <td>LAX</td>\n",
       "      <td>1201</td>\n",
       "      <td>1159.0</td>\n",
       "      <td>-2.0</td>\n",
       "      <td>1317</td>\n",
       "      <td>1354.0</td>\n",
       "      <td>37.0</td>\n",
       "    </tr>\n",
       "    <tr>\n",
       "      <th>4</th>\n",
       "      <td>2024</td>\n",
       "      <td>6</td>\n",
       "      <td>1</td>\n",
       "      <td>6</td>\n",
       "      <td>ABQ</td>\n",
       "      <td>LAX</td>\n",
       "      <td>1247</td>\n",
       "      <td>1237.0</td>\n",
       "      <td>-10.0</td>\n",
       "      <td>1354</td>\n",
       "      <td>1335.0</td>\n",
       "      <td>-19.0</td>\n",
       "    </tr>\n",
       "  </tbody>\n",
       "</table>\n",
       "</div>"
      ],
      "text/plain": [
       "   YEAR  MONTH  DAY_OF_MONTH  DAY_OF_WEEK ORIGIN DEST  CRS_DEP_TIME  DEP_TIME  \\\n",
       "0  2024      6             1            6    ABQ  BUR           905     904.0   \n",
       "1  2024      6             1            6    ABQ  LAX           601     556.0   \n",
       "2  2024      6             1            6    ABQ  LAX           700     656.0   \n",
       "3  2024      6             1            6    ABQ  LAX          1201    1159.0   \n",
       "4  2024      6             1            6    ABQ  LAX          1247    1237.0   \n",
       "\n",
       "   DEP_DELAY  CRS_ARR_TIME  ARR_TIME  ARR_DELAY  \n",
       "0       -1.0          1005     955.0      -10.0  \n",
       "1       -5.0           713     704.0       -9.0  \n",
       "2       -4.0           807     751.0      -16.0  \n",
       "3       -2.0          1317    1354.0       37.0  \n",
       "4      -10.0          1354    1335.0      -19.0  "
      ]
     },
     "execution_count": 18,
     "metadata": {},
     "output_type": "execute_result"
    }
   ],
   "source": [
    "cleaned_data.head()"
   ]
  },
  {
   "cell_type": "code",
   "execution_count": 19,
   "id": "52bb25af",
   "metadata": {},
   "outputs": [],
   "source": [
    "column_names = list(cleaned_data.columns)"
   ]
  },
  {
   "cell_type": "code",
   "execution_count": 20,
   "id": "f8f84c04",
   "metadata": {},
   "outputs": [
    {
     "name": "stdout",
     "output_type": "stream",
     "text": [
      "YEAR is type: <class 'numpy.int64'>\n",
      "MONTH is type: <class 'numpy.int64'>\n",
      "DAY_OF_MONTH is type: <class 'numpy.int64'>\n",
      "DAY_OF_WEEK is type: <class 'numpy.int64'>\n",
      "ORIGIN is type: <class 'str'>\n",
      "DEST is type: <class 'str'>\n",
      "CRS_DEP_TIME is type: <class 'numpy.int64'>\n",
      "DEP_TIME is type: <class 'numpy.float64'>\n",
      "DEP_DELAY is type: <class 'numpy.float64'>\n",
      "CRS_ARR_TIME is type: <class 'numpy.int64'>\n",
      "ARR_TIME is type: <class 'numpy.float64'>\n",
      "ARR_DELAY is type: <class 'numpy.float64'>\n"
     ]
    }
   ],
   "source": [
    "for i in range(0, len(column_names)):\n",
    "    print(column_names[i], \"is type:\", type(cleaned_data[column_names[i]][0]))"
   ]
  },
  {
   "cell_type": "markdown",
   "id": "152a8ffa",
   "metadata": {},
   "source": [
    "From this output, we can see that we need to convert \"DEP_TIME\", \"DEP_DELAY\", \"ARR_TIME\", \"ARR_DELAY\" to the integer class type as specified in the intial breakdown of what the cleaned data should look like. We also need to rename a few of the columns as well."
   ]
  },
  {
   "cell_type": "markdown",
   "id": "7e993c04",
   "metadata": {},
   "source": [
    "## For ease of access to see what it should look like\n",
    "\n",
    "| YEAR | MONTH | DAY | DAY_OF_WEEK | ORG_AIRPORT | DEST_AIRPORT | SCHEDULED_DEPARTURE | DEPARTURE_TIME | DEPARTURE_DELAY | SCHEDULED_ARRIVAL | ARRIVAL_TIME | ARRIVAL_DELAY |\n",
    "|:--------:|:--------:|:--------:|:--------:|:--------:|:--------:|:--------:|:--------:|:--------:|:--------:|:--------:|:--------:|\n",
    "| integer | integer | integer | integer | string | string | integer | integer | integer | integer | integer | integer |"
   ]
  },
  {
   "cell_type": "code",
   "execution_count": 25,
   "id": "b9058498",
   "metadata": {},
   "outputs": [],
   "source": [
    "cleaned_data = cleaned_data.rename(columns = {\"DAY_OF_MONTH\": \"DAY\", \"ORIGIN\": \"ORG_AIRPORT\", \"DEST\": \"DEST_AIRPORT\",\n",
    "                               \"CRS_DEP_TIME\": \"SCHEDULED_DEPARTURE\", \"DEP_TIME\": \"DEPARTURE_TIME\", \"DEP_DELAY\": \"DEPARTURE_DELAY\", \n",
    "                               \"CRS_ARR_TIME\": \"SCHEDULED_ARRIVAL\", \"ARR_TIME\": \"ARRIVAL_TIME\", \"ARR_DELAY\": \"ARRIVAL_DELAY\"})"
   ]
  },
  {
   "cell_type": "code",
   "execution_count": 26,
   "id": "42f25123",
   "metadata": {},
   "outputs": [
    {
     "data": {
      "text/html": [
       "<div>\n",
       "<style scoped>\n",
       "    .dataframe tbody tr th:only-of-type {\n",
       "        vertical-align: middle;\n",
       "    }\n",
       "\n",
       "    .dataframe tbody tr th {\n",
       "        vertical-align: top;\n",
       "    }\n",
       "\n",
       "    .dataframe thead th {\n",
       "        text-align: right;\n",
       "    }\n",
       "</style>\n",
       "<table border=\"1\" class=\"dataframe\">\n",
       "  <thead>\n",
       "    <tr style=\"text-align: right;\">\n",
       "      <th></th>\n",
       "      <th>YEAR</th>\n",
       "      <th>MONTH</th>\n",
       "      <th>DAY</th>\n",
       "      <th>DAY_OF_WEEK</th>\n",
       "      <th>ORG_AIRPORT</th>\n",
       "      <th>DEST_AIRPORT</th>\n",
       "      <th>SCHEDULED_DEPARTURE</th>\n",
       "      <th>DEPARTURE_TIME</th>\n",
       "      <th>DEPARTURE_DELAY</th>\n",
       "      <th>SCHEDULED_ARRIVAL</th>\n",
       "      <th>ARRIVAL_TIME</th>\n",
       "      <th>ARRIVAL_DELAY</th>\n",
       "    </tr>\n",
       "  </thead>\n",
       "  <tbody>\n",
       "    <tr>\n",
       "      <th>0</th>\n",
       "      <td>2024</td>\n",
       "      <td>6</td>\n",
       "      <td>1</td>\n",
       "      <td>6</td>\n",
       "      <td>ABQ</td>\n",
       "      <td>BUR</td>\n",
       "      <td>905</td>\n",
       "      <td>904.0</td>\n",
       "      <td>-1.0</td>\n",
       "      <td>1005</td>\n",
       "      <td>955.0</td>\n",
       "      <td>-10.0</td>\n",
       "    </tr>\n",
       "    <tr>\n",
       "      <th>1</th>\n",
       "      <td>2024</td>\n",
       "      <td>6</td>\n",
       "      <td>1</td>\n",
       "      <td>6</td>\n",
       "      <td>ABQ</td>\n",
       "      <td>LAX</td>\n",
       "      <td>601</td>\n",
       "      <td>556.0</td>\n",
       "      <td>-5.0</td>\n",
       "      <td>713</td>\n",
       "      <td>704.0</td>\n",
       "      <td>-9.0</td>\n",
       "    </tr>\n",
       "    <tr>\n",
       "      <th>2</th>\n",
       "      <td>2024</td>\n",
       "      <td>6</td>\n",
       "      <td>1</td>\n",
       "      <td>6</td>\n",
       "      <td>ABQ</td>\n",
       "      <td>LAX</td>\n",
       "      <td>700</td>\n",
       "      <td>656.0</td>\n",
       "      <td>-4.0</td>\n",
       "      <td>807</td>\n",
       "      <td>751.0</td>\n",
       "      <td>-16.0</td>\n",
       "    </tr>\n",
       "    <tr>\n",
       "      <th>3</th>\n",
       "      <td>2024</td>\n",
       "      <td>6</td>\n",
       "      <td>1</td>\n",
       "      <td>6</td>\n",
       "      <td>ABQ</td>\n",
       "      <td>LAX</td>\n",
       "      <td>1201</td>\n",
       "      <td>1159.0</td>\n",
       "      <td>-2.0</td>\n",
       "      <td>1317</td>\n",
       "      <td>1354.0</td>\n",
       "      <td>37.0</td>\n",
       "    </tr>\n",
       "    <tr>\n",
       "      <th>4</th>\n",
       "      <td>2024</td>\n",
       "      <td>6</td>\n",
       "      <td>1</td>\n",
       "      <td>6</td>\n",
       "      <td>ABQ</td>\n",
       "      <td>LAX</td>\n",
       "      <td>1247</td>\n",
       "      <td>1237.0</td>\n",
       "      <td>-10.0</td>\n",
       "      <td>1354</td>\n",
       "      <td>1335.0</td>\n",
       "      <td>-19.0</td>\n",
       "    </tr>\n",
       "  </tbody>\n",
       "</table>\n",
       "</div>"
      ],
      "text/plain": [
       "   YEAR  MONTH  DAY  DAY_OF_WEEK ORG_AIRPORT DEST_AIRPORT  \\\n",
       "0  2024      6    1            6         ABQ          BUR   \n",
       "1  2024      6    1            6         ABQ          LAX   \n",
       "2  2024      6    1            6         ABQ          LAX   \n",
       "3  2024      6    1            6         ABQ          LAX   \n",
       "4  2024      6    1            6         ABQ          LAX   \n",
       "\n",
       "   SCHEDULED_DEPARTURE  DEPARTURE_TIME  DEPARTURE_DELAY  SCHEDULED_ARRIVAL  \\\n",
       "0                  905           904.0             -1.0               1005   \n",
       "1                  601           556.0             -5.0                713   \n",
       "2                  700           656.0             -4.0                807   \n",
       "3                 1201          1159.0             -2.0               1317   \n",
       "4                 1247          1237.0            -10.0               1354   \n",
       "\n",
       "   ARRIVAL_TIME  ARRIVAL_DELAY  \n",
       "0         955.0          -10.0  \n",
       "1         704.0           -9.0  \n",
       "2         751.0          -16.0  \n",
       "3        1354.0           37.0  \n",
       "4        1335.0          -19.0  "
      ]
     },
     "execution_count": 26,
     "metadata": {},
     "output_type": "execute_result"
    }
   ],
   "source": [
    "cleaned_data.head()"
   ]
  },
  {
   "cell_type": "code",
   "execution_count": 27,
   "id": "89df5bc1",
   "metadata": {},
   "outputs": [
    {
     "data": {
      "text/plain": [
       "YEAR                     0\n",
       "MONTH                    0\n",
       "DAY                      0\n",
       "DAY_OF_WEEK              0\n",
       "ORG_AIRPORT              0\n",
       "DEST_AIRPORT             0\n",
       "SCHEDULED_DEPARTURE      0\n",
       "DEPARTURE_TIME         650\n",
       "DEPARTURE_DELAY        651\n",
       "SCHEDULED_ARRIVAL        0\n",
       "ARRIVAL_TIME           732\n",
       "ARRIVAL_DELAY          987\n",
       "dtype: int64"
      ]
     },
     "execution_count": 27,
     "metadata": {},
     "output_type": "execute_result"
    }
   ],
   "source": [
    "cleaned_data.isna().sum()"
   ]
  },
  {
   "cell_type": "markdown",
   "id": "517d4623",
   "metadata": {},
   "source": [
    "In order to get the float columns to integers, I must first deal with the missing values that are in those columns.\n",
    "\n",
    "This is part of the data cleaning process in Part C but I need to do it here to get an acceptable file to upload.\n",
    "\n",
    "I am going to keep it simple and just drop all the rows with missing values."
   ]
  },
  {
   "cell_type": "code",
   "execution_count": null,
   "id": "a917ae13",
   "metadata": {},
   "outputs": [],
   "source": [
    "len(cleaned_data)"
   ]
  },
  {
   "cell_type": "code",
   "execution_count": 31,
   "id": "23773405",
   "metadata": {},
   "outputs": [],
   "source": [
    "cleaned_data = cleaned_data.dropna()"
   ]
  },
  {
   "cell_type": "code",
   "execution_count": 32,
   "id": "b2189514",
   "metadata": {},
   "outputs": [
    {
     "data": {
      "text/plain": [
       "107024"
      ]
     },
     "execution_count": 32,
     "metadata": {},
     "output_type": "execute_result"
    }
   ],
   "source": [
    "len(cleaned_data)"
   ]
  },
  {
   "cell_type": "markdown",
   "id": "240736bc",
   "metadata": {},
   "source": [
    "So we can see that we only lost about 1,000 rows out of the over 100,000 that we have."
   ]
  },
  {
   "cell_type": "code",
   "execution_count": 35,
   "id": "38675552",
   "metadata": {},
   "outputs": [
    {
     "name": "stdout",
     "output_type": "stream",
     "text": [
      "YEAR                    int64\n",
      "MONTH                   int64\n",
      "DAY                     int64\n",
      "DAY_OF_WEEK             int64\n",
      "ORG_AIRPORT            object\n",
      "DEST_AIRPORT           object\n",
      "SCHEDULED_DEPARTURE     int64\n",
      "DEPARTURE_TIME          int32\n",
      "DEPARTURE_DELAY         int32\n",
      "SCHEDULED_ARRIVAL       int64\n",
      "ARRIVAL_TIME            int32\n",
      "ARRIVAL_DELAY           int32\n",
      "dtype: object\n"
     ]
    }
   ],
   "source": [
    "## https://www.geeksforgeeks.org/change-data-type-for-one-or-more-columns-in-pandas-dataframe/\n",
    "\n",
    "# Define the conversion dictionary\n",
    "convert_dict = {'DEPARTURE_TIME': int, 'DEPARTURE_DELAY': int,'ARRIVAL_TIME': int,'ARRIVAL_DELAY': int}\n",
    "\n",
    "# Convert columns using the dictionary\n",
    "cleaned_data = cleaned_data.astype(convert_dict)\n",
    "\n",
    "print(cleaned_data.dtypes)"
   ]
  },
  {
   "cell_type": "code",
   "execution_count": 36,
   "id": "db9750f7",
   "metadata": {},
   "outputs": [
    {
     "data": {
      "text/html": [
       "<div>\n",
       "<style scoped>\n",
       "    .dataframe tbody tr th:only-of-type {\n",
       "        vertical-align: middle;\n",
       "    }\n",
       "\n",
       "    .dataframe tbody tr th {\n",
       "        vertical-align: top;\n",
       "    }\n",
       "\n",
       "    .dataframe thead th {\n",
       "        text-align: right;\n",
       "    }\n",
       "</style>\n",
       "<table border=\"1\" class=\"dataframe\">\n",
       "  <thead>\n",
       "    <tr style=\"text-align: right;\">\n",
       "      <th></th>\n",
       "      <th>YEAR</th>\n",
       "      <th>MONTH</th>\n",
       "      <th>DAY</th>\n",
       "      <th>DAY_OF_WEEK</th>\n",
       "      <th>ORG_AIRPORT</th>\n",
       "      <th>DEST_AIRPORT</th>\n",
       "      <th>SCHEDULED_DEPARTURE</th>\n",
       "      <th>DEPARTURE_TIME</th>\n",
       "      <th>DEPARTURE_DELAY</th>\n",
       "      <th>SCHEDULED_ARRIVAL</th>\n",
       "      <th>ARRIVAL_TIME</th>\n",
       "      <th>ARRIVAL_DELAY</th>\n",
       "    </tr>\n",
       "  </thead>\n",
       "  <tbody>\n",
       "    <tr>\n",
       "      <th>0</th>\n",
       "      <td>2024</td>\n",
       "      <td>6</td>\n",
       "      <td>1</td>\n",
       "      <td>6</td>\n",
       "      <td>ABQ</td>\n",
       "      <td>BUR</td>\n",
       "      <td>905</td>\n",
       "      <td>904</td>\n",
       "      <td>-1</td>\n",
       "      <td>1005</td>\n",
       "      <td>955</td>\n",
       "      <td>-10</td>\n",
       "    </tr>\n",
       "    <tr>\n",
       "      <th>1</th>\n",
       "      <td>2024</td>\n",
       "      <td>6</td>\n",
       "      <td>1</td>\n",
       "      <td>6</td>\n",
       "      <td>ABQ</td>\n",
       "      <td>LAX</td>\n",
       "      <td>601</td>\n",
       "      <td>556</td>\n",
       "      <td>-5</td>\n",
       "      <td>713</td>\n",
       "      <td>704</td>\n",
       "      <td>-9</td>\n",
       "    </tr>\n",
       "    <tr>\n",
       "      <th>2</th>\n",
       "      <td>2024</td>\n",
       "      <td>6</td>\n",
       "      <td>1</td>\n",
       "      <td>6</td>\n",
       "      <td>ABQ</td>\n",
       "      <td>LAX</td>\n",
       "      <td>700</td>\n",
       "      <td>656</td>\n",
       "      <td>-4</td>\n",
       "      <td>807</td>\n",
       "      <td>751</td>\n",
       "      <td>-16</td>\n",
       "    </tr>\n",
       "    <tr>\n",
       "      <th>3</th>\n",
       "      <td>2024</td>\n",
       "      <td>6</td>\n",
       "      <td>1</td>\n",
       "      <td>6</td>\n",
       "      <td>ABQ</td>\n",
       "      <td>LAX</td>\n",
       "      <td>1201</td>\n",
       "      <td>1159</td>\n",
       "      <td>-2</td>\n",
       "      <td>1317</td>\n",
       "      <td>1354</td>\n",
       "      <td>37</td>\n",
       "    </tr>\n",
       "    <tr>\n",
       "      <th>4</th>\n",
       "      <td>2024</td>\n",
       "      <td>6</td>\n",
       "      <td>1</td>\n",
       "      <td>6</td>\n",
       "      <td>ABQ</td>\n",
       "      <td>LAX</td>\n",
       "      <td>1247</td>\n",
       "      <td>1237</td>\n",
       "      <td>-10</td>\n",
       "      <td>1354</td>\n",
       "      <td>1335</td>\n",
       "      <td>-19</td>\n",
       "    </tr>\n",
       "  </tbody>\n",
       "</table>\n",
       "</div>"
      ],
      "text/plain": [
       "   YEAR  MONTH  DAY  DAY_OF_WEEK ORG_AIRPORT DEST_AIRPORT  \\\n",
       "0  2024      6    1            6         ABQ          BUR   \n",
       "1  2024      6    1            6         ABQ          LAX   \n",
       "2  2024      6    1            6         ABQ          LAX   \n",
       "3  2024      6    1            6         ABQ          LAX   \n",
       "4  2024      6    1            6         ABQ          LAX   \n",
       "\n",
       "   SCHEDULED_DEPARTURE  DEPARTURE_TIME  DEPARTURE_DELAY  SCHEDULED_ARRIVAL  \\\n",
       "0                  905             904               -1               1005   \n",
       "1                  601             556               -5                713   \n",
       "2                  700             656               -4                807   \n",
       "3                 1201            1159               -2               1317   \n",
       "4                 1247            1237              -10               1354   \n",
       "\n",
       "   ARRIVAL_TIME  ARRIVAL_DELAY  \n",
       "0           955            -10  \n",
       "1           704             -9  \n",
       "2           751            -16  \n",
       "3          1354             37  \n",
       "4          1335            -19  "
      ]
     },
     "execution_count": 36,
     "metadata": {},
     "output_type": "execute_result"
    }
   ],
   "source": [
    "cleaned_data.head()"
   ]
  },
  {
   "cell_type": "markdown",
   "id": "29763be3",
   "metadata": {},
   "source": [
    "Now we can see that everything is an integer other than the ORG_AIRPORT and the DEST_AIRPORT and we can see that the column names line up with what is needed for the other file. Now that that is cleaned up, we can move on to Part C."
   ]
  },
  {
   "cell_type": "code",
   "execution_count": 37,
   "id": "61aed067",
   "metadata": {},
   "outputs": [],
   "source": [
    "cleaned_data.to_csv('C:/Users/cfman/OneDrive/Desktop/WGUClasses/D602 Deployment/Task 2/Repo Files/cleaned_data.csv')"
   ]
  }
 ],
 "metadata": {
  "kernelspec": {
   "display_name": "Python 3 (ipykernel)",
   "language": "python",
   "name": "python3"
  },
  "language_info": {
   "codemirror_mode": {
    "name": "ipython",
    "version": 3
   },
   "file_extension": ".py",
   "mimetype": "text/x-python",
   "name": "python",
   "nbconvert_exporter": "python",
   "pygments_lexer": "ipython3",
   "version": "3.11.4"
  }
 },
 "nbformat": 4,
 "nbformat_minor": 5
}
