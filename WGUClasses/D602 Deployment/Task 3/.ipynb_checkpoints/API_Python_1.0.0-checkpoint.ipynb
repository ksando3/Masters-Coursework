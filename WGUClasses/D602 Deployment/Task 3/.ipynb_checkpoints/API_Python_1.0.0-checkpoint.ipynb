{
 "cells": [
  {
   "cell_type": "markdown",
   "id": "96931a10-24dd-4e83-adab-3de2b30c82ea",
   "metadata": {},
   "source": [
    "Import statements"
   ]
  },
  {
   "cell_type": "code",
   "execution_count": 1,
   "id": "26886de1-c865-4361-8608-e177bdd9191d",
   "metadata": {},
   "outputs": [],
   "source": [
    "# import statements\n",
    "from fastapi import FastAPI, HTTPException\n",
    "import json\n",
    "import numpy as np\n",
    "import pickle\n",
    "import datetime\n",
    "#from .predict import predict, load_model"
   ]
  },
  {
   "cell_type": "code",
   "execution_count": 2,
   "id": "6096fee8",
   "metadata": {},
   "outputs": [
    {
     "data": {
      "text/plain": [
       "list"
      ]
     },
     "execution_count": 2,
     "metadata": {},
     "output_type": "execute_result"
    }
   ],
   "source": [
    "pop = [1, \"SEA\", \"9:30\", \"12:30\"]\n",
    "type(pop)"
   ]
  },
  {
   "cell_type": "code",
   "execution_count": 3,
   "id": "1f74928e",
   "metadata": {},
   "outputs": [
    {
     "data": {
      "text/plain": [
       "'12:30'"
      ]
     },
     "execution_count": 3,
     "metadata": {},
     "output_type": "execute_result"
    }
   ],
   "source": [
    "pop[3]"
   ]
  },
  {
   "cell_type": "code",
   "execution_count": 4,
   "id": "61c64bcf",
   "metadata": {},
   "outputs": [],
   "source": [
    "#pop_one"
   ]
  },
  {
   "cell_type": "markdown",
   "id": "eeb37a5a-4c20-4c88-a617-937fca307d77",
   "metadata": {},
   "source": [
    "Opening arrival airport list"
   ]
  },
  {
   "cell_type": "code",
   "execution_count": 5,
   "id": "0c61499b-f3b5-4825-963c-1397d025361f",
   "metadata": {},
   "outputs": [],
   "source": [
    "# Opening airport encodings\n",
    "f = open('airport_encodings.json')\n",
    "# returns JSON object as a dictionary\n",
    "airports = json.load(f)"
   ]
  },
  {
   "cell_type": "code",
   "execution_count": 6,
   "id": "5db60f1f",
   "metadata": {},
   "outputs": [],
   "source": [
    "#airports"
   ]
  },
  {
   "cell_type": "code",
   "execution_count": 7,
   "id": "c68f7246-ad18-478c-84b7-d7bda9073f2f",
   "metadata": {},
   "outputs": [],
   "source": [
    "def create_airport_encoding(airport: str, airports: dict) -> np.array:\n",
    "    \"\"\"\n",
    "    create_airport_encoding is a function that creates an array the length of all arrival airports from the chosen\n",
    "    departure aiport.  The array consists of all zeros except for the specified arrival airport, which is a 1. Required\n",
    "    as part of input to saved polynomial regression model.\n",
    "\n",
    "    Parameters\n",
    "    ----------\n",
    "    airport : str\n",
    "        The specified arrival airport code as a string.\n",
    "\n",
    "    airports: dict\n",
    "        A dictionary containing all of the arrival airport codes served from the chosen departure airport.\n",
    "\n",
    "    Returns\n",
    "    -------\n",
    "    np.array\n",
    "        A NumPy array the length of the number of arrival airports.  All zeros except for a single 1 \n",
    "        denoting the arrival airport.  Returns None if arrival airport is not found in the input list.\n",
    "\n",
    "    \"\"\"\n",
    "    temp = np.zeros(len(airports))\n",
    "    if airport in airports:\n",
    "        temp[airports.get(airport)] = 1\n",
    "        temp = temp.T\n",
    "        return temp\n",
    "    else:\n",
    "        return None"
   ]
  },
  {
   "cell_type": "code",
   "execution_count": 29,
   "id": "55f4cd6c",
   "metadata": {},
   "outputs": [
    {
     "name": "stdout",
     "output_type": "stream",
     "text": [
      "34200 <class 'int'>\n"
     ]
    }
   ],
   "source": [
    "departure_time = \"9:30\"\n",
    "#departure_time = sum(x * int(t) for x, t in zip([3600, 60, 1], departure_time.split(\":\")))\n",
    "departure_time = departure_time.split(\":\")\n",
    "departure_time = ( int(departure_time[0])*60 + int(departure_time[1]) ) * 60\n",
    "print(departure_time, type(departure_time))"
   ]
  },
  {
   "cell_type": "code",
   "execution_count": 18,
   "id": "15034af4-05bc-438e-ab5d-f67e5a673cbe",
   "metadata": {},
   "outputs": [],
   "source": [
    "# TODO:  write the back-end logic to provide a prediction given the inputs\n",
    "# requires finalized_model.pkl to be loaded\n",
    "# the model must be passed a NumPy array consisting of the following:\n",
    "# (polynomial order, encoded airport array, departure time as seconds since midnight, arrival time as seconds since midnight)\n",
    "# the polynomial order is 1 unless you changed it during model training in Task 2\n",
    "# YOUR CODE GOES HERE\n",
    "\n",
    "with open(f\"C:/Users/cfman/OneDrive/Desktop/WGUClasses/D602 Deployment/Task 3/finalized_model.pkl\", \"rb\") as f:\n",
    "    model = pickle.load(f)\n",
    "    \n",
    "def predict(data): # Input data as a list. IE: [1, \"SEA\", \"9:30\", \"15:30\"]\n",
    "    \n",
    "    # Taking given departure and arrival times as strings and converting them to seconds since midnight.\n",
    "    # Easier for the user to not have to convert themselves\n",
    "    departure_time = data[2]\n",
    "    arrival_time = data[3]\n",
    "    \n",
    "    departure_time = departure_time.split(\":\")\n",
    "    departure_time = ( int(departure_time[0])*60 + int(departure_time[1]) ) * 60\n",
    "    \n",
    "    arrival_time = arrival_time.split(\":\")\n",
    "    arrival_time = ( int(arrival_time[0])*60 + int(arrival_time[1]) ) * 60\n",
    "    # Setting order equal to that of the first input as required\n",
    "    order = data[0]\n",
    "    #print(\"Order: \", order)\n",
    "    \n",
    "    # Creating a list of lists with the order as the first entry\n",
    "    edited_data = [[order]]\n",
    "    #print(\"Edited_data : \", edited_data)\n",
    "    \n",
    "    # Running the encoded airport function to generate the information about a given airport. Converting the numpy array to a list\n",
    "    encoded_data = create_airport_encoding(data[1], airports).tolist()\n",
    "    #print(\"Encoded_data : \", encoded_data)\n",
    "    \n",
    "    # Adding the converted numpy array from the airport encoding function to the new list of lists\n",
    "    edited_data.append(encoded_data)\n",
    "    #print(\"Edited_data : \", edited_data)\n",
    "    \n",
    "    # flattening the list of lists to create 1 list with all necessary inputs\n",
    "    edited_data = [x for xs in edited_data for x in xs]\n",
    "    #print(\"Edited_data : \", edited_data)\n",
    "    \n",
    "    # Adding the departure time since midnight\n",
    "    edited_data.append(departure_time)\n",
    "    #print(\"Edited_data : \", edited_data)\n",
    "    \n",
    "    # adding the arrival time since midnight\n",
    "    edited_data.append(arrival_time)\n",
    "    #print(\"Edited_data : \", edited_data)\n",
    "    \n",
    "    # Changing the list to a numpy array as required\n",
    "    edited_data = np.array([edited_data])\n",
    "    #print(\"Edited_data : \", edited_data)\n",
    "    \n",
    "    # Reshaping the array as needed\n",
    "    edited_data = edited_data.reshape(1,-1)\n",
    "    #print(\"Edited_data : \", edited_data)\n",
    "    \n",
    "    \n",
    "    # Returning the prediced delay in minutes\n",
    "    prediction = model.predict(edited_data)\n",
    "    prediction = round(prediction[0][0], 2)\n",
    "    return prediction\n",
    "    #print(\"Predicted Delay: \", round(prediction[0][0], 2), \"minutes\")\n",
    "    #print(type(prediction))"
   ]
  },
  {
   "cell_type": "code",
   "execution_count": 19,
   "id": "dc8f0cfd",
   "metadata": {},
   "outputs": [
    {
     "data": {
      "text/plain": [
       "-3.83"
      ]
     },
     "execution_count": 19,
     "metadata": {},
     "output_type": "execute_result"
    }
   ],
   "source": [
    "# Manual test to check if code works\n",
    "predict(pop)\n",
    "predict([1, \"SAN\", \"9:30\", \"13:17\"])"
   ]
  },
  {
   "cell_type": "code",
   "execution_count": 20,
   "id": "0d3e6dd5",
   "metadata": {},
   "outputs": [],
   "source": [
    "def get_predict(order, ArrivalAirport, DepartureTime, ArrivalTime):\n",
    "    data = [order, ArrivalAirport, DepartureTime, ArrivalTime]\n",
    "    prediction = predict(data)\n",
    "    return {\"Predicted Delay in Minutes: \" : prediction}"
   ]
  },
  {
   "cell_type": "code",
   "execution_count": 21,
   "id": "4e8282fa",
   "metadata": {},
   "outputs": [
    {
     "data": {
      "text/plain": [
       "{'Predicted Delay in Minutes: ': -3.83}"
      ]
     },
     "execution_count": 21,
     "metadata": {},
     "output_type": "execute_result"
    }
   ],
   "source": [
    "get_predict(1, \"SAN\", \"9:30\", \"13:17\")"
   ]
  },
  {
   "cell_type": "code",
   "execution_count": 10,
   "id": "efbe0d2e-e8be-4a78-8a25-465e5501f9f1",
   "metadata": {},
   "outputs": [],
   "source": [
    "# TODO:  write the API endpoints.  \n",
    "# YOUR CODE GOES HERE\n",
    "\n",
    "#app = FastAPI()\n",
    "\n",
    "#@app.get(\"/\")\n",
    "#def home():\n",
    "   # return {\"API Test\": \"API is Operational\"}\n",
    "\n",
    "#@app.post(\"/predict/delays\")\n",
    "#def get_predict(Order, AirportEnc, DeptSec, ArrSec):\n",
    "    #data = {\"Order\": [Order], \"AirportEnc\": [AirportEnc], \"DeptSec\": [DeptSec], \"ArrSec\": [ArrSec]}\n",
    "    #prediction = int(predict(model, data))\n",
    "   # return {\"Predicted Departure Delay in Minutes:\" : prediction}"
   ]
  }
 ],
 "metadata": {
  "kernelspec": {
   "display_name": "Python 3 (ipykernel)",
   "language": "python",
   "name": "python3"
  },
  "language_info": {
   "codemirror_mode": {
    "name": "ipython",
    "version": 3
   },
   "file_extension": ".py",
   "mimetype": "text/x-python",
   "name": "python",
   "nbconvert_exporter": "python",
   "pygments_lexer": "ipython3",
   "version": "3.11.4"
  }
 },
 "nbformat": 4,
 "nbformat_minor": 5
}
