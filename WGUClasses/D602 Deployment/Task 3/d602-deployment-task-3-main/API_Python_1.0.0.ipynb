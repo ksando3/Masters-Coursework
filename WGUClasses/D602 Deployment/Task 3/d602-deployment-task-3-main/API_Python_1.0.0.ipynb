{
 "cells": [
  {
   "cell_type": "markdown",
   "id": "96931a10-24dd-4e83-adab-3de2b30c82ea",
   "metadata": {},
   "source": [
    "Import statements"
   ]
  },
  {
   "cell_type": "code",
   "execution_count": null,
   "id": "26886de1-c865-4361-8608-e177bdd9191d",
   "metadata": {},
   "outputs": [],
   "source": [
    "# import statements\n",
    "from fastapi import FastAPI, HTTPException\n",
    "import json\n",
    "import numpy as np\n",
    "import pickle\n",
    "import datetime"
   ]
  },
  {
   "cell_type": "markdown",
   "id": "eeb37a5a-4c20-4c88-a617-937fca307d77",
   "metadata": {},
   "source": [
    "Opening arrival airport list"
   ]
  },
  {
   "cell_type": "code",
   "execution_count": null,
   "id": "0c61499b-f3b5-4825-963c-1397d025361f",
   "metadata": {},
   "outputs": [],
   "source": [
    "# Opening airport encodings\n",
    "f = open('airport_encodings.json')\n",
    "# returns JSON object as a dictionary\n",
    "airports = json.load(f)"
   ]
  },
  {
   "cell_type": "code",
   "execution_count": null,
   "id": "c68f7246-ad18-478c-84b7-d7bda9073f2f",
   "metadata": {},
   "outputs": [],
   "source": [
    "def create_airport_encoding(airport: str, airports: dict) -> np.array:\n",
    "    \"\"\"\n",
    "    create_airport_encoding is a function that creates an array the length of all arrival airports from the chosen\n",
    "    departure aiport.  The array consists of all zeros except for the specified arrival airport, which is a 1. Required\n",
    "    as part of input to saved polynomial regression model.\n",
    "\n",
    "    Parameters\n",
    "    ----------\n",
    "    airport : str\n",
    "        The specified arrival airport code as a string.\n",
    "\n",
    "    airports: dict\n",
    "        A dictionary containing all of the arrival airport codes served from the chosen departure airport.\n",
    "\n",
    "    Returns\n",
    "    -------\n",
    "    np.array\n",
    "        A NumPy array the length of the number of arrival airports.  All zeros except for a single 1 \n",
    "        denoting the arrival airport.  Returns None if arrival airport is not found in the input list.\n",
    "\n",
    "    \"\"\"\n",
    "    temp = np.zeros(len(airports))\n",
    "    if airport in airports:\n",
    "        temp[airports.get(airport)] = 1\n",
    "        temp = temp.T\n",
    "        return temp\n",
    "    else:\n",
    "        return None"
   ]
  },
  {
   "cell_type": "code",
   "execution_count": null,
   "id": "15034af4-05bc-438e-ab5d-f67e5a673cbe",
   "metadata": {},
   "outputs": [],
   "source": [
    "# TODO:  write the back-end logic to provide a prediction given the inputs\n",
    "# requires finalized_model.pkl to be loaded\n",
    "# the model must be passed a NumPy array consisting of the following:\n",
    "# (polynomial order, encoded airport array, departure time as seconds since midnight, arrival time as seconds since midnight)\n",
    "# the polynomial order is 1 unless you changed it during model training in Task 2\n",
    "# YOUR CODE GOES HERE"
   ]
  },
  {
   "cell_type": "code",
   "execution_count": null,
   "id": "efbe0d2e-e8be-4a78-8a25-465e5501f9f1",
   "metadata": {},
   "outputs": [],
   "source": [
    "# TODO:  write the API endpoints.  \n",
    "# YOUR CODE GOES HERE"
   ]
  }
 ],
 "metadata": {
  "kernelspec": {
   "display_name": "Python 3 (ipykernel)",
   "language": "python",
   "name": "python3"
  },
  "language_info": {
   "codemirror_mode": {
    "name": "ipython",
    "version": 3
   },
   "file_extension": ".py",
   "mimetype": "text/x-python",
   "name": "python",
   "nbconvert_exporter": "python",
   "pygments_lexer": "ipython3",
   "version": "3.12.1"
  }
 },
 "nbformat": 4,
 "nbformat_minor": 5
}
