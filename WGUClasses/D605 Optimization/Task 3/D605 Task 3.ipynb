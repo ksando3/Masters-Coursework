{
 "cells": [
  {
   "cell_type": "code",
   "execution_count": 1,
   "id": "cb6ea943",
   "metadata": {},
   "outputs": [],
   "source": [
    "import scipy\n",
    "import pulp"
   ]
  },
  {
   "cell_type": "markdown",
   "id": "21ec5459",
   "metadata": {},
   "source": [
    "# Bringing in the data from the word document"
   ]
  },
  {
   "cell_type": "code",
   "execution_count": 2,
   "id": "ab7caca3",
   "metadata": {},
   "outputs": [],
   "source": [
    "## In-text Citation:\n",
    "\n",
    "## Stack Overflow(Aug. 28th, 2024) python-docx: Parse a table to Panda Dataframe Retrieved April 2nd, 2025 From \n",
    "## https://stackoverflow.com/questions/58254609/python-docx-parse-a-table-to-panda-dataframe \n",
    "\n",
    "from docx import Document  # Import the Document class from the docx module to work with Word documents\n",
    "import pandas as pd  # Import pandas for data manipulation and analysis\n",
    "\n",
    "# Load the Word document\n",
    "document = Document('Amazon Distribution.docx')\n",
    "\n",
    "# Initialize an empty list to store tables\n",
    "tables = []\n",
    "\n",
    "# Iterate through each table in the document\n",
    "for table in document.tables:\n",
    "    # Create a DataFrame structure with empty strings, sized by the number of rows and columns in the table\n",
    "    df = [['' for _ in range(len(table.columns))] for _ in range(len(table.rows))]\n",
    "    \n",
    "    # Iterate through each row in the current table\n",
    "    for i, row in enumerate(table.rows):\n",
    "        # Iterate through each cell in the current row\n",
    "        for j, cell in enumerate(row.cells):\n",
    "            # If the cell has text, store it in the corresponding DataFrame position\n",
    "            if cell.text:\n",
    "                df[i][j] = cell.text\n",
    "    \n",
    "    # Convert the list of lists (df) to a pandas DataFrame and add it to the tables list\n",
    "    tables.append(pd.DataFrame(df))\n",
    "\n",
    "# Print the list of DataFrames representing the tables\n",
    "#print(tables)"
   ]
  },
  {
   "cell_type": "code",
   "execution_count": 3,
   "id": "6ae0f37e",
   "metadata": {},
   "outputs": [],
   "source": [
    "hubs = tables[0]\n",
    "focus_cities = tables[1]\n",
    "centers = tables[2]\n",
    "suppliers = tables[3]"
   ]
  },
  {
   "cell_type": "code",
   "execution_count": 4,
   "id": "c34992d7",
   "metadata": {},
   "outputs": [],
   "source": [
    "hubs = hubs[2:].reset_index()\n",
    "hubs = hubs.drop(columns= ['index'])\n",
    "hubs = hubs.rename(columns={0: \"Hub\", 1: \"Current Tons\", 2: \"Capacity (Monthly Tons)\"})\n",
    "\n",
    "## Replacing the string value from the word doc to the integer value\n",
    "for i in range(0, len(hubs['Current Tons'])):\n",
    "    hubs['Current Tons'][i] = int(hubs['Current Tons'][i].replace(',', ''))\n",
    "    hubs['Capacity (Monthly Tons)'][i] = int(hubs['Capacity (Monthly Tons)'][i].replace(',', ''))"
   ]
  },
  {
   "cell_type": "code",
   "execution_count": 5,
   "id": "eeb05d03",
   "metadata": {},
   "outputs": [],
   "source": [
    "focus_cities = focus_cities[2:].reset_index()\n",
    "focus_cities = focus_cities.drop(columns= ['index'])\n",
    "focus_cities = focus_cities.rename(columns={0: \"City\", 1: \"Airport\", 2: \"Capacity (Monthly Tons)\"})\n",
    "\n",
    "## Replacing the string value from the word doc to the integer value\n",
    "for i in range(0, len(focus_cities['Capacity (Monthly Tons)'])):\n",
    "    focus_cities['Capacity (Monthly Tons)'][i] = int(focus_cities['Capacity (Monthly Tons)'][i].replace(',', ''))"
   ]
  },
  {
   "cell_type": "code",
   "execution_count": 6,
   "id": "d2eb0243",
   "metadata": {},
   "outputs": [],
   "source": [
    "centers = centers[2:].reset_index()\n",
    "centers = centers.drop(columns= ['index'])\n",
    "centers = centers.rename(columns={0: \"Country\", 1: \"City\", 2: \"Demand (Monthly Tons)\"})\n",
    "\n",
    "## Replacing the string value from the word doc to the integer value\n",
    "for i in range(0, len(centers['Demand (Monthly Tons)'])):\n",
    "    centers['Demand (Monthly Tons)'][i] = int(centers['Demand (Monthly Tons)'][i].replace(',', ''))\n"
   ]
  },
  {
   "cell_type": "code",
   "execution_count": 7,
   "id": "8e3fab55",
   "metadata": {},
   "outputs": [],
   "source": [
    "suppliers = suppliers[1:].reset_index()\n",
    "suppliers = suppliers.drop(columns= ['index'])\n",
    "suppliers = suppliers.rename(columns={0: \"City\", 1: \"Cincinnati/Northern Kentucky (CVG)\", 2: \"Alliance Fort Worth (AFW)\",\n",
    "                            3: \"Leipzig\", 4: \"Hyderabad\",\n",
    "                            5: \"San Bernardino\"})\n",
    "## Finding all the N/A string values and setting them to 99999, a number way larger than anything\n",
    "## else so it won't find false solutions. \n",
    "suppliers.loc[suppliers['Cincinnati/Northern Kentucky (CVG)'] == 'N/A', 'Cincinnati/Northern Kentucky (CVG)'] = '99999'\n",
    "suppliers.loc[suppliers['Alliance Fort Worth (AFW)'] == 'N/A', 'Alliance Fort Worth (AFW)'] = '99999'\n",
    "suppliers.loc[suppliers['Leipzig'] == 'N/A', 'Leipzig'] = '99999'\n",
    "suppliers.loc[suppliers['Hyderabad'] == 'N/A', 'Hyderabad'] = '99999'\n",
    "suppliers.loc[suppliers['San Bernardino'] == 'N/A', 'San Bernardino'] = '99999'\n",
    "\n",
    "## Replacing the string value from the word doc to the integer value\n",
    "for i in range(0, len(suppliers['Cincinnati/Northern Kentucky (CVG)'])):\n",
    "    suppliers['Cincinnati/Northern Kentucky (CVG)'][i] = float(suppliers['Cincinnati/Northern Kentucky (CVG)'][i])\n",
    "    suppliers['Alliance Fort Worth (AFW)'][i] = float(suppliers['Alliance Fort Worth (AFW)'][i])\n",
    "    suppliers['Leipzig'][i] = float(suppliers['Leipzig'][i])\n",
    "    suppliers['Hyderabad'][i] = float(suppliers['Hyderabad'][i])\n",
    "    suppliers['San Bernardino'][i] = float(suppliers['San Bernardino'][i])\n",
    "    \n"
   ]
  },
  {
   "cell_type": "code",
   "execution_count": 8,
   "id": "2f7f5d9e",
   "metadata": {},
   "outputs": [
    {
     "data": {
      "text/html": [
       "<div>\n",
       "<style scoped>\n",
       "    .dataframe tbody tr th:only-of-type {\n",
       "        vertical-align: middle;\n",
       "    }\n",
       "\n",
       "    .dataframe tbody tr th {\n",
       "        vertical-align: top;\n",
       "    }\n",
       "\n",
       "    .dataframe thead th {\n",
       "        text-align: right;\n",
       "    }\n",
       "</style>\n",
       "<table border=\"1\" class=\"dataframe\">\n",
       "  <thead>\n",
       "    <tr style=\"text-align: right;\">\n",
       "      <th></th>\n",
       "      <th>Hub</th>\n",
       "      <th>Current Tons</th>\n",
       "      <th>Capacity (Monthly Tons)</th>\n",
       "    </tr>\n",
       "  </thead>\n",
       "  <tbody>\n",
       "    <tr>\n",
       "      <th>0</th>\n",
       "      <td>Cincinnati/Northern Kentucky (CVG)</td>\n",
       "      <td>82800</td>\n",
       "      <td>95650</td>\n",
       "    </tr>\n",
       "    <tr>\n",
       "      <th>1</th>\n",
       "      <td>Alliance Fort Worth (AFW)</td>\n",
       "      <td>38400</td>\n",
       "      <td>44350</td>\n",
       "    </tr>\n",
       "  </tbody>\n",
       "</table>\n",
       "</div>"
      ],
      "text/plain": [
       "                                  Hub Current Tons Capacity (Monthly Tons)\n",
       "0  Cincinnati/Northern Kentucky (CVG)        82800                   95650\n",
       "1           Alliance Fort Worth (AFW)        38400                   44350"
      ]
     },
     "execution_count": 8,
     "metadata": {},
     "output_type": "execute_result"
    }
   ],
   "source": [
    "hubs.head()"
   ]
  },
  {
   "cell_type": "code",
   "execution_count": 9,
   "id": "4ea3110c",
   "metadata": {},
   "outputs": [
    {
     "data": {
      "text/html": [
       "<div>\n",
       "<style scoped>\n",
       "    .dataframe tbody tr th:only-of-type {\n",
       "        vertical-align: middle;\n",
       "    }\n",
       "\n",
       "    .dataframe tbody tr th {\n",
       "        vertical-align: top;\n",
       "    }\n",
       "\n",
       "    .dataframe thead th {\n",
       "        text-align: right;\n",
       "    }\n",
       "</style>\n",
       "<table border=\"1\" class=\"dataframe\">\n",
       "  <thead>\n",
       "    <tr style=\"text-align: right;\">\n",
       "      <th></th>\n",
       "      <th>City</th>\n",
       "      <th>Airport</th>\n",
       "      <th>Capacity (Monthly Tons)</th>\n",
       "    </tr>\n",
       "  </thead>\n",
       "  <tbody>\n",
       "    <tr>\n",
       "      <th>0</th>\n",
       "      <td>Leipzig</td>\n",
       "      <td>Leipzig/Halle Airport</td>\n",
       "      <td>85000</td>\n",
       "    </tr>\n",
       "    <tr>\n",
       "      <th>1</th>\n",
       "      <td>Hyderabad</td>\n",
       "      <td>Rajiv Gandhi International Airport</td>\n",
       "      <td>19000</td>\n",
       "    </tr>\n",
       "    <tr>\n",
       "      <th>2</th>\n",
       "      <td>San Bernardino</td>\n",
       "      <td>San Bernardino International Airport</td>\n",
       "      <td>36000</td>\n",
       "    </tr>\n",
       "  </tbody>\n",
       "</table>\n",
       "</div>"
      ],
      "text/plain": [
       "             City                               Airport  \\\n",
       "0         Leipzig                 Leipzig/Halle Airport   \n",
       "1       Hyderabad    Rajiv Gandhi International Airport   \n",
       "2  San Bernardino  San Bernardino International Airport   \n",
       "\n",
       "  Capacity (Monthly Tons)  \n",
       "0                   85000  \n",
       "1                   19000  \n",
       "2                   36000  "
      ]
     },
     "execution_count": 9,
     "metadata": {},
     "output_type": "execute_result"
    }
   ],
   "source": [
    "focus_cities.head()"
   ]
  },
  {
   "cell_type": "code",
   "execution_count": 10,
   "id": "9333f8ad",
   "metadata": {},
   "outputs": [
    {
     "data": {
      "text/html": [
       "<div>\n",
       "<style scoped>\n",
       "    .dataframe tbody tr th:only-of-type {\n",
       "        vertical-align: middle;\n",
       "    }\n",
       "\n",
       "    .dataframe tbody tr th {\n",
       "        vertical-align: top;\n",
       "    }\n",
       "\n",
       "    .dataframe thead th {\n",
       "        text-align: right;\n",
       "    }\n",
       "</style>\n",
       "<table border=\"1\" class=\"dataframe\">\n",
       "  <thead>\n",
       "    <tr style=\"text-align: right;\">\n",
       "      <th></th>\n",
       "      <th>Country</th>\n",
       "      <th>City</th>\n",
       "      <th>Demand (Monthly Tons)</th>\n",
       "    </tr>\n",
       "  </thead>\n",
       "  <tbody>\n",
       "    <tr>\n",
       "      <th>0</th>\n",
       "      <td>France</td>\n",
       "      <td>Paris</td>\n",
       "      <td>6500</td>\n",
       "    </tr>\n",
       "    <tr>\n",
       "      <th>1</th>\n",
       "      <td>Germany</td>\n",
       "      <td>Cologne</td>\n",
       "      <td>640</td>\n",
       "    </tr>\n",
       "    <tr>\n",
       "      <th>2</th>\n",
       "      <td>Germany</td>\n",
       "      <td>Hanover</td>\n",
       "      <td>180</td>\n",
       "    </tr>\n",
       "    <tr>\n",
       "      <th>3</th>\n",
       "      <td>India</td>\n",
       "      <td>Bangalore</td>\n",
       "      <td>9100</td>\n",
       "    </tr>\n",
       "    <tr>\n",
       "      <th>4</th>\n",
       "      <td>India</td>\n",
       "      <td>Coimbatore</td>\n",
       "      <td>570</td>\n",
       "    </tr>\n",
       "  </tbody>\n",
       "</table>\n",
       "</div>"
      ],
      "text/plain": [
       "   Country        City Demand (Monthly Tons)\n",
       "0   France       Paris                  6500\n",
       "1  Germany     Cologne                   640\n",
       "2  Germany     Hanover                   180\n",
       "3    India   Bangalore                  9100\n",
       "4    India  Coimbatore                   570"
      ]
     },
     "execution_count": 10,
     "metadata": {},
     "output_type": "execute_result"
    }
   ],
   "source": [
    "centers.head()"
   ]
  },
  {
   "cell_type": "code",
   "execution_count": 11,
   "id": "a5307ee5",
   "metadata": {},
   "outputs": [
    {
     "data": {
      "text/html": [
       "<div>\n",
       "<style scoped>\n",
       "    .dataframe tbody tr th:only-of-type {\n",
       "        vertical-align: middle;\n",
       "    }\n",
       "\n",
       "    .dataframe tbody tr th {\n",
       "        vertical-align: top;\n",
       "    }\n",
       "\n",
       "    .dataframe thead th {\n",
       "        text-align: right;\n",
       "    }\n",
       "</style>\n",
       "<table border=\"1\" class=\"dataframe\">\n",
       "  <thead>\n",
       "    <tr style=\"text-align: right;\">\n",
       "      <th></th>\n",
       "      <th>City</th>\n",
       "      <th>Cincinnati/Northern Kentucky (CVG)</th>\n",
       "      <th>Alliance Fort Worth (AFW)</th>\n",
       "      <th>Leipzig</th>\n",
       "      <th>Hyderabad</th>\n",
       "      <th>San Bernardino</th>\n",
       "    </tr>\n",
       "  </thead>\n",
       "  <tbody>\n",
       "    <tr>\n",
       "      <th>0</th>\n",
       "      <td>Leipzig</td>\n",
       "      <td>1.5</td>\n",
       "      <td>99999.0</td>\n",
       "      <td>99999.0</td>\n",
       "      <td>99999.0</td>\n",
       "      <td>99999.0</td>\n",
       "    </tr>\n",
       "    <tr>\n",
       "      <th>1</th>\n",
       "      <td>Hyderabad</td>\n",
       "      <td>99999.0</td>\n",
       "      <td>99999.0</td>\n",
       "      <td>1.6</td>\n",
       "      <td>99999.0</td>\n",
       "      <td>99999.0</td>\n",
       "    </tr>\n",
       "    <tr>\n",
       "      <th>2</th>\n",
       "      <td>San Bernardino</td>\n",
       "      <td>0.5</td>\n",
       "      <td>0.5</td>\n",
       "      <td>99999.0</td>\n",
       "      <td>99999.0</td>\n",
       "      <td>99999.0</td>\n",
       "    </tr>\n",
       "    <tr>\n",
       "      <th>3</th>\n",
       "      <td>Paris</td>\n",
       "      <td>1.6</td>\n",
       "      <td>99999.0</td>\n",
       "      <td>0.5</td>\n",
       "      <td>1.1</td>\n",
       "      <td>99999.0</td>\n",
       "    </tr>\n",
       "    <tr>\n",
       "      <th>4</th>\n",
       "      <td>Cologne</td>\n",
       "      <td>1.5</td>\n",
       "      <td>99999.0</td>\n",
       "      <td>0.5</td>\n",
       "      <td>1.0</td>\n",
       "      <td>99999.0</td>\n",
       "    </tr>\n",
       "  </tbody>\n",
       "</table>\n",
       "</div>"
      ],
      "text/plain": [
       "             City Cincinnati/Northern Kentucky (CVG)  \\\n",
       "0         Leipzig                                1.5   \n",
       "1       Hyderabad                            99999.0   \n",
       "2  San Bernardino                                0.5   \n",
       "3           Paris                                1.6   \n",
       "4         Cologne                                1.5   \n",
       "\n",
       "  Alliance Fort Worth (AFW)  Leipzig Hyderabad San Bernardino  \n",
       "0                   99999.0  99999.0   99999.0        99999.0  \n",
       "1                   99999.0      1.6   99999.0        99999.0  \n",
       "2                       0.5  99999.0   99999.0        99999.0  \n",
       "3                   99999.0      0.5       1.1        99999.0  \n",
       "4                   99999.0      0.5       1.0        99999.0  "
      ]
     },
     "execution_count": 11,
     "metadata": {},
     "output_type": "execute_result"
    }
   ],
   "source": [
    "suppliers.head()"
   ]
  },
  {
   "cell_type": "markdown",
   "id": "05f6fe67",
   "metadata": {},
   "source": [
    "# Variables\n"
   ]
  },
  {
   "cell_type": "code",
   "execution_count": 12,
   "id": "5d7c5abe",
   "metadata": {},
   "outputs": [],
   "source": [
    "hubs_list = []\n",
    "focus_cities_list = []\n",
    "centers_list = []\n",
    "for i in range(0, len(hubs['Hub'])):\n",
    "    hubs_list.append(hubs['Hub'][i])\n",
    "for i in range(0, len(focus_cities['City'])):\n",
    "    focus_cities_list.append(focus_cities['City'][i])\n",
    "for i in range(0, len(centers['City'])):\n",
    "    centers_list.append(centers['City'][i])"
   ]
  },
  {
   "cell_type": "code",
   "execution_count": 13,
   "id": "7b41486c",
   "metadata": {},
   "outputs": [],
   "source": [
    "## In-text citation\n",
    "## Real Python (n.d.) Hands-On Linear Programming: Optimization With Python Retrieved April 7h, 2025 From \n",
    "## https://realpython.com/linear-programming-python/ \n",
    "\n",
    "cargo_prob = pulp.LpProblem('Cargo_Problem', pulp.LpMinimize)\n",
    "\n",
    "x = pulp.LpVariable.dicts(\"Cargo from\", (hubs_list, focus_cities_list), lowBound=0, cat='Continuous')\n",
    "y = pulp.LpVariable.dicts(\"Cargo from\", (hubs_list, centers_list), lowBound=0, cat='Continuous')\n",
    "z = pulp.LpVariable.dicts(\"Cargo from\", (focus_cities_list, centers_list), lowBound=0, cat='Continuous')"
   ]
  },
  {
   "cell_type": "markdown",
   "id": "37649e0c",
   "metadata": {},
   "source": [
    "# Objective\n",
    "\n",
    "### The objective function is to minimize the sum of [sum(cost * x) + sum (cost * y) + sum(cost * z)]"
   ]
  },
  {
   "cell_type": "code",
   "execution_count": 14,
   "id": "c3decf21",
   "metadata": {},
   "outputs": [],
   "source": [
    "## Finding a way to locate the cost for each connection\n",
    "\n",
    "def cost_finder(start, end, suppliers):\n",
    "    return suppliers.loc[suppliers['City']==end, start].values"
   ]
  },
  {
   "cell_type": "code",
   "execution_count": 15,
   "id": "df658135",
   "metadata": {},
   "outputs": [],
   "source": [
    "## Only focused on shipment cost to all CENTERS. So just the y and z variables\n",
    "\n",
    "## In-text citation\n",
    "\n",
    "## Rodriguez, T. S. (n.d.) Linear Programming: optimizing solutions with Python using PuLP Retrieved April 9th, 2025 From \n",
    "## https://medium.com/@telmosubirar/linear-programming-optimizing-solutions-with-python-using-pulp-e0c4379696c8 \n",
    "\n",
    "## Real Python (n.d.) Hands-On Linear Programming: Optimization With Python Retrieved April 7h, 2025 From \n",
    "## https://realpython.com/linear-programming-python/ \n",
    "\n",
    "cargo_prob += pulp.lpSum([cost_finder(f, c, suppliers) * z[f][c] for f in focus_cities_list for c in centers_list]) + \\\n",
    "         pulp.lpSum([cost_finder(h, c, suppliers) * y[h][c] for h in hubs_list for c in centers_list]), \"Cargo Cost\""
   ]
  },
  {
   "cell_type": "markdown",
   "id": "bfae8919",
   "metadata": {},
   "source": [
    "# Constraints"
   ]
  },
  {
   "cell_type": "markdown",
   "id": "38f1dcba",
   "metadata": {},
   "source": [
    "# There are 4 inequalities given to be represented as constraints\n",
    "\n",
    "## 1st is Hub Capacities\n",
    "#### In text, the sum of quantity from hub to focus city, plus the sum of all quantity from hub to center, must be less than or equal to the capacity at each hub\n",
    "\n",
    "## 2nd is Quantity into Focus Cities\n",
    "#### In text, the sum of quantity from each hub to focus city, must be less than or equal to the capacity in the respective focus city\n",
    "\n",
    "## 3rd is Quantity out of Focus Cities\n",
    "#### In text, the sum of quantity sent from all focus cities to centers must be equal to the sum of quantity sent out from each hub to each focus city\n",
    "\n",
    "## 4th is Center Demand\n",
    "#### In text, the sum of quantity sent from hubs to centers, plus the sum of quantity sent from focus cities to centers, must be equal to the requirment(demand) at each center"
   ]
  },
  {
   "cell_type": "code",
   "execution_count": 16,
   "id": "90186131",
   "metadata": {},
   "outputs": [],
   "source": [
    "## 1st Hub Capacities\n",
    "\n",
    "## In-text citation\n",
    "## Real Python (n.d.) Hands-On Linear Programming: Optimization With Python Retrieved April 7h, 2025 From \n",
    "## https://realpython.com/linear-programming-python/ \n",
    "\n",
    "for h in hubs_list:\n",
    "    cargo_prob += (pulp.lpSum([x[h][f] for f in focus_cities_list]) + pulp.lpSum([y[h][c] for c in centers_list])) <= hubs.loc[hubs['Hub']==h, 'Capacity (Monthly Tons)'].values[0]"
   ]
  },
  {
   "cell_type": "code",
   "execution_count": 17,
   "id": "9157c71d",
   "metadata": {},
   "outputs": [],
   "source": [
    "## 2nd Quantity into Focus Cities\n",
    "\n",
    "## In-text citation\n",
    "## Real Python (n.d.) Hands-On Linear Programming: Optimization With Python Retrieved April 7h, 2025 From \n",
    "## https://realpython.com/linear-programming-python/ \n",
    "\n",
    "for f in focus_cities_list:\n",
    "    cargo_prob += pulp.lpSum([x[h][f] for h in hubs_list]) <= focus_cities.loc[focus_cities['City']==f, 'Capacity (Monthly Tons)'].values[0]"
   ]
  },
  {
   "cell_type": "code",
   "execution_count": 18,
   "id": "a22d024e",
   "metadata": {},
   "outputs": [],
   "source": [
    "## 3rd Quantity out of Focus Cities\n",
    "\n",
    "## In-text citation\n",
    "## Real Python (n.d.) Hands-On Linear Programming: Optimization With Python Retrieved April 7h, 2025 From \n",
    "## https://realpython.com/linear-programming-python/ \n",
    "\n",
    "for f in focus_cities_list:\n",
    "    cargo_prob += pulp.lpSum([x[h][f] for h in hubs_list]) == pulp.lpSum([z[f][c] for c in centers_list])"
   ]
  },
  {
   "cell_type": "code",
   "execution_count": 19,
   "id": "a32cfbdd",
   "metadata": {},
   "outputs": [],
   "source": [
    "## 4th is Center Demand\n",
    "\n",
    "## In-text citation\n",
    "## Real Python (n.d.) Hands-On Linear Programming: Optimization With Python Retrieved April 7h, 2025 From \n",
    "## https://realpython.com/linear-programming-python/ \n",
    "\n",
    "for c in centers_list:\n",
    "    cargo_prob += (pulp.lpSum([y[h][c] for h in hubs_list]) + pulp.lpSum([z[f][c] for f in focus_cities_list])) == centers.loc[centers['City']==c, 'Demand (Monthly Tons)'].values[0]"
   ]
  },
  {
   "cell_type": "code",
   "execution_count": 20,
   "id": "9e115a59",
   "metadata": {
    "scrolled": false
   },
   "outputs": [
    {
     "name": "stdout",
     "output_type": "stream",
     "text": [
      "Ship:  38865.0 tons from Cincinnati/Northern Kentucky (CVG) to Leipzig\n",
      "Ship:  213.0 tons from Cincinnati/Northern Kentucky (CVG) to San Bernardino\n",
      "Ship:  19000.0 tons from Alliance Fort Worth (AFW) to Hyderabad\n",
      "Ship:  9100.0 tons from Cincinnati/Northern Kentucky (CVG) to Bangalore\n",
      "Ship:  190.0 tons from Cincinnati/Northern Kentucky (CVG) to Mobile\n",
      "Ship:  2400.0 tons from Cincinnati/Northern Kentucky (CVG) to Phoenix\n",
      "Ship:  1900.0 tons from Cincinnati/Northern Kentucky (CVG) to San Francisco\n",
      "Ship:  240.0 tons from Cincinnati/Northern Kentucky (CVG) to Stockton\n",
      "Ship:  1500.0 tons from Cincinnati/Northern Kentucky (CVG) to Denver\n",
      "Ship:  540.0 tons from Cincinnati/Northern Kentucky (CVG) to Hartford\n",
      "Ship:  1600.0 tons from Cincinnati/Northern Kentucky (CVG) to Tampa\n",
      "Ship:  3000.0 tons from Cincinnati/Northern Kentucky (CVG) to Atlanta\n",
      "Ship:  3679.0 tons from Cincinnati/Northern Kentucky (CVG) to Chicago\n",
      "Ship:  172.0 tons from Cincinnati/Northern Kentucky (CVG) to Rockford\n",
      "Ship:  173.0 tons from Cincinnati/Northern Kentucky (CVG) to South Bend\n",
      "Ship:  300.0 tons from Cincinnati/Northern Kentucky (CVG) to Des Moines\n",
      "Ship:  290.0 tons from Cincinnati/Northern Kentucky (CVG) to Wichita\n",
      "Ship:  550.0 tons from Cincinnati/Northern Kentucky (CVG) to New Orleans\n",
      "Ship:  1300.0 tons from Cincinnati/Northern Kentucky (CVG) to Baltimore\n",
      "Ship:  975.0 tons from Cincinnati/Northern Kentucky (CVG) to Kansas City\n",
      "Ship:  1200.0 tons from Cincinnati/Northern Kentucky (CVG) to St. Louis\n",
      "Ship:  100.0 tons from Cincinnati/Northern Kentucky (CVG) to Manchester\n",
      "Ship:  11200.0 tons from Cincinnati/Northern Kentucky (CVG) to New York\n",
      "Ship:  900.0 tons from Cincinnati/Northern Kentucky (CVG) to Charlotte\n",
      "Ship:  150.0 tons from Cincinnati/Northern Kentucky (CVG) to Wilmington\n",
      "Ship:  1200.0 tons from Cincinnati/Northern Kentucky (CVG) to Portland\n",
      "Ship:  1000.0 tons from Cincinnati/Northern Kentucky (CVG) to Pittsburgh\n",
      "Ship:  1100.0 tons from Cincinnati/Northern Kentucky (CVG) to San Juan\n",
      "Ship:  3300.0 tons from Cincinnati/Northern Kentucky (CVG) to Dallas\n",
      "Ship:  2000.0 tons from Cincinnati/Northern Kentucky (CVG) to Seattle/Tacoma\n",
      "Ship:  260.0 tons from Cincinnati/Northern Kentucky (CVG) to Spokane\n",
      "Ship:  7200.0 tons from Alliance Fort Worth (AFW) to Los Angeles\n",
      "Ship:  100.0 tons from Alliance Fort Worth (AFW) to Ontario\n",
      "Ship:  1200.0 tons from Alliance Fort Worth (AFW) to Riverside\n",
      "Ship:  1100.0 tons from Alliance Fort Worth (AFW) to Sacramento\n",
      "Ship:  3400.0 tons from Alliance Fort Worth (AFW) to Miami\n",
      "Ship:  185.0 tons from Alliance Fort Worth (AFW) to Lakeland\n",
      "Ship:  500.0 tons from Alliance Fort Worth (AFW) to Honolulu\n",
      "Ship:  16.0 tons from Alliance Fort Worth (AFW) to Kahului/Maui\n",
      "Ship:  63.0 tons from Alliance Fort Worth (AFW) to Kona\n",
      "Ship:  1421.0 tons from Alliance Fort Worth (AFW) to Chicago\n",
      "Ship:  200.0 tons from Alliance Fort Worth (AFW) to Fort Wayne\n",
      "Ship:  1700.0 tons from Alliance Fort Worth (AFW) to Minneapolis\n",
      "Ship:  480.0 tons from Alliance Fort Worth (AFW) to Omaha\n",
      "Ship:  450.0 tons from Alliance Fort Worth (AFW) to Albuquerque\n",
      "Ship:  290.0 tons from Alliance Fort Worth (AFW) to Toledo\n",
      "Ship:  420.0 tons from Alliance Fort Worth (AFW) to Allentown\n",
      "Ship:  650.0 tons from Alliance Fort Worth (AFW) to Nashville\n",
      "Ship:  975.0 tons from Alliance Fort Worth (AFW) to Austin\n",
      "Ship:  3300.0 tons from Alliance Fort Worth (AFW) to Houston\n",
      "Ship:  1100.0 tons from Alliance Fort Worth (AFW) to San Antonio\n",
      "Ship:  600.0 tons from Alliance Fort Worth (AFW) to Richmond\n",
      "Ship:  6500.0 tons from Leipzig to Paris\n",
      "Ship:  640.0 tons from Leipzig to Cologne\n",
      "Ship:  180.0 tons from Leipzig to Hanover\n",
      "Ship:  570.0 tons from Leipzig to Coimbatore\n",
      "Ship:  14800.0 tons from Leipzig to Mumbai\n",
      "Ship:  90.0 tons from Leipzig to Cagliari\n",
      "Ship:  185.0 tons from Leipzig to Catania\n",
      "Ship:  800.0 tons from Leipzig to Milan\n",
      "Ship:  1700.0 tons from Leipzig to Rome\n",
      "Ship:  170.0 tons from Leipzig to Katowice\n",
      "Ship:  2800.0 tons from Leipzig to Barcelona\n",
      "Ship:  3700.0 tons from Leipzig to Madrid\n",
      "Ship:  30.0 tons from Leipzig to Castle Donington\n",
      "Ship:  6700.0 tons from Leipzig to London\n",
      "Ship:  19000.0 tons from Hyderabad to Delhi\n",
      "Ship:  175.0 tons from San Bernardino to Anchorage\n",
      "Ship:  38.0 tons from San Bernardino to Fairbanks\n"
     ]
    }
   ],
   "source": [
    "\n",
    "## In-text citation\n",
    "## Real Python (n.d.) Hands-On Linear Programming: Optimization With Python Retrieved April 7h, 2025 From \n",
    "## https://realpython.com/linear-programming-python/ \n",
    "\n",
    "cargo_prob.solve()\n",
    "\n",
    "if pulp.LpStatus[cargo_prob.status] == \"Optimal\":\n",
    "    for h in hubs_list:\n",
    "        for f in focus_cities_list:\n",
    "            if x[h][f].varValue > 0:\n",
    "                print(\"Ship: \", x[h][f].varValue, \"tons from\", h, \"to\", f)\n",
    "    for h in hubs_list:\n",
    "        for c in centers_list:\n",
    "            if y[h][c].varValue > 0:\n",
    "                print(\"Ship: \", y[h][c].varValue, \"tons from\", h, \"to\", c)\n",
    "    for f in focus_cities_list:\n",
    "        for c in centers_list:\n",
    "            if z[f][c].varValue > 0:\n",
    "                print(\"Ship: \", z[f][c].varValue, \"tons from\", f, \"to\", c)\n",
    "else:\n",
    "    print(\"Could not find an optimal solution\")"
   ]
  },
  {
   "cell_type": "code",
   "execution_count": 21,
   "id": "cd2677df",
   "metadata": {},
   "outputs": [
    {
     "name": "stdout",
     "output_type": "stream",
     "text": [
      "Cincinnati/Northern Kentucky (CVG) capacity constraint:  89397.0 <= 95650 satisfied\n",
      "Alliance Fort Worth (AFW) capacity constraint:  44350.0 <= 44350 satisfied\n"
     ]
    }
   ],
   "source": [
    "#Checking constraints: hub capacity\n",
    "\n",
    "## In-text citation\n",
    "## Real Python (n.d.) Hands-On Linear Programming: Optimization With Python Retrieved April 7h, 2025 From \n",
    "## https://realpython.com/linear-programming-python/ \n",
    "\n",
    "for h in hubs_list:\n",
    "    hub_shipment_quantity = sum(x[h][f].varValue for f in focus_cities_list) + sum(y[h][c].varValue for c in centers_list)\n",
    "    if hub_shipment_quantity <= hubs.loc[hubs['Hub']==h, 'Capacity (Monthly Tons)'].values[0]:\n",
    "        print(h, \"capacity constraint: \", hub_shipment_quantity, '<=', hubs.loc[hubs['Hub']==h, 'Capacity (Monthly Tons)'].values[0], \"satisfied\")\n",
    "    else:\n",
    "        print(h, \"capacity constraint: \", hub_shipment_quantity, '>', hubs.loc[hubs['Hub']==h, 'Capacity (Monthly Tons)'].values[0], \"failed\")\n"
   ]
  },
  {
   "cell_type": "code",
   "execution_count": 22,
   "id": "c98c63ae",
   "metadata": {},
   "outputs": [
    {
     "name": "stdout",
     "output_type": "stream",
     "text": [
      "Leipzig capacity constraint:  38865.0 <= 85000 satisifed\n",
      "Hyderabad capacity constraint:  19000.0 <= 19000 satisifed\n",
      "San Bernardino capacity constraint:  213.0 <= 36000 satisifed\n"
     ]
    }
   ],
   "source": [
    "#Checking constraints: focus city capacity\n",
    "\n",
    "## In-text citation\n",
    "## Real Python (n.d.) Hands-On Linear Programming: Optimization With Python Retrieved April 7h, 2025 From \n",
    "## https://realpython.com/linear-programming-python/ \n",
    "\n",
    "for f in focus_cities_list:\n",
    "    focus_cities_shipment_quantity = sum(x[h][f].varValue for h in hubs_list)\n",
    "    if focus_cities_shipment_quantity <= focus_cities.loc[focus_cities['City']==f, 'Capacity (Monthly Tons)'].values[0]:\n",
    "        print(f, \"capacity constraint: \", focus_cities_shipment_quantity, \"<=\", focus_cities.loc[focus_cities['City']==f, 'Capacity (Monthly Tons)'].values[0], \"satisifed\")\n",
    "    else:\n",
    "        print(f, \"capacity constraint: \", focus_cities_shipment_quantity, \">\", focus_cities.loc[focus_cities['City']==f, 'Capacity (Monthly Tons)'].values[0], \"failed\")\n"
   ]
  },
  {
   "cell_type": "code",
   "execution_count": 23,
   "id": "1c1f48f0",
   "metadata": {},
   "outputs": [
    {
     "name": "stdout",
     "output_type": "stream",
     "text": [
      "Paris demand constraint:  True\n",
      "Cologne demand constraint:  True\n",
      "Hanover demand constraint:  True\n",
      "Bangalore demand constraint:  True\n",
      "Coimbatore demand constraint:  True\n",
      "Delhi demand constraint:  True\n",
      "Mumbai demand constraint:  True\n",
      "Cagliari demand constraint:  True\n",
      "Catania demand constraint:  True\n",
      "Milan demand constraint:  True\n",
      "Rome demand constraint:  True\n",
      "Katowice demand constraint:  True\n",
      "Barcelona demand constraint:  True\n",
      "Madrid demand constraint:  True\n",
      "Castle Donington demand constraint:  True\n",
      "London demand constraint:  True\n",
      "Mobile demand constraint:  True\n",
      "Anchorage demand constraint:  True\n",
      "Fairbanks demand constraint:  True\n",
      "Phoenix demand constraint:  True\n",
      "Los Angeles demand constraint:  True\n",
      "Ontario demand constraint:  True\n",
      "Riverside demand constraint:  True\n",
      "Sacramento demand constraint:  True\n",
      "San Francisco demand constraint:  True\n",
      "Stockton demand constraint:  True\n",
      "Denver demand constraint:  True\n",
      "Hartford demand constraint:  True\n",
      "Miami demand constraint:  True\n",
      "Lakeland demand constraint:  True\n",
      "Tampa demand constraint:  True\n",
      "Atlanta demand constraint:  True\n",
      "Honolulu demand constraint:  True\n",
      "Kahului/Maui demand constraint:  True\n",
      "Kona demand constraint:  True\n",
      "Chicago demand constraint:  True\n",
      "Rockford demand constraint:  True\n",
      "Fort Wayne demand constraint:  True\n",
      "South Bend demand constraint:  True\n",
      "Des Moines demand constraint:  True\n",
      "Wichita demand constraint:  True\n",
      "New Orleans demand constraint:  True\n",
      "Baltimore demand constraint:  True\n",
      "Minneapolis demand constraint:  True\n",
      "Kansas City demand constraint:  True\n",
      "St. Louis demand constraint:  True\n",
      "Omaha demand constraint:  True\n",
      "Manchester demand constraint:  True\n",
      "Albuquerque demand constraint:  True\n",
      "New York demand constraint:  True\n",
      "Charlotte demand constraint:  True\n",
      "Toledo demand constraint:  True\n",
      "Wilmington demand constraint:  True\n",
      "Portland demand constraint:  True\n",
      "Allentown demand constraint:  True\n",
      "Pittsburgh demand constraint:  True\n",
      "San Juan demand constraint:  True\n",
      "Nashville demand constraint:  True\n",
      "Austin demand constraint:  True\n",
      "Dallas demand constraint:  True\n",
      "Houston demand constraint:  True\n",
      "San Antonio demand constraint:  True\n",
      "Richmond demand constraint:  True\n",
      "Seattle/Tacoma demand constraint:  True\n",
      "Spokane demand constraint:  True\n",
      "Number of trues:  65\n",
      "Number of falses:  0\n",
      "Number of constraints:  65\n"
     ]
    }
   ],
   "source": [
    "#Checking constraints: center demand\n",
    "\n",
    "## In-text citation\n",
    "## Real Python (n.d.) Hands-On Linear Programming: Optimization With Python Retrieved April 7h, 2025 From \n",
    "## https://realpython.com/linear-programming-python/ \n",
    "\n",
    "true = 0\n",
    "false = 0\n",
    "for c in centers_list:\n",
    "    centers_shipment_quantity = sum(z[f][c].varValue for f in focus_cities_list) + sum([y[h][c].varValue for h in hubs_list])\n",
    "    if centers_shipment_quantity == centers.loc[centers['City']==c, 'Demand (Monthly Tons)'].values[0]:\n",
    "        true = true + 1\n",
    "        print(c, \"demand constraint: \", centers_shipment_quantity == centers.loc[centers['City']==c, 'Demand (Monthly Tons)'].values[0])\n",
    "    else:\n",
    "        false = false + 1\n",
    "        print(c, \"demand constraint: \", centers_shipment_quantity != centers.loc[centers['City']==c, 'Demand (Monthly Tons)'].values[0])\n",
    "print(\"Number of trues: \", true)\n",
    "print(\"Number of falses: \", false)\n",
    "print(\"Number of constraints: \", true + false)"
   ]
  },
  {
   "cell_type": "code",
   "execution_count": 24,
   "id": "6b2f647c",
   "metadata": {},
   "outputs": [
    {
     "name": "stdout",
     "output_type": "stream",
     "text": [
      "Leipzig flow balance constraint True\n",
      "Hyderabad flow balance constraint True\n",
      "San Bernardino flow balance constraint True\n"
     ]
    }
   ],
   "source": [
    "#Checking constraints: flow balance for focus cities\n",
    "\n",
    "## In-text citation\n",
    "## Real Python (n.d.) Hands-On Linear Programming: Optimization With Python Retrieved April 7h, 2025 From \n",
    "## https://realpython.com/linear-programming-python/ \n",
    "\n",
    "for f in focus_cities_list:\n",
    "    total_flow_in = sum(x[h][f].varValue for h in hubs_list)\n",
    "    total_flow_out = sum(z[f][c].varValue for c in centers_list)\n",
    "    if total_flow_in == total_flow_out:\n",
    "        print(f, \"flow balance constraint\", total_flow_in == total_flow_out)\n",
    "    else:\n",
    "        print(f, \"flow balance constraint\", total_flow_in != total_flow_out)\n"
   ]
  }
 ],
 "metadata": {
  "kernelspec": {
   "display_name": "Python 3 (ipykernel)",
   "language": "python",
   "name": "python3"
  },
  "language_info": {
   "codemirror_mode": {
    "name": "ipython",
    "version": 3
   },
   "file_extension": ".py",
   "mimetype": "text/x-python",
   "name": "python",
   "nbconvert_exporter": "python",
   "pygments_lexer": "ipython3",
   "version": "3.11.5"
  }
 },
 "nbformat": 4,
 "nbformat_minor": 5
}
